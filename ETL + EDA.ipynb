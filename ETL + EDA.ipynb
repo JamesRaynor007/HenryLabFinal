{
 "cells": [
  {
   "cell_type": "code",
   "execution_count": 306,
   "metadata": {},
   "outputs": [],
   "source": [
    "import os               #importo os para conocer mi ubicación\n",
    "import csv              #importo csv por el tipo de archivo a trabajar\n",
    "import pandas as pd     #importo pandas para manejar los dataframes"
   ]
  },
  {
   "cell_type": "code",
   "execution_count": 307,
   "metadata": {},
   "outputs": [
    {
     "data": {
      "text/plain": [
       "['credits.csv',\n",
       " 'datasets',\n",
       " 'ETL + EDA backup.ipynb',\n",
       " 'ETL + EDA.ipynb',\n",
       " 'FuncionScore.csv',\n",
       " 'FuncionVotos.csv',\n",
       " 'images',\n",
       " 'main.py',\n",
       " 'movies_dataset.csv',\n",
       " 'PeliculasPorDiaListo.csv',\n",
       " 'Procfile',\n",
       " 'README.md',\n",
       " 'requirements.txt',\n",
       " '__pycache__']"
      ]
     },
     "execution_count": 307,
     "metadata": {},
     "output_type": "execute_result"
    }
   ],
   "source": [
    "os.listdir()            #Reviso que los archivos estén en mi ubicación de trabajo"
   ]
  },
  {
   "cell_type": "code",
   "execution_count": 308,
   "metadata": {},
   "outputs": [
    {
     "name": "stderr",
     "output_type": "stream",
     "text": [
      "C:\\Users\\Aleja\\AppData\\Local\\Temp\\ipykernel_8204\\875673591.py:2: DtypeWarning: Columns (10) have mixed types. Specify dtype option on import or set low_memory=False.\n",
      "  Movies = pd.read_csv(\"movies_dataset.csv\")\n"
     ]
    }
   ],
   "source": [
    "Credits = pd.read_csv(\"credits.csv\")                #cargo los archivos en variables diferentes\n",
    "Movies = pd.read_csv(\"movies_dataset.csv\") "
   ]
  },
  {
   "cell_type": "code",
   "execution_count": 309,
   "metadata": {},
   "outputs": [
    {
     "data": {
      "text/html": [
       "<div>\n",
       "<style scoped>\n",
       "    .dataframe tbody tr th:only-of-type {\n",
       "        vertical-align: middle;\n",
       "    }\n",
       "\n",
       "    .dataframe tbody tr th {\n",
       "        vertical-align: top;\n",
       "    }\n",
       "\n",
       "    .dataframe thead th {\n",
       "        text-align: right;\n",
       "    }\n",
       "</style>\n",
       "<table border=\"1\" class=\"dataframe\">\n",
       "  <thead>\n",
       "    <tr style=\"text-align: right;\">\n",
       "      <th></th>\n",
       "      <th>cast</th>\n",
       "      <th>crew</th>\n",
       "      <th>id</th>\n",
       "    </tr>\n",
       "  </thead>\n",
       "  <tbody>\n",
       "    <tr>\n",
       "      <th>0</th>\n",
       "      <td>[{'cast_id': 14, 'character': 'Woody (voice)',...</td>\n",
       "      <td>[{'credit_id': '52fe4284c3a36847f8024f49', 'de...</td>\n",
       "      <td>862</td>\n",
       "    </tr>\n",
       "    <tr>\n",
       "      <th>1</th>\n",
       "      <td>[{'cast_id': 1, 'character': 'Alan Parrish', '...</td>\n",
       "      <td>[{'credit_id': '52fe44bfc3a36847f80a7cd1', 'de...</td>\n",
       "      <td>8844</td>\n",
       "    </tr>\n",
       "    <tr>\n",
       "      <th>2</th>\n",
       "      <td>[{'cast_id': 2, 'character': 'Max Goldman', 'c...</td>\n",
       "      <td>[{'credit_id': '52fe466a9251416c75077a89', 'de...</td>\n",
       "      <td>15602</td>\n",
       "    </tr>\n",
       "    <tr>\n",
       "      <th>3</th>\n",
       "      <td>[{'cast_id': 1, 'character': \"Savannah 'Vannah...</td>\n",
       "      <td>[{'credit_id': '52fe44779251416c91011acb', 'de...</td>\n",
       "      <td>31357</td>\n",
       "    </tr>\n",
       "    <tr>\n",
       "      <th>4</th>\n",
       "      <td>[{'cast_id': 1, 'character': 'George Banks', '...</td>\n",
       "      <td>[{'credit_id': '52fe44959251416c75039ed7', 'de...</td>\n",
       "      <td>11862</td>\n",
       "    </tr>\n",
       "  </tbody>\n",
       "</table>\n",
       "</div>"
      ],
      "text/plain": [
       "                                                cast  \\\n",
       "0  [{'cast_id': 14, 'character': 'Woody (voice)',...   \n",
       "1  [{'cast_id': 1, 'character': 'Alan Parrish', '...   \n",
       "2  [{'cast_id': 2, 'character': 'Max Goldman', 'c...   \n",
       "3  [{'cast_id': 1, 'character': \"Savannah 'Vannah...   \n",
       "4  [{'cast_id': 1, 'character': 'George Banks', '...   \n",
       "\n",
       "                                                crew     id  \n",
       "0  [{'credit_id': '52fe4284c3a36847f8024f49', 'de...    862  \n",
       "1  [{'credit_id': '52fe44bfc3a36847f80a7cd1', 'de...   8844  \n",
       "2  [{'credit_id': '52fe466a9251416c75077a89', 'de...  15602  \n",
       "3  [{'credit_id': '52fe44779251416c91011acb', 'de...  31357  \n",
       "4  [{'credit_id': '52fe44959251416c75039ed7', 'de...  11862  "
      ]
     },
     "execution_count": 309,
     "metadata": {},
     "output_type": "execute_result"
    }
   ],
   "source": [
    "Credits.head()                              #Reviso los datos de manera visual"
   ]
  },
  {
   "cell_type": "code",
   "execution_count": 310,
   "metadata": {},
   "outputs": [
    {
     "name": "stdout",
     "output_type": "stream",
     "text": [
      "<class 'pandas.core.frame.DataFrame'>\n",
      "RangeIndex: 45476 entries, 0 to 45475\n",
      "Data columns (total 3 columns):\n",
      " #   Column  Non-Null Count  Dtype \n",
      "---  ------  --------------  ----- \n",
      " 0   cast    45476 non-null  object\n",
      " 1   crew    45476 non-null  object\n",
      " 2   id      45476 non-null  int64 \n",
      "dtypes: int64(1), object(2)\n",
      "memory usage: 1.0+ MB\n"
     ]
    }
   ],
   "source": [
    "Credits.info()                  #Reviso la composición de los datos, estructura y tipo de datos. --> Estan full las filas de datos."
   ]
  },
  {
   "cell_type": "code",
   "execution_count": 311,
   "metadata": {},
   "outputs": [
    {
     "data": {
      "text/html": [
       "<div>\n",
       "<style scoped>\n",
       "    .dataframe tbody tr th:only-of-type {\n",
       "        vertical-align: middle;\n",
       "    }\n",
       "\n",
       "    .dataframe tbody tr th {\n",
       "        vertical-align: top;\n",
       "    }\n",
       "\n",
       "    .dataframe thead th {\n",
       "        text-align: right;\n",
       "    }\n",
       "</style>\n",
       "<table border=\"1\" class=\"dataframe\">\n",
       "  <thead>\n",
       "    <tr style=\"text-align: right;\">\n",
       "      <th></th>\n",
       "      <th>adult</th>\n",
       "      <th>belongs_to_collection</th>\n",
       "      <th>budget</th>\n",
       "      <th>genres</th>\n",
       "      <th>homepage</th>\n",
       "      <th>id</th>\n",
       "      <th>imdb_id</th>\n",
       "      <th>original_language</th>\n",
       "      <th>original_title</th>\n",
       "      <th>overview</th>\n",
       "      <th>...</th>\n",
       "      <th>release_date</th>\n",
       "      <th>revenue</th>\n",
       "      <th>runtime</th>\n",
       "      <th>spoken_languages</th>\n",
       "      <th>status</th>\n",
       "      <th>tagline</th>\n",
       "      <th>title</th>\n",
       "      <th>video</th>\n",
       "      <th>vote_average</th>\n",
       "      <th>vote_count</th>\n",
       "    </tr>\n",
       "  </thead>\n",
       "  <tbody>\n",
       "    <tr>\n",
       "      <th>0</th>\n",
       "      <td>False</td>\n",
       "      <td>{'id': 10194, 'name': 'Toy Story Collection', ...</td>\n",
       "      <td>30000000</td>\n",
       "      <td>[{'id': 16, 'name': 'Animation'}, {'id': 35, '...</td>\n",
       "      <td>http://toystory.disney.com/toy-story</td>\n",
       "      <td>862</td>\n",
       "      <td>tt0114709</td>\n",
       "      <td>en</td>\n",
       "      <td>Toy Story</td>\n",
       "      <td>Led by Woody, Andy's toys live happily in his ...</td>\n",
       "      <td>...</td>\n",
       "      <td>1995-10-30</td>\n",
       "      <td>373554033.0</td>\n",
       "      <td>81.0</td>\n",
       "      <td>[{'iso_639_1': 'en', 'name': 'English'}]</td>\n",
       "      <td>Released</td>\n",
       "      <td>NaN</td>\n",
       "      <td>Toy Story</td>\n",
       "      <td>False</td>\n",
       "      <td>7.7</td>\n",
       "      <td>5415.0</td>\n",
       "    </tr>\n",
       "    <tr>\n",
       "      <th>1</th>\n",
       "      <td>False</td>\n",
       "      <td>NaN</td>\n",
       "      <td>65000000</td>\n",
       "      <td>[{'id': 12, 'name': 'Adventure'}, {'id': 14, '...</td>\n",
       "      <td>NaN</td>\n",
       "      <td>8844</td>\n",
       "      <td>tt0113497</td>\n",
       "      <td>en</td>\n",
       "      <td>Jumanji</td>\n",
       "      <td>When siblings Judy and Peter discover an encha...</td>\n",
       "      <td>...</td>\n",
       "      <td>1995-12-15</td>\n",
       "      <td>262797249.0</td>\n",
       "      <td>104.0</td>\n",
       "      <td>[{'iso_639_1': 'en', 'name': 'English'}, {'iso...</td>\n",
       "      <td>Released</td>\n",
       "      <td>Roll the dice and unleash the excitement!</td>\n",
       "      <td>Jumanji</td>\n",
       "      <td>False</td>\n",
       "      <td>6.9</td>\n",
       "      <td>2413.0</td>\n",
       "    </tr>\n",
       "    <tr>\n",
       "      <th>2</th>\n",
       "      <td>False</td>\n",
       "      <td>{'id': 119050, 'name': 'Grumpy Old Men Collect...</td>\n",
       "      <td>0</td>\n",
       "      <td>[{'id': 10749, 'name': 'Romance'}, {'id': 35, ...</td>\n",
       "      <td>NaN</td>\n",
       "      <td>15602</td>\n",
       "      <td>tt0113228</td>\n",
       "      <td>en</td>\n",
       "      <td>Grumpier Old Men</td>\n",
       "      <td>A family wedding reignites the ancient feud be...</td>\n",
       "      <td>...</td>\n",
       "      <td>1995-12-22</td>\n",
       "      <td>0.0</td>\n",
       "      <td>101.0</td>\n",
       "      <td>[{'iso_639_1': 'en', 'name': 'English'}]</td>\n",
       "      <td>Released</td>\n",
       "      <td>Still Yelling. Still Fighting. Still Ready for...</td>\n",
       "      <td>Grumpier Old Men</td>\n",
       "      <td>False</td>\n",
       "      <td>6.5</td>\n",
       "      <td>92.0</td>\n",
       "    </tr>\n",
       "    <tr>\n",
       "      <th>3</th>\n",
       "      <td>False</td>\n",
       "      <td>NaN</td>\n",
       "      <td>16000000</td>\n",
       "      <td>[{'id': 35, 'name': 'Comedy'}, {'id': 18, 'nam...</td>\n",
       "      <td>NaN</td>\n",
       "      <td>31357</td>\n",
       "      <td>tt0114885</td>\n",
       "      <td>en</td>\n",
       "      <td>Waiting to Exhale</td>\n",
       "      <td>Cheated on, mistreated and stepped on, the wom...</td>\n",
       "      <td>...</td>\n",
       "      <td>1995-12-22</td>\n",
       "      <td>81452156.0</td>\n",
       "      <td>127.0</td>\n",
       "      <td>[{'iso_639_1': 'en', 'name': 'English'}]</td>\n",
       "      <td>Released</td>\n",
       "      <td>Friends are the people who let you be yourself...</td>\n",
       "      <td>Waiting to Exhale</td>\n",
       "      <td>False</td>\n",
       "      <td>6.1</td>\n",
       "      <td>34.0</td>\n",
       "    </tr>\n",
       "    <tr>\n",
       "      <th>4</th>\n",
       "      <td>False</td>\n",
       "      <td>{'id': 96871, 'name': 'Father of the Bride Col...</td>\n",
       "      <td>0</td>\n",
       "      <td>[{'id': 35, 'name': 'Comedy'}]</td>\n",
       "      <td>NaN</td>\n",
       "      <td>11862</td>\n",
       "      <td>tt0113041</td>\n",
       "      <td>en</td>\n",
       "      <td>Father of the Bride Part II</td>\n",
       "      <td>Just when George Banks has recovered from his ...</td>\n",
       "      <td>...</td>\n",
       "      <td>1995-02-10</td>\n",
       "      <td>76578911.0</td>\n",
       "      <td>106.0</td>\n",
       "      <td>[{'iso_639_1': 'en', 'name': 'English'}]</td>\n",
       "      <td>Released</td>\n",
       "      <td>Just When His World Is Back To Normal... He's ...</td>\n",
       "      <td>Father of the Bride Part II</td>\n",
       "      <td>False</td>\n",
       "      <td>5.7</td>\n",
       "      <td>173.0</td>\n",
       "    </tr>\n",
       "  </tbody>\n",
       "</table>\n",
       "<p>5 rows × 24 columns</p>\n",
       "</div>"
      ],
      "text/plain": [
       "   adult                              belongs_to_collection    budget  \\\n",
       "0  False  {'id': 10194, 'name': 'Toy Story Collection', ...  30000000   \n",
       "1  False                                                NaN  65000000   \n",
       "2  False  {'id': 119050, 'name': 'Grumpy Old Men Collect...         0   \n",
       "3  False                                                NaN  16000000   \n",
       "4  False  {'id': 96871, 'name': 'Father of the Bride Col...         0   \n",
       "\n",
       "                                              genres  \\\n",
       "0  [{'id': 16, 'name': 'Animation'}, {'id': 35, '...   \n",
       "1  [{'id': 12, 'name': 'Adventure'}, {'id': 14, '...   \n",
       "2  [{'id': 10749, 'name': 'Romance'}, {'id': 35, ...   \n",
       "3  [{'id': 35, 'name': 'Comedy'}, {'id': 18, 'nam...   \n",
       "4                     [{'id': 35, 'name': 'Comedy'}]   \n",
       "\n",
       "                               homepage     id    imdb_id original_language  \\\n",
       "0  http://toystory.disney.com/toy-story    862  tt0114709                en   \n",
       "1                                   NaN   8844  tt0113497                en   \n",
       "2                                   NaN  15602  tt0113228                en   \n",
       "3                                   NaN  31357  tt0114885                en   \n",
       "4                                   NaN  11862  tt0113041                en   \n",
       "\n",
       "                original_title  \\\n",
       "0                    Toy Story   \n",
       "1                      Jumanji   \n",
       "2             Grumpier Old Men   \n",
       "3            Waiting to Exhale   \n",
       "4  Father of the Bride Part II   \n",
       "\n",
       "                                            overview  ... release_date  \\\n",
       "0  Led by Woody, Andy's toys live happily in his ...  ...   1995-10-30   \n",
       "1  When siblings Judy and Peter discover an encha...  ...   1995-12-15   \n",
       "2  A family wedding reignites the ancient feud be...  ...   1995-12-22   \n",
       "3  Cheated on, mistreated and stepped on, the wom...  ...   1995-12-22   \n",
       "4  Just when George Banks has recovered from his ...  ...   1995-02-10   \n",
       "\n",
       "       revenue runtime                                   spoken_languages  \\\n",
       "0  373554033.0    81.0           [{'iso_639_1': 'en', 'name': 'English'}]   \n",
       "1  262797249.0   104.0  [{'iso_639_1': 'en', 'name': 'English'}, {'iso...   \n",
       "2          0.0   101.0           [{'iso_639_1': 'en', 'name': 'English'}]   \n",
       "3   81452156.0   127.0           [{'iso_639_1': 'en', 'name': 'English'}]   \n",
       "4   76578911.0   106.0           [{'iso_639_1': 'en', 'name': 'English'}]   \n",
       "\n",
       "     status                                            tagline  \\\n",
       "0  Released                                                NaN   \n",
       "1  Released          Roll the dice and unleash the excitement!   \n",
       "2  Released  Still Yelling. Still Fighting. Still Ready for...   \n",
       "3  Released  Friends are the people who let you be yourself...   \n",
       "4  Released  Just When His World Is Back To Normal... He's ...   \n",
       "\n",
       "                         title  video vote_average vote_count  \n",
       "0                    Toy Story  False          7.7     5415.0  \n",
       "1                      Jumanji  False          6.9     2413.0  \n",
       "2             Grumpier Old Men  False          6.5       92.0  \n",
       "3            Waiting to Exhale  False          6.1       34.0  \n",
       "4  Father of the Bride Part II  False          5.7      173.0  \n",
       "\n",
       "[5 rows x 24 columns]"
      ]
     },
     "execution_count": 311,
     "metadata": {},
     "output_type": "execute_result"
    }
   ],
   "source": [
    "Movies.head()               #Reviso los datos de manera visual"
   ]
  },
  {
   "cell_type": "code",
   "execution_count": 312,
   "metadata": {},
   "outputs": [
    {
     "name": "stdout",
     "output_type": "stream",
     "text": [
      "<class 'pandas.core.frame.DataFrame'>\n",
      "RangeIndex: 45466 entries, 0 to 45465\n",
      "Data columns (total 24 columns):\n",
      " #   Column                 Non-Null Count  Dtype  \n",
      "---  ------                 --------------  -----  \n",
      " 0   adult                  45466 non-null  object \n",
      " 1   belongs_to_collection  4494 non-null   object \n",
      " 2   budget                 45466 non-null  object \n",
      " 3   genres                 45466 non-null  object \n",
      " 4   homepage               7782 non-null   object \n",
      " 5   id                     45466 non-null  object \n",
      " 6   imdb_id                45449 non-null  object \n",
      " 7   original_language      45455 non-null  object \n",
      " 8   original_title         45466 non-null  object \n",
      " 9   overview               44512 non-null  object \n",
      " 10  popularity             45461 non-null  object \n",
      " 11  poster_path            45080 non-null  object \n",
      " 12  production_companies   45463 non-null  object \n",
      " 13  production_countries   45463 non-null  object \n",
      " 14  release_date           45379 non-null  object \n",
      " 15  revenue                45460 non-null  float64\n",
      " 16  runtime                45203 non-null  float64\n",
      " 17  spoken_languages       45460 non-null  object \n",
      " 18  status                 45379 non-null  object \n",
      " 19  tagline                20412 non-null  object \n",
      " 20  title                  45460 non-null  object \n",
      " 21  video                  45460 non-null  object \n",
      " 22  vote_average           45460 non-null  float64\n",
      " 23  vote_count             45460 non-null  float64\n",
      "dtypes: float64(4), object(20)\n",
      "memory usage: 8.3+ MB\n"
     ]
    }
   ],
   "source": [
    "Movies.info()                           #Reviso la composición de los datos, estructura y tipo de datos. --->>> Hay faltantes en varias columnas."
   ]
  },
  {
   "cell_type": "markdown",
   "metadata": {},
   "source": [
    "Eliminar duplicados"
   ]
  },
  {
   "cell_type": "code",
   "execution_count": 313,
   "metadata": {},
   "outputs": [],
   "source": [
    "Movies.drop_duplicates(inplace=True)\n",
    "Credits.drop_duplicates(inplace=True)"
   ]
  },
  {
   "cell_type": "markdown",
   "metadata": {},
   "source": [
    "Voy a trabajar Movies porque hay faltantes"
   ]
  },
  {
   "cell_type": "code",
   "execution_count": 314,
   "metadata": {},
   "outputs": [
    {
     "name": "stdout",
     "output_type": "stream",
     "text": [
      "Missing values in 'adult':\n",
      "adult\n",
      "False    45453\n",
      "Name: count, dtype: int64\n",
      "\n",
      "Missing values in 'belongs_to_collection':\n",
      "belongs_to_collection\n",
      "True     40959\n",
      "False     4494\n",
      "Name: count, dtype: int64\n",
      "\n",
      "Missing values in 'budget':\n",
      "budget\n",
      "False    45453\n",
      "Name: count, dtype: int64\n",
      "\n",
      "Missing values in 'genres':\n",
      "genres\n",
      "False    45453\n",
      "Name: count, dtype: int64\n",
      "\n",
      "Missing values in 'homepage':\n",
      "homepage\n",
      "True     37673\n",
      "False     7780\n",
      "Name: count, dtype: int64\n",
      "\n"
     ]
    }
   ],
   "source": [
    "#Primero necesito saber que columnas están más afectadas, uso el loop para visualizar de a grupos sin que se corte el output\n",
    "\n",
    "for i in range(0, len(Movies.columns)-19):          #Columnas 0 a 4\n",
    "    column = Movies.columns[i]\n",
    "    print(f\"Missing values in '{column}':\")\n",
    "    print(Movies[column].isna().value_counts())\n",
    "    print()  # Mejora la legibilidad"
   ]
  },
  {
   "cell_type": "code",
   "execution_count": 315,
   "metadata": {},
   "outputs": [
    {
     "name": "stdout",
     "output_type": "stream",
     "text": [
      "Missing values in 'id':\n",
      "id\n",
      "False    45453\n",
      "Name: count, dtype: int64\n",
      "\n",
      "Missing values in 'imdb_id':\n",
      "imdb_id\n",
      "False    45436\n",
      "True        17\n",
      "Name: count, dtype: int64\n",
      "\n",
      "Missing values in 'original_language':\n",
      "original_language\n",
      "False    45442\n",
      "True        11\n",
      "Name: count, dtype: int64\n",
      "\n",
      "Missing values in 'original_title':\n",
      "original_title\n",
      "False    45453\n",
      "Name: count, dtype: int64\n",
      "\n",
      "Missing values in 'overview':\n",
      "overview\n",
      "False    44499\n",
      "True       954\n",
      "Name: count, dtype: int64\n",
      "\n"
     ]
    }
   ],
   "source": [
    "for i in range(5, len(Movies.columns)-14):          #Columnas 5 a 9\n",
    "    column = Movies.columns[i]\n",
    "    print(f\"Missing values in '{column}':\")\n",
    "    print(Movies[column].isna().value_counts())\n",
    "    print() "
   ]
  },
  {
   "cell_type": "code",
   "execution_count": 316,
   "metadata": {},
   "outputs": [
    {
     "name": "stdout",
     "output_type": "stream",
     "text": [
      "Missing values in 'popularity':\n",
      "popularity\n",
      "False    45448\n",
      "True         5\n",
      "Name: count, dtype: int64\n",
      "\n",
      "Missing values in 'poster_path':\n",
      "poster_path\n",
      "False    45067\n",
      "True       386\n",
      "Name: count, dtype: int64\n",
      "\n",
      "Missing values in 'production_companies':\n",
      "production_companies\n",
      "False    45450\n",
      "True         3\n",
      "Name: count, dtype: int64\n",
      "\n",
      "Missing values in 'production_countries':\n",
      "production_countries\n",
      "False    45450\n",
      "True         3\n",
      "Name: count, dtype: int64\n",
      "\n",
      "Missing values in 'release_date':\n",
      "release_date\n",
      "False    45366\n",
      "True        87\n",
      "Name: count, dtype: int64\n",
      "\n"
     ]
    }
   ],
   "source": [
    "for i in range(10, len(Movies.columns)-9):          #Columnas 10 a 14\n",
    "    column = Movies.columns[i]\n",
    "    print(f\"Missing values in '{column}':\")\n",
    "    print(Movies[column].isna().value_counts())\n",
    "    print() "
   ]
  },
  {
   "cell_type": "code",
   "execution_count": 317,
   "metadata": {},
   "outputs": [
    {
     "name": "stdout",
     "output_type": "stream",
     "text": [
      "Missing values in 'revenue':\n",
      "revenue\n",
      "False    45447\n",
      "True         6\n",
      "Name: count, dtype: int64\n",
      "\n",
      "Missing values in 'runtime':\n",
      "runtime\n",
      "False    45190\n",
      "True       263\n",
      "Name: count, dtype: int64\n",
      "\n",
      "Missing values in 'spoken_languages':\n",
      "spoken_languages\n",
      "False    45447\n",
      "True         6\n",
      "Name: count, dtype: int64\n",
      "\n",
      "Missing values in 'status':\n",
      "status\n",
      "False    45366\n",
      "True        87\n",
      "Name: count, dtype: int64\n",
      "\n",
      "Missing values in 'tagline':\n",
      "tagline\n",
      "True     25045\n",
      "False    20408\n",
      "Name: count, dtype: int64\n",
      "\n"
     ]
    }
   ],
   "source": [
    "for i in range(15, len(Movies.columns)-4):          #Columnas 15 a 19\n",
    "    column = Movies.columns[i]\n",
    "    print(f\"Missing values in '{column}':\")\n",
    "    print(Movies[column].isna().value_counts())\n",
    "    print() "
   ]
  },
  {
   "cell_type": "code",
   "execution_count": 318,
   "metadata": {},
   "outputs": [
    {
     "name": "stdout",
     "output_type": "stream",
     "text": [
      "Missing values in 'title':\n",
      "title\n",
      "False    45447\n",
      "True         6\n",
      "Name: count, dtype: int64\n",
      "\n",
      "Missing values in 'video':\n",
      "video\n",
      "False    45447\n",
      "True         6\n",
      "Name: count, dtype: int64\n",
      "\n",
      "Missing values in 'vote_average':\n",
      "vote_average\n",
      "False    45447\n",
      "True         6\n",
      "Name: count, dtype: int64\n",
      "\n",
      "Missing values in 'vote_count':\n",
      "vote_count\n",
      "False    45447\n",
      "True         6\n",
      "Name: count, dtype: int64\n",
      "\n"
     ]
    }
   ],
   "source": [
    "for i in range(20, len(Movies.columns)):          #Columnas 20 a 23\n",
    "    column = Movies.columns[i]\n",
    "    print(f\"Missing values in '{column}':\")\n",
    "    print(Movies[column].isna().value_counts())\n",
    "    print() "
   ]
  },
  {
   "cell_type": "markdown",
   "metadata": {},
   "source": [
    "Lo hago así porque me gusta ser exhaustivo con los datos que voy a manejar, es un análisis que lleva más tiempo pero que no deja lugar a dudas."
   ]
  },
  {
   "cell_type": "code",
   "execution_count": 319,
   "metadata": {},
   "outputs": [
    {
     "name": "stdout",
     "output_type": "stream",
     "text": [
      "adult\n",
      "belongs_to_collection\n",
      "budget\n",
      "genres\n",
      "homepage\n",
      "id\n",
      "imdb_id\n",
      "original_language\n",
      "original_title\n",
      "overview\n",
      "popularity\n",
      "poster_path\n",
      "production_companies\n",
      "production_countries\n",
      "release_date\n",
      "revenue\n",
      "runtime\n",
      "spoken_languages\n",
      "status\n",
      "tagline\n",
      "title\n",
      "video\n",
      "vote_average\n",
      "vote_count\n"
     ]
    }
   ],
   "source": [
    "for column in Movies.columns:\n",
    "    print(column)"
   ]
  },
  {
   "cell_type": "code",
   "execution_count": 320,
   "metadata": {},
   "outputs": [
    {
     "data": {
      "text/plain": [
       "'Conclusiones:\\n\\nadult                   --> completo\\nbelongs_to_collection   --> 40972 vacios ||  4494 datos             --------------Atención\\nbudget                  --> completo\\ngenres                  --> completo\\nhomepage                --> 37684 vacios || 7782 datos              --------------Atención\\nid                      --> completo\\nimdb_id                 --> faltan 17\\noriginal_language       --> faltan 11 \\noriginal_title          --> completo\\noverview                --> faltan 954\\npopularity              --> faltan 5\\nposter_path             --> faltan 3\\nproduction_companies    --> faltan 3\\nproduction_countries    --> faltan 386\\nrelease_date            --> faltan 87\\nrevenue                 --> faltan 6\\nruntime                 --> faltan 263\\nspoken_languages        --> faltan 6\\nstatus                  --> faltan 87\\ntagline                 --> 25054 vacios || 20412 datos             --------------Atención\\ntitle                   --> faltan 6\\nvideo                   --> faltan 6\\nvote_average            --> faltan 6\\nvote_count              --> faltan 6\\n\\n\\n3 columnas con faltantes importantes ||| 5 completas ||| 3 con +100 faltantes ||| 13 con -100 faltantes'"
      ]
     },
     "execution_count": 320,
     "metadata": {},
     "output_type": "execute_result"
    }
   ],
   "source": [
    "'''Conclusiones:\n",
    "\n",
    "adult                   --> completo\n",
    "belongs_to_collection   --> 40972 vacios ||  4494 datos             --------------Atención\n",
    "budget                  --> completo\n",
    "genres                  --> completo\n",
    "homepage                --> 37684 vacios || 7782 datos              --------------Atención\n",
    "id                      --> completo\n",
    "imdb_id                 --> faltan 17\n",
    "original_language       --> faltan 11 \n",
    "original_title          --> completo\n",
    "overview                --> faltan 954\n",
    "popularity              --> faltan 5\n",
    "poster_path             --> faltan 3\n",
    "production_companies    --> faltan 3\n",
    "production_countries    --> faltan 386\n",
    "release_date            --> faltan 87\n",
    "revenue                 --> faltan 6\n",
    "runtime                 --> faltan 263\n",
    "spoken_languages        --> faltan 6\n",
    "status                  --> faltan 87\n",
    "tagline                 --> 25054 vacios || 20412 datos             --------------Atención\n",
    "title                   --> faltan 6\n",
    "video                   --> faltan 6\n",
    "vote_average            --> faltan 6\n",
    "vote_count              --> faltan 6\n",
    "\n",
    "\n",
    "3 columnas con faltantes importantes ||| 5 completas ||| 3 con +100 faltantes ||| 13 con -100 faltantes'''"
   ]
  },
  {
   "cell_type": "markdown",
   "metadata": {},
   "source": [
    "### El enunciado pide que  •\tLos valores nulos de los campos revenue, budget deben ser rellenados por el número 0"
   ]
  },
  {
   "cell_type": "code",
   "execution_count": 321,
   "metadata": {},
   "outputs": [
    {
     "name": "stdout",
     "output_type": "stream",
     "text": [
      "budget\n",
      "False    45453\n",
      "Name: count, dtype: int64\n",
      "revenue\n",
      "False    45447\n",
      "True         6\n",
      "Name: count, dtype: int64\n"
     ]
    }
   ],
   "source": [
    "# Check de valores nulos en ambas columnas\n",
    "print(Movies[\"budget\"].isna().value_counts())\n",
    "print(Movies[\"revenue\"].isna().value_counts())"
   ]
  },
  {
   "cell_type": "code",
   "execution_count": 322,
   "metadata": {},
   "outputs": [
    {
     "name": "stderr",
     "output_type": "stream",
     "text": [
      "C:\\Users\\Aleja\\AppData\\Local\\Temp\\ipykernel_8204\\243367641.py:2: FutureWarning: A value is trying to be set on a copy of a DataFrame or Series through chained assignment using an inplace method.\n",
      "The behavior will change in pandas 3.0. This inplace method will never work because the intermediate object on which we are setting values always behaves as a copy.\n",
      "\n",
      "For example, when doing 'df[col].method(value, inplace=True)', try using 'df.method({col: value}, inplace=True)' or df[col] = df[col].method(value) instead, to perform the operation inplace on the original object.\n",
      "\n",
      "\n",
      "  Movies.revenue.fillna(0, inplace=True)\n"
     ]
    }
   ],
   "source": [
    "#Rellenamos los 6 faltantes de revenue (budget figura sin nulos)\n",
    "Movies.revenue.fillna(0, inplace=True)"
   ]
  },
  {
   "cell_type": "markdown",
   "metadata": {},
   "source": [
    "### Segundo punto (del dataset Movies) pide   •\tLos valores nulos del campo release date deben eliminarse."
   ]
  },
  {
   "cell_type": "code",
   "execution_count": 323,
   "metadata": {},
   "outputs": [],
   "source": [
    "# Faltaban 87 valores --> no aclara que tipo de eliminación por lo que eliminaré las filas completas.\n",
    "Movies.dropna(subset=[\"release_date\"],inplace=True)"
   ]
  },
  {
   "cell_type": "code",
   "execution_count": 324,
   "metadata": {},
   "outputs": [
    {
     "data": {
      "text/plain": [
       "release_date\n",
       "False    45366\n",
       "Name: count, dtype: int64"
      ]
     },
     "execution_count": 324,
     "metadata": {},
     "output_type": "execute_result"
    }
   ],
   "source": [
    "Movies.release_date.isna().value_counts()"
   ]
  },
  {
   "cell_type": "markdown",
   "metadata": {},
   "source": [
    "### Tercer punto   •A) De haber fechas, deberán tener el formato AAAA-mm-dd"
   ]
  },
  {
   "cell_type": "code",
   "execution_count": 325,
   "metadata": {},
   "outputs": [
    {
     "data": {
      "text/html": [
       "<div>\n",
       "<style scoped>\n",
       "    .dataframe tbody tr th:only-of-type {\n",
       "        vertical-align: middle;\n",
       "    }\n",
       "\n",
       "    .dataframe tbody tr th {\n",
       "        vertical-align: top;\n",
       "    }\n",
       "\n",
       "    .dataframe thead th {\n",
       "        text-align: right;\n",
       "    }\n",
       "</style>\n",
       "<table border=\"1\" class=\"dataframe\">\n",
       "  <thead>\n",
       "    <tr style=\"text-align: right;\">\n",
       "      <th></th>\n",
       "      <th>adult</th>\n",
       "      <th>belongs_to_collection</th>\n",
       "      <th>budget</th>\n",
       "      <th>genres</th>\n",
       "      <th>homepage</th>\n",
       "      <th>id</th>\n",
       "      <th>imdb_id</th>\n",
       "      <th>original_language</th>\n",
       "      <th>original_title</th>\n",
       "      <th>overview</th>\n",
       "      <th>...</th>\n",
       "      <th>release_date</th>\n",
       "      <th>revenue</th>\n",
       "      <th>runtime</th>\n",
       "      <th>spoken_languages</th>\n",
       "      <th>status</th>\n",
       "      <th>tagline</th>\n",
       "      <th>title</th>\n",
       "      <th>video</th>\n",
       "      <th>vote_average</th>\n",
       "      <th>vote_count</th>\n",
       "    </tr>\n",
       "  </thead>\n",
       "  <tbody>\n",
       "    <tr>\n",
       "      <th>0</th>\n",
       "      <td>False</td>\n",
       "      <td>{'id': 10194, 'name': 'Toy Story Collection', ...</td>\n",
       "      <td>30000000</td>\n",
       "      <td>[{'id': 16, 'name': 'Animation'}, {'id': 35, '...</td>\n",
       "      <td>http://toystory.disney.com/toy-story</td>\n",
       "      <td>862</td>\n",
       "      <td>tt0114709</td>\n",
       "      <td>en</td>\n",
       "      <td>Toy Story</td>\n",
       "      <td>Led by Woody, Andy's toys live happily in his ...</td>\n",
       "      <td>...</td>\n",
       "      <td>1995-10-30</td>\n",
       "      <td>373554033.0</td>\n",
       "      <td>81.0</td>\n",
       "      <td>[{'iso_639_1': 'en', 'name': 'English'}]</td>\n",
       "      <td>Released</td>\n",
       "      <td>NaN</td>\n",
       "      <td>Toy Story</td>\n",
       "      <td>False</td>\n",
       "      <td>7.7</td>\n",
       "      <td>5415.0</td>\n",
       "    </tr>\n",
       "  </tbody>\n",
       "</table>\n",
       "<p>1 rows × 24 columns</p>\n",
       "</div>"
      ],
      "text/plain": [
       "   adult                              belongs_to_collection    budget  \\\n",
       "0  False  {'id': 10194, 'name': 'Toy Story Collection', ...  30000000   \n",
       "\n",
       "                                              genres  \\\n",
       "0  [{'id': 16, 'name': 'Animation'}, {'id': 35, '...   \n",
       "\n",
       "                               homepage   id    imdb_id original_language  \\\n",
       "0  http://toystory.disney.com/toy-story  862  tt0114709                en   \n",
       "\n",
       "  original_title                                           overview  ...  \\\n",
       "0      Toy Story  Led by Woody, Andy's toys live happily in his ...  ...   \n",
       "\n",
       "  release_date      revenue runtime                          spoken_languages  \\\n",
       "0   1995-10-30  373554033.0    81.0  [{'iso_639_1': 'en', 'name': 'English'}]   \n",
       "\n",
       "     status  tagline      title  video vote_average vote_count  \n",
       "0  Released      NaN  Toy Story  False          7.7     5415.0  \n",
       "\n",
       "[1 rows x 24 columns]"
      ]
     },
     "execution_count": 325,
     "metadata": {},
     "output_type": "execute_result"
    }
   ],
   "source": [
    "Movies.head(1) #Se observa que release_date tiene estructura de fecha. "
   ]
  },
  {
   "cell_type": "code",
   "execution_count": 326,
   "metadata": {},
   "outputs": [
    {
     "name": "stdout",
     "output_type": "stream",
     "text": [
      "<class 'pandas.core.frame.DataFrame'>\n",
      "Index: 45366 entries, 0 to 45465\n",
      "Data columns (total 24 columns):\n",
      " #   Column                 Non-Null Count  Dtype  \n",
      "---  ------                 --------------  -----  \n",
      " 0   adult                  45366 non-null  object \n",
      " 1   belongs_to_collection  4491 non-null   object \n",
      " 2   budget                 45366 non-null  object \n",
      " 3   genres                 45366 non-null  object \n",
      " 4   homepage               7767 non-null   object \n",
      " 5   id                     45366 non-null  object \n",
      " 6   imdb_id                45352 non-null  object \n",
      " 7   original_language      45355 non-null  object \n",
      " 8   original_title         45366 non-null  object \n",
      " 9   overview               44425 non-null  object \n",
      " 10  popularity             45364 non-null  object \n",
      " 11  poster_path            45027 non-null  object \n",
      " 12  production_companies   45366 non-null  object \n",
      " 13  production_countries   45366 non-null  object \n",
      " 14  release_date           45366 non-null  object \n",
      " 15  revenue                45366 non-null  float64\n",
      " 16  runtime                45117 non-null  float64\n",
      " 17  spoken_languages       45363 non-null  object \n",
      " 18  status                 45283 non-null  object \n",
      " 19  tagline                20394 non-null  object \n",
      " 20  title                  45363 non-null  object \n",
      " 21  video                  45363 non-null  object \n",
      " 22  vote_average           45363 non-null  float64\n",
      " 23  vote_count             45363 non-null  float64\n",
      "dtypes: float64(4), object(20)\n",
      "memory usage: 8.7+ MB\n"
     ]
    }
   ],
   "source": [
    "Movies.info() #Se observa que release_date es tipo object"
   ]
  },
  {
   "cell_type": "code",
   "execution_count": 327,
   "metadata": {},
   "outputs": [
    {
     "name": "stdout",
     "output_type": "stream",
     "text": [
      "datetime64[ns]\n"
     ]
    }
   ],
   "source": [
    "#Cambiar tipo de dato de release_date a fecha (aaaa-mm-dd)\n",
    "\n",
    "Movies[\"release_date\"] = pd.to_datetime(Movies[\"release_date\"], errors=\"coerce\")\n",
    "print(Movies[\"release_date\"].dtype) #Comprobar tipo de dato"
   ]
  },
  {
   "cell_type": "markdown",
   "metadata": {},
   "source": [
    "### Continuación tercer punto B) además deberán crear la columna release_year "
   ]
  },
  {
   "cell_type": "code",
   "execution_count": 328,
   "metadata": {},
   "outputs": [
    {
     "name": "stdout",
     "output_type": "stream",
     "text": [
      "datetime64[ns]\n"
     ]
    }
   ],
   "source": [
    "print(Movies[\"release_date\"].dtype)"
   ]
  },
  {
   "cell_type": "code",
   "execution_count": 329,
   "metadata": {},
   "outputs": [],
   "source": [
    "import datetime as dt       # importar libreria de tiempo\n",
    "Movies[\"release_year\"] = Movies[\"release_date\"].dt.year.astype(\"Int64\")  #Investigando, pandas por defecto extrae tipo float"
   ]
  },
  {
   "cell_type": "code",
   "execution_count": 330,
   "metadata": {},
   "outputs": [
    {
     "name": "stdout",
     "output_type": "stream",
     "text": [
      "0        1995\n",
      "1        1995\n",
      "2        1995\n",
      "3        1995\n",
      "4        1995\n",
      "         ... \n",
      "45460    1991\n",
      "45462    2011\n",
      "45463    2003\n",
      "45464    1917\n",
      "45465    2017\n",
      "Name: release_year, Length: 45366, dtype: Int64\n",
      "Int64\n"
     ]
    }
   ],
   "source": [
    "print(Movies[\"release_year\"])\n",
    "print(Movies[\"release_year\"].dtype)  #Comprobamos"
   ]
  },
  {
   "cell_type": "code",
   "execution_count": 331,
   "metadata": {},
   "outputs": [
    {
     "name": "stdout",
     "output_type": "stream",
     "text": [
      "release_year\n",
      "2014    1974\n",
      "2015    1904\n",
      "2013    1888\n",
      "2012    1722\n",
      "2011    1667\n",
      "        ... \n",
      "2020       1\n",
      "1887       1\n",
      "1878       1\n",
      "1874       1\n",
      "1883       1\n",
      "Name: count, Length: 135, dtype: Int64\n"
     ]
    }
   ],
   "source": [
    "print(Movies[\"release_year\"].value_counts())"
   ]
  },
  {
   "cell_type": "markdown",
   "metadata": {},
   "source": [
    "### Cuarto punto •\tCrear la columna con el retorno de inversión, llamada return con los campos revenue y budget\n",
    "\n",
    "cuando no hay datos disponibles para calcularlo, deberá tomar el valor 0."
   ]
  },
  {
   "cell_type": "code",
   "execution_count": 332,
   "metadata": {},
   "outputs": [
    {
     "name": "stdout",
     "output_type": "stream",
     "text": [
      "float64\n",
      "object\n"
     ]
    }
   ],
   "source": [
    "#Ante errores de ejecución, hay que verificar tipo de datos\n",
    "print(Movies[\"revenue\"].dtype)\n",
    "print(Movies[\"budget\"].dtype)  # ---->>>>tipo object"
   ]
  },
  {
   "cell_type": "code",
   "execution_count": 333,
   "metadata": {},
   "outputs": [
    {
     "data": {
      "text/plain": [
       "revenue\n",
       "False    45366\n",
       "Name: count, dtype: int64"
      ]
     },
     "execution_count": 333,
     "metadata": {},
     "output_type": "execute_result"
    }
   ],
   "source": [
    "Movies.revenue.isna().value_counts()  #No hay faltantes || Tipo integer"
   ]
  },
  {
   "cell_type": "code",
   "execution_count": 334,
   "metadata": {},
   "outputs": [
    {
     "data": {
      "text/plain": [
       "revenue\n",
       "10.0    45366\n",
       "Name: count, dtype: int64"
      ]
     },
     "execution_count": 334,
     "metadata": {},
     "output_type": "execute_result"
    }
   ],
   "source": [
    "Ganancias = Movies.revenue\n",
    "Ganancias2 = Ganancias + 10\n",
    "(Ganancias2 - Ganancias).value_counts()        # Solo hay valores numéricos en revenue"
   ]
  },
  {
   "cell_type": "code",
   "execution_count": 335,
   "metadata": {},
   "outputs": [],
   "source": [
    "Presupuesto = Movies.budget"
   ]
  },
  {
   "cell_type": "code",
   "execution_count": 336,
   "metadata": {},
   "outputs": [],
   "source": [
    "#Presupuesto2 = Presupuesto + 10     ##Error , detecta string."
   ]
  },
  {
   "cell_type": "code",
   "execution_count": 337,
   "metadata": {},
   "outputs": [
    {
     "name": "stdout",
     "output_type": "stream",
     "text": [
      "/ff9qCepilowshEtG2GYWwzt2bs4.jpg\n",
      "/zV8bHuSL6WXoD6FWogP9j4x80bL.jpg\n",
      "/zaSf5OG7V8X8gqFvly88zDdRm46.jpg\n"
     ]
    }
   ],
   "source": [
    "for i in Movies[\"budget\"]:          # Check de valores por longitud de caracteres, 10 digitos implicaría un billón de presupuesto (mil millones)\n",
    "    if len(i) > 10:\n",
    "        print(i)                 # La salida es correcta"
   ]
  },
  {
   "cell_type": "code",
   "execution_count": 338,
   "metadata": {},
   "outputs": [
    {
     "name": "stdout",
     "output_type": "stream",
     "text": [
      "0\n",
      "0\n",
      "0\n"
     ]
    }
   ],
   "source": [
    "for index, i in enumerate(Movies[\"budget\"]):          # Encontrar el index para eliminar\n",
    "    if len(i) > 10:\n",
    "        print(Presupuesto[index])               #La salida es inconsistente"
   ]
  },
  {
   "cell_type": "code",
   "execution_count": 339,
   "metadata": {},
   "outputs": [
    {
     "data": {
      "text/plain": [
       "'30000000'"
      ]
     },
     "execution_count": 339,
     "metadata": {},
     "output_type": "execute_result"
    }
   ],
   "source": [
    "Movies[\"budget\"][0]              # Corroborar valor con el indice arrojado, no coincide."
   ]
  },
  {
   "cell_type": "code",
   "execution_count": 340,
   "metadata": {},
   "outputs": [],
   "source": [
    "# Recurrir a eliminar uno por uno con su respectiva salida\n",
    "\n",
    "Movies[\"budget\"] = Movies[\"budget\"][Movies[\"budget\"] != \"/ff9qCepilowshEtG2GYWwzt2bs4.jpg\"]\n",
    "Movies[\"budget\"] = Movies[\"budget\"][Movies[\"budget\"] != \"/zaSf5OG7V8X8gqFvly88zDdRm46.jpg\"]\n",
    "Movies[\"budget\"] = Movies[\"budget\"][Movies[\"budget\"] != \"/zV8bHuSL6WXoD6FWogP9j4x80bL.jpg\"]\n"
   ]
  },
  {
   "cell_type": "code",
   "execution_count": 341,
   "metadata": {},
   "outputs": [
    {
     "data": {
      "text/plain": [
       "budget\n",
       "False    45363\n",
       "True         3\n",
       "Name: count, dtype: int64"
      ]
     },
     "execution_count": 341,
     "metadata": {},
     "output_type": "execute_result"
    }
   ],
   "source": [
    "Movies[\"budget\"].isna().value_counts()"
   ]
  },
  {
   "cell_type": "code",
   "execution_count": 342,
   "metadata": {},
   "outputs": [
    {
     "name": "stderr",
     "output_type": "stream",
     "text": [
      "C:\\Users\\Aleja\\AppData\\Local\\Temp\\ipykernel_8204\\1565188767.py:1: FutureWarning: A value is trying to be set on a copy of a DataFrame or Series through chained assignment using an inplace method.\n",
      "The behavior will change in pandas 3.0. This inplace method will never work because the intermediate object on which we are setting values always behaves as a copy.\n",
      "\n",
      "For example, when doing 'df[col].method(value, inplace=True)', try using 'df.method({col: value}, inplace=True)' or df[col] = df[col].method(value) instead, to perform the operation inplace on the original object.\n",
      "\n",
      "\n",
      "  Movies[\"budget\"].fillna(0,inplace=True)\n"
     ]
    }
   ],
   "source": [
    "Movies[\"budget\"].fillna(0,inplace=True)"
   ]
  },
  {
   "cell_type": "code",
   "execution_count": 343,
   "metadata": {},
   "outputs": [],
   "source": [
    "Movies[\"budget\"] = Movies[\"budget\"].astype(int)"
   ]
  },
  {
   "cell_type": "code",
   "execution_count": 344,
   "metadata": {},
   "outputs": [
    {
     "data": {
      "text/plain": [
       "0        373554033.0\n",
       "1        262797249.0\n",
       "2                0.0\n",
       "3         81452156.0\n",
       "4         76578911.0\n",
       "            ...     \n",
       "45460            0.0\n",
       "45462            0.0\n",
       "45463            0.0\n",
       "45464            0.0\n",
       "45465            0.0\n",
       "Name: revenue, Length: 45366, dtype: float64"
      ]
     },
     "execution_count": 344,
     "metadata": {},
     "output_type": "execute_result"
    }
   ],
   "source": [
    "Movies[\"revenue\"]"
   ]
  },
  {
   "cell_type": "code",
   "execution_count": 345,
   "metadata": {},
   "outputs": [],
   "source": [
    "# Calcular columna según enunciado, en caso de que el denominador sea cero, reemplazar por NA\n",
    "\n",
    "Movies[\"return\"] = Movies[\"revenue\"] / Movies[\"budget\"].replace(0,None)"
   ]
  },
  {
   "cell_type": "code",
   "execution_count": 346,
   "metadata": {},
   "outputs": [
    {
     "data": {
      "text/plain": [
       "0        12.451801\n",
       "1         4.043035\n",
       "2              NaN\n",
       "3          5.09076\n",
       "4              NaN\n",
       "           ...    \n",
       "45460          NaN\n",
       "45462          NaN\n",
       "45463          NaN\n",
       "45464          NaN\n",
       "45465          NaN\n",
       "Name: return, Length: 45366, dtype: object"
      ]
     },
     "execution_count": 346,
     "metadata": {},
     "output_type": "execute_result"
    }
   ],
   "source": [
    "Movies['return']"
   ]
  },
  {
   "cell_type": "code",
   "execution_count": 347,
   "metadata": {},
   "outputs": [
    {
     "data": {
      "text/plain": [
       "return\n",
       "True     36481\n",
       "False     8885\n",
       "Name: count, dtype: int64"
      ]
     },
     "execution_count": 347,
     "metadata": {},
     "output_type": "execute_result"
    }
   ],
   "source": [
    "Movies[\"return\"].isna().value_counts()"
   ]
  },
  {
   "cell_type": "code",
   "execution_count": 348,
   "metadata": {},
   "outputs": [
    {
     "name": "stderr",
     "output_type": "stream",
     "text": [
      "C:\\Users\\Aleja\\AppData\\Local\\Temp\\ipykernel_8204\\3296156735.py:1: FutureWarning: Downcasting object dtype arrays on .fillna, .ffill, .bfill is deprecated and will change in a future version. Call result.infer_objects(copy=False) instead. To opt-in to the future behavior, set `pd.set_option('future.no_silent_downcasting', True)`\n",
      "  Movies['return'].fillna(0,inplace=True)\n"
     ]
    }
   ],
   "source": [
    "Movies['return'].fillna(0,inplace=True)"
   ]
  },
  {
   "cell_type": "code",
   "execution_count": 349,
   "metadata": {},
   "outputs": [
    {
     "data": {
      "text/plain": [
       "return\n",
       "False    45366\n",
       "Name: count, dtype: int64"
      ]
     },
     "execution_count": 349,
     "metadata": {},
     "output_type": "execute_result"
    }
   ],
   "source": [
    "Movies['return'].isna().value_counts()"
   ]
  },
  {
   "cell_type": "markdown",
   "metadata": {},
   "source": [
    "### Ultimo Punto Movies •\tEliminar las columnas que no serán utilizadas, video,imdb_id,adult,original_title,poster_path y homepage."
   ]
  },
  {
   "cell_type": "code",
   "execution_count": 350,
   "metadata": {},
   "outputs": [],
   "source": [
    "Movies = Movies.drop(columns=[\"video\", \"imdb_id\", \"adult\", \"original_title\", \"poster_path\", \"homepage\"])"
   ]
  },
  {
   "cell_type": "code",
   "execution_count": 351,
   "metadata": {},
   "outputs": [
    {
     "data": {
      "text/plain": [
       "Index(['belongs_to_collection', 'budget', 'genres', 'id', 'original_language',\n",
       "       'overview', 'popularity', 'production_companies',\n",
       "       'production_countries', 'release_date', 'revenue', 'runtime',\n",
       "       'spoken_languages', 'status', 'tagline', 'title', 'vote_average',\n",
       "       'vote_count', 'release_year', 'return'],\n",
       "      dtype='object')"
      ]
     },
     "execution_count": 351,
     "metadata": {},
     "output_type": "execute_result"
    }
   ],
   "source": [
    "Movies.columns"
   ]
  },
  {
   "cell_type": "code",
   "execution_count": 352,
   "metadata": {},
   "outputs": [
    {
     "name": "stdout",
     "output_type": "stream",
     "text": [
      "<class 'pandas.core.frame.DataFrame'>\n",
      "Index: 45366 entries, 0 to 45465\n",
      "Data columns (total 20 columns):\n",
      " #   Column                 Non-Null Count  Dtype         \n",
      "---  ------                 --------------  -----         \n",
      " 0   belongs_to_collection  4491 non-null   object        \n",
      " 1   budget                 45366 non-null  int32         \n",
      " 2   genres                 45366 non-null  object        \n",
      " 3   id                     45366 non-null  object        \n",
      " 4   original_language      45355 non-null  object        \n",
      " 5   overview               44425 non-null  object        \n",
      " 6   popularity             45364 non-null  object        \n",
      " 7   production_companies   45366 non-null  object        \n",
      " 8   production_countries   45366 non-null  object        \n",
      " 9   release_date           45363 non-null  datetime64[ns]\n",
      " 10  revenue                45366 non-null  float64       \n",
      " 11  runtime                45117 non-null  float64       \n",
      " 12  spoken_languages       45363 non-null  object        \n",
      " 13  status                 45283 non-null  object        \n",
      " 14  tagline                20394 non-null  object        \n",
      " 15  title                  45363 non-null  object        \n",
      " 16  vote_average           45363 non-null  float64       \n",
      " 17  vote_count             45363 non-null  float64       \n",
      " 18  release_year           45363 non-null  Int64         \n",
      " 19  return                 45366 non-null  float64       \n",
      "dtypes: Int64(1), datetime64[ns](1), float64(5), int32(1), object(12)\n",
      "memory usage: 8.1+ MB\n"
     ]
    }
   ],
   "source": [
    "Movies.info()  #Eran 24. Ahora son 20, se crearon release_year + return y se eliminaron 6"
   ]
  },
  {
   "cell_type": "markdown",
   "metadata": {},
   "source": [
    "### Finalizo Tratamiento de Dataset Movies (Base a la propuesta de trabajo)"
   ]
  },
  {
   "cell_type": "markdown",
   "metadata": {},
   "source": [
    "Inicio Tratamiento Credits --> Primer punto solicitado , los campos belongs_to_collection, production_companies  + deberán desanidarlos para poder y unirlos al dataset de nuevo "
   ]
  },
  {
   "cell_type": "markdown",
   "metadata": {},
   "source": [
    "Desanidar Belongs_to_collection"
   ]
  },
  {
   "cell_type": "code",
   "execution_count": 353,
   "metadata": {},
   "outputs": [
    {
     "data": {
      "text/plain": [
       "0        {'id': 10194, 'name': 'Toy Story Collection', ...\n",
       "1                                                      NaN\n",
       "2        {'id': 119050, 'name': 'Grumpy Old Men Collect...\n",
       "3                                                      NaN\n",
       "4        {'id': 96871, 'name': 'Father of the Bride Col...\n",
       "                               ...                        \n",
       "45460                                                  NaN\n",
       "45462                                                  NaN\n",
       "45463                                                  NaN\n",
       "45464                                                  NaN\n",
       "45465                                                  NaN\n",
       "Name: belongs_to_collection, Length: 45366, dtype: object"
      ]
     },
     "execution_count": 353,
     "metadata": {},
     "output_type": "execute_result"
    }
   ],
   "source": [
    "Movies[\"belongs_to_collection\"]"
   ]
  },
  {
   "cell_type": "code",
   "execution_count": 354,
   "metadata": {},
   "outputs": [],
   "source": [
    "Movies[\"belongs_to_collection\"].drop_duplicates(inplace=True)"
   ]
  },
  {
   "cell_type": "code",
   "execution_count": 355,
   "metadata": {},
   "outputs": [
    {
     "data": {
      "text/plain": [
       "belongs_to_collection\n",
       "True     40875\n",
       "False     4491\n",
       "Name: count, dtype: int64"
      ]
     },
     "execution_count": 355,
     "metadata": {},
     "output_type": "execute_result"
    }
   ],
   "source": [
    "Movies[\"belongs_to_collection\"].isnull().value_counts()"
   ]
  },
  {
   "cell_type": "code",
   "execution_count": 356,
   "metadata": {},
   "outputs": [
    {
     "data": {
      "text/plain": [
       "\"{'id': 10194, 'name': 'Toy Story Collection', 'poster_path': '/7G9915LfUQ2lVfwMEEhDsn3kT4B.jpg', 'backdrop_path': '/9FBwqcd9IRruEDUrTdcaafOMKUq.jpg'}\""
      ]
     },
     "execution_count": 356,
     "metadata": {},
     "output_type": "execute_result"
    }
   ],
   "source": [
    "# Ver una salida como ejemplo para entender composición instancias.\n",
    "\n",
    "Movies[\"belongs_to_collection\"][0]"
   ]
  },
  {
   "cell_type": "code",
   "execution_count": 357,
   "metadata": {},
   "outputs": [
    {
     "data": {
      "text/plain": [
       "0    {'id': 10194, 'name': 'Toy Story Collection', ...\n",
       "1                                                  NaN\n",
       "2    {'id': 119050, 'name': 'Grumpy Old Men Collect...\n",
       "3                                                  NaN\n",
       "4    {'id': 96871, 'name': 'Father of the Bride Col...\n",
       "5                                                  NaN\n",
       "6                                                  NaN\n",
       "7                                                  NaN\n",
       "8                                                  NaN\n",
       "9    {'id': 645, 'name': 'James Bond Collection', '...\n",
       "Name: belongs_to_collection, dtype: object"
      ]
     },
     "execution_count": 357,
     "metadata": {},
     "output_type": "execute_result"
    }
   ],
   "source": [
    "Movies[\"belongs_to_collection\"][:10]"
   ]
  },
  {
   "cell_type": "code",
   "execution_count": 358,
   "metadata": {},
   "outputs": [
    {
     "name": "stdout",
     "output_type": "stream",
     "text": [
      "             id                            name  \\\n",
      "0       10194.0            Toy Story Collection   \n",
      "1           NaN                             NaN   \n",
      "2      119050.0       Grumpy Old Men Collection   \n",
      "3           NaN                             NaN   \n",
      "4       96871.0  Father of the Bride Collection   \n",
      "...         ...                             ...   \n",
      "45361       NaN                             NaN   \n",
      "45362       NaN                             NaN   \n",
      "45363       NaN                             NaN   \n",
      "45364       NaN                             NaN   \n",
      "45365       NaN                             NaN   \n",
      "\n",
      "                            poster_path                     backdrop_path  \n",
      "0      /7G9915LfUQ2lVfwMEEhDsn3kT4B.jpg  /9FBwqcd9IRruEDUrTdcaafOMKUq.jpg  \n",
      "1                                   NaN                               NaN  \n",
      "2      /nLvUdqgPgm3F85NMCii9gVFUcet.jpg  /hypTnLot2z8wpFS7qwsQHW1uV8u.jpg  \n",
      "3                                   NaN                               NaN  \n",
      "4      /nts4iOmNnq7GNicycMJ9pSAn204.jpg  /7qwE57OVZmMJChBpLEbJEmzUydk.jpg  \n",
      "...                                 ...                               ...  \n",
      "45361                               NaN                               NaN  \n",
      "45362                               NaN                               NaN  \n",
      "45363                               NaN                               NaN  \n",
      "45364                               NaN                               NaN  \n",
      "45365                               NaN                               NaN  \n",
      "\n",
      "[45366 rows x 4 columns]\n"
     ]
    }
   ],
   "source": [
    "import pandas as pd\n",
    "import ast\n",
    "\n",
    "def desanidar_belongs_to_collection(movies_df):\n",
    "    # Extraer y desanidar la columna 'belongs_to_collection'\n",
    "    collection_data = movies_df['belongs_to_collection'].apply(lambda x: ast.literal_eval(x) if pd.notnull(x) else None)\n",
    "    \n",
    "    # Convertir la lista de diccionarios en un DataFrame\n",
    "    collection_df = pd.json_normalize(collection_data)\n",
    "    \n",
    "    return collection_df\n",
    "\n",
    "belong_to_collection_desanidado = desanidar_belongs_to_collection(Movies)\n",
    "\n",
    "print(belong_to_collection_desanidado)"
   ]
  },
  {
   "cell_type": "code",
   "execution_count": 359,
   "metadata": {},
   "outputs": [],
   "source": [
    "belong_to_collection = belong_to_collection_desanidado"
   ]
  },
  {
   "cell_type": "code",
   "execution_count": 360,
   "metadata": {},
   "outputs": [
    {
     "data": {
      "text/html": [
       "<div>\n",
       "<style scoped>\n",
       "    .dataframe tbody tr th:only-of-type {\n",
       "        vertical-align: middle;\n",
       "    }\n",
       "\n",
       "    .dataframe tbody tr th {\n",
       "        vertical-align: top;\n",
       "    }\n",
       "\n",
       "    .dataframe thead th {\n",
       "        text-align: right;\n",
       "    }\n",
       "</style>\n",
       "<table border=\"1\" class=\"dataframe\">\n",
       "  <thead>\n",
       "    <tr style=\"text-align: right;\">\n",
       "      <th></th>\n",
       "      <th>id</th>\n",
       "      <th>name</th>\n",
       "      <th>poster_path</th>\n",
       "      <th>backdrop_path</th>\n",
       "    </tr>\n",
       "  </thead>\n",
       "  <tbody>\n",
       "    <tr>\n",
       "      <th>0</th>\n",
       "      <td>10194.0</td>\n",
       "      <td>Toy Story Collection</td>\n",
       "      <td>/7G9915LfUQ2lVfwMEEhDsn3kT4B.jpg</td>\n",
       "      <td>/9FBwqcd9IRruEDUrTdcaafOMKUq.jpg</td>\n",
       "    </tr>\n",
       "    <tr>\n",
       "      <th>1</th>\n",
       "      <td>NaN</td>\n",
       "      <td>NaN</td>\n",
       "      <td>NaN</td>\n",
       "      <td>NaN</td>\n",
       "    </tr>\n",
       "    <tr>\n",
       "      <th>2</th>\n",
       "      <td>119050.0</td>\n",
       "      <td>Grumpy Old Men Collection</td>\n",
       "      <td>/nLvUdqgPgm3F85NMCii9gVFUcet.jpg</td>\n",
       "      <td>/hypTnLot2z8wpFS7qwsQHW1uV8u.jpg</td>\n",
       "    </tr>\n",
       "    <tr>\n",
       "      <th>3</th>\n",
       "      <td>NaN</td>\n",
       "      <td>NaN</td>\n",
       "      <td>NaN</td>\n",
       "      <td>NaN</td>\n",
       "    </tr>\n",
       "    <tr>\n",
       "      <th>4</th>\n",
       "      <td>96871.0</td>\n",
       "      <td>Father of the Bride Collection</td>\n",
       "      <td>/nts4iOmNnq7GNicycMJ9pSAn204.jpg</td>\n",
       "      <td>/7qwE57OVZmMJChBpLEbJEmzUydk.jpg</td>\n",
       "    </tr>\n",
       "    <tr>\n",
       "      <th>...</th>\n",
       "      <td>...</td>\n",
       "      <td>...</td>\n",
       "      <td>...</td>\n",
       "      <td>...</td>\n",
       "    </tr>\n",
       "    <tr>\n",
       "      <th>45361</th>\n",
       "      <td>NaN</td>\n",
       "      <td>NaN</td>\n",
       "      <td>NaN</td>\n",
       "      <td>NaN</td>\n",
       "    </tr>\n",
       "    <tr>\n",
       "      <th>45362</th>\n",
       "      <td>NaN</td>\n",
       "      <td>NaN</td>\n",
       "      <td>NaN</td>\n",
       "      <td>NaN</td>\n",
       "    </tr>\n",
       "    <tr>\n",
       "      <th>45363</th>\n",
       "      <td>NaN</td>\n",
       "      <td>NaN</td>\n",
       "      <td>NaN</td>\n",
       "      <td>NaN</td>\n",
       "    </tr>\n",
       "    <tr>\n",
       "      <th>45364</th>\n",
       "      <td>NaN</td>\n",
       "      <td>NaN</td>\n",
       "      <td>NaN</td>\n",
       "      <td>NaN</td>\n",
       "    </tr>\n",
       "    <tr>\n",
       "      <th>45365</th>\n",
       "      <td>NaN</td>\n",
       "      <td>NaN</td>\n",
       "      <td>NaN</td>\n",
       "      <td>NaN</td>\n",
       "    </tr>\n",
       "  </tbody>\n",
       "</table>\n",
       "<p>45366 rows × 4 columns</p>\n",
       "</div>"
      ],
      "text/plain": [
       "             id                            name  \\\n",
       "0       10194.0            Toy Story Collection   \n",
       "1           NaN                             NaN   \n",
       "2      119050.0       Grumpy Old Men Collection   \n",
       "3           NaN                             NaN   \n",
       "4       96871.0  Father of the Bride Collection   \n",
       "...         ...                             ...   \n",
       "45361       NaN                             NaN   \n",
       "45362       NaN                             NaN   \n",
       "45363       NaN                             NaN   \n",
       "45364       NaN                             NaN   \n",
       "45365       NaN                             NaN   \n",
       "\n",
       "                            poster_path                     backdrop_path  \n",
       "0      /7G9915LfUQ2lVfwMEEhDsn3kT4B.jpg  /9FBwqcd9IRruEDUrTdcaafOMKUq.jpg  \n",
       "1                                   NaN                               NaN  \n",
       "2      /nLvUdqgPgm3F85NMCii9gVFUcet.jpg  /hypTnLot2z8wpFS7qwsQHW1uV8u.jpg  \n",
       "3                                   NaN                               NaN  \n",
       "4      /nts4iOmNnq7GNicycMJ9pSAn204.jpg  /7qwE57OVZmMJChBpLEbJEmzUydk.jpg  \n",
       "...                                 ...                               ...  \n",
       "45361                               NaN                               NaN  \n",
       "45362                               NaN                               NaN  \n",
       "45363                               NaN                               NaN  \n",
       "45364                               NaN                               NaN  \n",
       "45365                               NaN                               NaN  \n",
       "\n",
       "[45366 rows x 4 columns]"
      ]
     },
     "execution_count": 360,
     "metadata": {},
     "output_type": "execute_result"
    }
   ],
   "source": [
    "belong_to_collection  #belong_to_colecction desanidada, falta trabajo de limpieza"
   ]
  },
  {
   "cell_type": "markdown",
   "metadata": {},
   "source": [
    "Desanidar Production_Companies"
   ]
  },
  {
   "cell_type": "code",
   "execution_count": 361,
   "metadata": {},
   "outputs": [
    {
     "data": {
      "text/plain": [
       "0           [{'name': 'Pixar Animation Studios', 'id': 3}]\n",
       "1        [{'name': 'TriStar Pictures', 'id': 559}, {'na...\n",
       "2        [{'name': 'Warner Bros.', 'id': 6194}, {'name'...\n",
       "3        [{'name': 'Twentieth Century Fox Film Corporat...\n",
       "4        [{'name': 'Sandollar Productions', 'id': 5842}...\n",
       "                               ...                        \n",
       "45460    [{'name': 'Westdeutscher Rundfunk (WDR)', 'id'...\n",
       "45462               [{'name': 'Sine Olivia', 'id': 19653}]\n",
       "45463    [{'name': 'American World Pictures', 'id': 6165}]\n",
       "45464                 [{'name': 'Yermoliev', 'id': 88753}]\n",
       "45465                                                   []\n",
       "Name: production_companies, Length: 45366, dtype: object"
      ]
     },
     "execution_count": 361,
     "metadata": {},
     "output_type": "execute_result"
    }
   ],
   "source": [
    "Movies[\"production_companies\"]"
   ]
  },
  {
   "cell_type": "code",
   "execution_count": 362,
   "metadata": {},
   "outputs": [
    {
     "data": {
      "text/plain": [
       "\"[{'name': 'Pixar Animation Studios', 'id': 3}]\""
      ]
     },
     "execution_count": 362,
     "metadata": {},
     "output_type": "execute_result"
    }
   ],
   "source": [
    "Movies[\"production_companies\"][0]"
   ]
  },
  {
   "cell_type": "code",
   "execution_count": 363,
   "metadata": {},
   "outputs": [],
   "source": [
    "#Elimina los diccionarios dentro de la columna y retorna listas que incluyen nombre e id de la compania productora\n",
    "import ast\n",
    "\n",
    "def extract_production_companies(row):\n",
    "    # Manejar el caso cuando row es un booleano\n",
    "    if isinstance(row, bool):\n",
    "        return []  # Retorna una lista vacía si es un booleano\n",
    "    \n",
    "    try:\n",
    "        companies = ast.literal_eval(row)\n",
    "        \n",
    "        # Verifica si companies es una lista\n",
    "        if not isinstance(companies, list):\n",
    "            return []  # Retorna una lista vacía si no es una lista\n",
    "        \n",
    "        # Crea una lista de tuplas con el nombre y el id de cada compañía\n",
    "        return [(comp['name'], comp['id']) for comp in companies if isinstance(comp, dict) and 'name' in comp and 'id' in comp]\n",
    "    \n",
    "    except (ValueError, SyntaxError) as e:\n",
    "        return []  # Retorna una lista vacía en caso de error\n",
    "\n",
    "# Aplica la función a la columna production_companies\n",
    "production_data = Movies[\"production_companies\"].apply(lambda x: extract_production_companies(x))\n"
   ]
  },
  {
   "cell_type": "code",
   "execution_count": 364,
   "metadata": {},
   "outputs": [
    {
     "data": {
      "text/plain": [
       "0                           [(Pixar Animation Studios, 3)]\n",
       "1        [(TriStar Pictures, 559), (Teitler Film, 2550)...\n",
       "2          [(Warner Bros., 6194), (Lancaster Gate, 19464)]\n",
       "3          [(Twentieth Century Fox Film Corporation, 306)]\n",
       "4        [(Sandollar Productions, 5842), (Touchstone Pi...\n",
       "                               ...                        \n",
       "45460    [(Westdeutscher Rundfunk (WDR), 7025), (Workin...\n",
       "45462                               [(Sine Olivia, 19653)]\n",
       "45463                    [(American World Pictures, 6165)]\n",
       "45464                                 [(Yermoliev, 88753)]\n",
       "45465                                                   []\n",
       "Name: production_companies, Length: 45366, dtype: object"
      ]
     },
     "execution_count": 364,
     "metadata": {},
     "output_type": "execute_result"
    }
   ],
   "source": [
    "production_data      #Se obtienen filas con tuplas, donde cada tupla contiene compania productora y su id."
   ]
  },
  {
   "cell_type": "code",
   "execution_count": 365,
   "metadata": {},
   "outputs": [],
   "source": [
    "production_data_desanidada = production_data.explode()"
   ]
  },
  {
   "cell_type": "code",
   "execution_count": 366,
   "metadata": {},
   "outputs": [
    {
     "data": {
      "text/plain": [
       "0                  (Pixar Animation Studios, 3)\n",
       "1                       (TriStar Pictures, 559)\n",
       "1                          (Teitler Film, 2550)\n",
       "1            (Interscope Communications, 10201)\n",
       "2                          (Warner Bros., 6194)\n",
       "                          ...                  \n",
       "45460    (CanWest Global Communications, 38978)\n",
       "45462                      (Sine Olivia, 19653)\n",
       "45463           (American World Pictures, 6165)\n",
       "45464                        (Yermoliev, 88753)\n",
       "45465                                       NaN\n",
       "Name: production_companies, Length: 82287, dtype: object"
      ]
     },
     "execution_count": 366,
     "metadata": {},
     "output_type": "execute_result"
    }
   ],
   "source": [
    "production_data_desanidada    #Se obtienen todas las companias productoras, y el índice sirve de referencia para luego agrupar"
   ]
  },
  {
   "cell_type": "code",
   "execution_count": 367,
   "metadata": {},
   "outputs": [],
   "source": [
    "production_data_desanidada = production_data_desanidada.to_frame()"
   ]
  },
  {
   "cell_type": "code",
   "execution_count": 368,
   "metadata": {},
   "outputs": [
    {
     "name": "stderr",
     "output_type": "stream",
     "text": [
      "C:\\Users\\Aleja\\AppData\\Local\\Temp\\ipykernel_8204\\3844873505.py:13: FutureWarning: Series.__getitem__ treating keys as positions is deprecated. In a future version, integer keys will always be treated as labels (consistent with DataFrame behavior). To access a value by position, use `ser.iloc[pos]`\n",
      "  if pd.isna(row[0]):\n",
      "C:\\Users\\Aleja\\AppData\\Local\\Temp\\ipykernel_8204\\3844873505.py:19: FutureWarning: Series.__getitem__ treating keys as positions is deprecated. In a future version, integer keys will always be treated as labels (consistent with DataFrame behavior). To access a value by position, use `ser.iloc[pos]`\n",
      "  production_company, id_value = row[0]\n"
     ]
    },
    {
     "name": "stdout",
     "output_type": "stream",
     "text": [
      "       indice             production_company       id\n",
      "0           0        Pixar Animation Studios      3.0\n",
      "1           1               TriStar Pictures    559.0\n",
      "2           1                   Teitler Film   2550.0\n",
      "3           1      Interscope Communications  10201.0\n",
      "4           2                   Warner Bros.   6194.0\n",
      "...       ...                            ...      ...\n",
      "82282   45460  CanWest Global Communications  38978.0\n",
      "82283   45462                    Sine Olivia  19653.0\n",
      "82284   45463        American World Pictures   6165.0\n",
      "82285   45464                      Yermoliev  88753.0\n",
      "82286   45465                            NaN      NaN\n",
      "\n",
      "[82287 rows x 3 columns]\n"
     ]
    }
   ],
   "source": [
    "import pandas as pd\n",
    "import numpy as np\n",
    "\n",
    "def desanidar_production_data(data):\n",
    "    # Crear listas para almacenar los valores\n",
    "    indices = []\n",
    "    production_companies = []\n",
    "    ids = []\n",
    "    \n",
    "    # Iterar sobre cada elemento en el dataset\n",
    "    for index, row in data.iterrows():\n",
    "        # Si el valor es NaN, simplemente añade un NaN a las listas\n",
    "        if pd.isna(row[0]):\n",
    "            indices.append(index)\n",
    "            production_companies.append(np.nan)\n",
    "            ids.append(np.nan)\n",
    "        else:\n",
    "            # Desanidar el valor que es una tupla\n",
    "            production_company, id_value = row[0]\n",
    "            indices.append(index)\n",
    "            production_companies.append(production_company)\n",
    "            ids.append(id_value)\n",
    "\n",
    "    # Crear un nuevo DataFrame con las listas\n",
    "    production_companies_desanidado = pd.DataFrame({\n",
    "        'indice': indices,\n",
    "        'production_company': production_companies,\n",
    "        'id': ids\n",
    "    })\n",
    "\n",
    "    return production_companies_desanidado\n",
    "\n",
    "production_companies_desanidado = desanidar_production_data(production_data_desanidada)\n",
    "print(production_companies_desanidado)\n"
   ]
  },
  {
   "cell_type": "code",
   "execution_count": 369,
   "metadata": {},
   "outputs": [
    {
     "data": {
      "text/html": [
       "<div>\n",
       "<style scoped>\n",
       "    .dataframe tbody tr th:only-of-type {\n",
       "        vertical-align: middle;\n",
       "    }\n",
       "\n",
       "    .dataframe tbody tr th {\n",
       "        vertical-align: top;\n",
       "    }\n",
       "\n",
       "    .dataframe thead th {\n",
       "        text-align: right;\n",
       "    }\n",
       "</style>\n",
       "<table border=\"1\" class=\"dataframe\">\n",
       "  <thead>\n",
       "    <tr style=\"text-align: right;\">\n",
       "      <th></th>\n",
       "      <th>indice</th>\n",
       "      <th>production_company</th>\n",
       "      <th>id</th>\n",
       "    </tr>\n",
       "  </thead>\n",
       "  <tbody>\n",
       "    <tr>\n",
       "      <th>0</th>\n",
       "      <td>0</td>\n",
       "      <td>Pixar Animation Studios</td>\n",
       "      <td>3.0</td>\n",
       "    </tr>\n",
       "    <tr>\n",
       "      <th>1</th>\n",
       "      <td>1</td>\n",
       "      <td>TriStar Pictures</td>\n",
       "      <td>559.0</td>\n",
       "    </tr>\n",
       "    <tr>\n",
       "      <th>2</th>\n",
       "      <td>1</td>\n",
       "      <td>Teitler Film</td>\n",
       "      <td>2550.0</td>\n",
       "    </tr>\n",
       "    <tr>\n",
       "      <th>3</th>\n",
       "      <td>1</td>\n",
       "      <td>Interscope Communications</td>\n",
       "      <td>10201.0</td>\n",
       "    </tr>\n",
       "    <tr>\n",
       "      <th>4</th>\n",
       "      <td>2</td>\n",
       "      <td>Warner Bros.</td>\n",
       "      <td>6194.0</td>\n",
       "    </tr>\n",
       "    <tr>\n",
       "      <th>...</th>\n",
       "      <td>...</td>\n",
       "      <td>...</td>\n",
       "      <td>...</td>\n",
       "    </tr>\n",
       "    <tr>\n",
       "      <th>82282</th>\n",
       "      <td>45460</td>\n",
       "      <td>CanWest Global Communications</td>\n",
       "      <td>38978.0</td>\n",
       "    </tr>\n",
       "    <tr>\n",
       "      <th>82283</th>\n",
       "      <td>45462</td>\n",
       "      <td>Sine Olivia</td>\n",
       "      <td>19653.0</td>\n",
       "    </tr>\n",
       "    <tr>\n",
       "      <th>82284</th>\n",
       "      <td>45463</td>\n",
       "      <td>American World Pictures</td>\n",
       "      <td>6165.0</td>\n",
       "    </tr>\n",
       "    <tr>\n",
       "      <th>82285</th>\n",
       "      <td>45464</td>\n",
       "      <td>Yermoliev</td>\n",
       "      <td>88753.0</td>\n",
       "    </tr>\n",
       "    <tr>\n",
       "      <th>82286</th>\n",
       "      <td>45465</td>\n",
       "      <td>NaN</td>\n",
       "      <td>NaN</td>\n",
       "    </tr>\n",
       "  </tbody>\n",
       "</table>\n",
       "<p>82287 rows × 3 columns</p>\n",
       "</div>"
      ],
      "text/plain": [
       "       indice             production_company       id\n",
       "0           0        Pixar Animation Studios      3.0\n",
       "1           1               TriStar Pictures    559.0\n",
       "2           1                   Teitler Film   2550.0\n",
       "3           1      Interscope Communications  10201.0\n",
       "4           2                   Warner Bros.   6194.0\n",
       "...       ...                            ...      ...\n",
       "82282   45460  CanWest Global Communications  38978.0\n",
       "82283   45462                    Sine Olivia  19653.0\n",
       "82284   45463        American World Pictures   6165.0\n",
       "82285   45464                      Yermoliev  88753.0\n",
       "82286   45465                            NaN      NaN\n",
       "\n",
       "[82287 rows x 3 columns]"
      ]
     },
     "execution_count": 369,
     "metadata": {},
     "output_type": "execute_result"
    }
   ],
   "source": [
    "# Gracias a la función, pudimos desanidar las tuplas y hacer que cada fila contenga su compania productora y agregar una columna con su id. Esto permite consistencia.\n",
    "\n",
    "production_companies_desanidado #Pendiente de limpieza "
   ]
  },
  {
   "cell_type": "code",
   "execution_count": 370,
   "metadata": {},
   "outputs": [
    {
     "name": "stdout",
     "output_type": "stream",
     "text": [
      "       indice production_company     id\n",
      "1           1   TriStar Pictures  559.0\n",
      "226        90   TriStar Pictures  559.0\n",
      "299       116   TriStar Pictures  559.0\n",
      "302       118   TriStar Pictures  559.0\n",
      "385       161   TriStar Pictures  559.0\n",
      "...       ...                ...    ...\n",
      "77153   42175   TriStar Pictures  559.0\n",
      "78493   42976   TriStar Pictures  559.0\n",
      "78552   43012   TriStar Pictures  559.0\n",
      "79537   43644   TriStar Pictures  559.0\n",
      "79829   43832   TriStar Pictures  559.0\n",
      "\n",
      "[197 rows x 3 columns]\n"
     ]
    }
   ],
   "source": [
    "# Una demostración con un id aleatorio de que se corresponde con una y solo una compania.\n",
    "\n",
    "valor_a_filtrar = 'TriStar Pictures'  #Check tengan mismo ID por compañia\n",
    "filtro = production_companies_desanidado[production_companies_desanidado['production_company'] == valor_a_filtrar]\n",
    "print(filtro)"
   ]
  },
  {
   "cell_type": "code",
   "execution_count": 371,
   "metadata": {},
   "outputs": [
    {
     "name": "stdout",
     "output_type": "stream",
     "text": [
      "<class 'pandas.core.frame.DataFrame'>\n",
      "RangeIndex: 82287 entries, 0 to 82286\n",
      "Data columns (total 3 columns):\n",
      " #   Column              Non-Null Count  Dtype  \n",
      "---  ------              --------------  -----  \n",
      " 0   indice              82287 non-null  int64  \n",
      " 1   production_company  70491 non-null  object \n",
      " 2   id                  70491 non-null  float64\n",
      "dtypes: float64(1), int64(1), object(1)\n",
      "memory usage: 1.9+ MB\n"
     ]
    }
   ],
   "source": [
    "production_companies_desanidado.info()"
   ]
  },
  {
   "cell_type": "code",
   "execution_count": 372,
   "metadata": {},
   "outputs": [
    {
     "data": {
      "text/plain": [
       "id\n",
       "6194.0     1250\n",
       "8411.0     1075\n",
       "4.0        1003\n",
       "306.0       836\n",
       "33.0        830\n",
       "           ... \n",
       "47033.0       1\n",
       "89772.0       1\n",
       "37361.0       1\n",
       "37362.0       1\n",
       "88753.0       1\n",
       "Name: count, Length: 23688, dtype: int64"
      ]
     },
     "execution_count": 372,
     "metadata": {},
     "output_type": "execute_result"
    }
   ],
   "source": [
    "production_companies_desanidado.id.value_counts()"
   ]
  },
  {
   "cell_type": "code",
   "execution_count": 373,
   "metadata": {},
   "outputs": [
    {
     "data": {
      "text/plain": [
       "id\n",
       "False    70491\n",
       "True     11796\n",
       "Name: count, dtype: int64"
      ]
     },
     "execution_count": 373,
     "metadata": {},
     "output_type": "execute_result"
    }
   ],
   "source": [
    "production_companies_desanidado.id.isna().value_counts()"
   ]
  },
  {
   "cell_type": "code",
   "execution_count": 374,
   "metadata": {},
   "outputs": [
    {
     "name": "stderr",
     "output_type": "stream",
     "text": [
      "C:\\Users\\Aleja\\AppData\\Local\\Temp\\ipykernel_8204\\3209167122.py:1: FutureWarning: A value is trying to be set on a copy of a DataFrame or Series through chained assignment using an inplace method.\n",
      "The behavior will change in pandas 3.0. This inplace method will never work because the intermediate object on which we are setting values always behaves as a copy.\n",
      "\n",
      "For example, when doing 'df[col].method(value, inplace=True)', try using 'df.method({col: value}, inplace=True)' or df[col] = df[col].method(value) instead, to perform the operation inplace on the original object.\n",
      "\n",
      "\n",
      "  production_companies_desanidado.id.fillna(0, inplace=True)\n"
     ]
    }
   ],
   "source": [
    "production_companies_desanidado.id.fillna(0, inplace=True)"
   ]
  },
  {
   "cell_type": "code",
   "execution_count": 375,
   "metadata": {},
   "outputs": [
    {
     "data": {
      "text/plain": [
       "id\n",
       "False    82287\n",
       "Name: count, dtype: int64"
      ]
     },
     "execution_count": 375,
     "metadata": {},
     "output_type": "execute_result"
    }
   ],
   "source": [
    "production_companies_desanidado.id.isna().value_counts()"
   ]
  },
  {
   "cell_type": "code",
   "execution_count": 376,
   "metadata": {},
   "outputs": [],
   "source": [
    "production_companies_desanidado['id'] = production_companies_desanidado.id.astype(int)"
   ]
  },
  {
   "cell_type": "code",
   "execution_count": 377,
   "metadata": {},
   "outputs": [
    {
     "name": "stdout",
     "output_type": "stream",
     "text": [
      "<class 'pandas.core.frame.DataFrame'>\n",
      "RangeIndex: 82287 entries, 0 to 82286\n",
      "Data columns (total 3 columns):\n",
      " #   Column              Non-Null Count  Dtype \n",
      "---  ------              --------------  ----- \n",
      " 0   indice              82287 non-null  int64 \n",
      " 1   production_company  70491 non-null  object\n",
      " 2   id                  82287 non-null  int32 \n",
      "dtypes: int32(1), int64(1), object(1)\n",
      "memory usage: 1.6+ MB\n"
     ]
    }
   ],
   "source": [
    "production_companies_desanidado.info()"
   ]
  },
  {
   "cell_type": "code",
   "execution_count": 378,
   "metadata": {},
   "outputs": [
    {
     "data": {
      "text/plain": [
       "indice\n",
       "36122    26\n",
       "22235    26\n",
       "3786     26\n",
       "13782    25\n",
       "13748    24\n",
       "         ..\n",
       "20348     1\n",
       "20347     1\n",
       "20346     1\n",
       "20345     1\n",
       "45465     1\n",
       "Name: count, Length: 45366, dtype: int64"
      ]
     },
     "execution_count": 378,
     "metadata": {},
     "output_type": "execute_result"
    }
   ],
   "source": [
    "production_companies_desanidado[\"indice\"].value_counts()        # Ordena las películas (por el índice) que más companias productoras tuvieron involucradas."
   ]
  },
  {
   "cell_type": "code",
   "execution_count": 379,
   "metadata": {},
   "outputs": [],
   "source": [
    "filtroindice = production_companies_desanidado[production_companies_desanidado['indice'] == 22235]"
   ]
  },
  {
   "cell_type": "code",
   "execution_count": 380,
   "metadata": {},
   "outputs": [
    {
     "data": {
      "text/html": [
       "<div>\n",
       "<style scoped>\n",
       "    .dataframe tbody tr th:only-of-type {\n",
       "        vertical-align: middle;\n",
       "    }\n",
       "\n",
       "    .dataframe tbody tr th {\n",
       "        vertical-align: top;\n",
       "    }\n",
       "\n",
       "    .dataframe thead th {\n",
       "        text-align: right;\n",
       "    }\n",
       "</style>\n",
       "<table border=\"1\" class=\"dataframe\">\n",
       "  <thead>\n",
       "    <tr style=\"text-align: right;\">\n",
       "      <th></th>\n",
       "      <th>indice</th>\n",
       "      <th>production_company</th>\n",
       "      <th>id</th>\n",
       "    </tr>\n",
       "  </thead>\n",
       "  <tbody>\n",
       "    <tr>\n",
       "      <th>44671</th>\n",
       "      <td>22235</td>\n",
       "      <td>Zentropa Entertainments</td>\n",
       "      <td>76</td>\n",
       "    </tr>\n",
       "    <tr>\n",
       "      <th>44672</th>\n",
       "      <td>22235</td>\n",
       "      <td>Coop 99</td>\n",
       "      <td>122</td>\n",
       "    </tr>\n",
       "    <tr>\n",
       "      <th>44673</th>\n",
       "      <td>22235</td>\n",
       "      <td>Corazón International</td>\n",
       "      <td>200</td>\n",
       "    </tr>\n",
       "    <tr>\n",
       "      <th>44674</th>\n",
       "      <td>22235</td>\n",
       "      <td>Sputnik Oy</td>\n",
       "      <td>706</td>\n",
       "    </tr>\n",
       "    <tr>\n",
       "      <th>44675</th>\n",
       "      <td>22235</td>\n",
       "      <td>Kasander Film Company</td>\n",
       "      <td>1049</td>\n",
       "    </tr>\n",
       "    <tr>\n",
       "      <th>44676</th>\n",
       "      <td>22235</td>\n",
       "      <td>MMG Film &amp; TV Production</td>\n",
       "      <td>2075</td>\n",
       "    </tr>\n",
       "    <tr>\n",
       "      <th>44677</th>\n",
       "      <td>22235</td>\n",
       "      <td>Column Productions</td>\n",
       "      <td>2412</td>\n",
       "    </tr>\n",
       "    <tr>\n",
       "      <th>44678</th>\n",
       "      <td>22235</td>\n",
       "      <td>Negativ</td>\n",
       "      <td>4595</td>\n",
       "    </tr>\n",
       "    <tr>\n",
       "      <th>44679</th>\n",
       "      <td>22235</td>\n",
       "      <td>Filmes do Tejo</td>\n",
       "      <td>16450</td>\n",
       "    </tr>\n",
       "    <tr>\n",
       "      <th>44680</th>\n",
       "      <td>22235</td>\n",
       "      <td>Fantastic Films</td>\n",
       "      <td>18078</td>\n",
       "    </tr>\n",
       "    <tr>\n",
       "      <th>44681</th>\n",
       "      <td>22235</td>\n",
       "      <td>Rattlesnake Productions</td>\n",
       "      <td>25188</td>\n",
       "    </tr>\n",
       "    <tr>\n",
       "      <th>44682</th>\n",
       "      <td>22235</td>\n",
       "      <td>Bianca Film</td>\n",
       "      <td>27559</td>\n",
       "    </tr>\n",
       "    <tr>\n",
       "      <th>44683</th>\n",
       "      <td>22235</td>\n",
       "      <td>Maestranza Films</td>\n",
       "      <td>36920</td>\n",
       "    </tr>\n",
       "    <tr>\n",
       "      <th>44684</th>\n",
       "      <td>22235</td>\n",
       "      <td>E-motion Film</td>\n",
       "      <td>48427</td>\n",
       "    </tr>\n",
       "    <tr>\n",
       "      <th>44685</th>\n",
       "      <td>22235</td>\n",
       "      <td>Athena Film A/S</td>\n",
       "      <td>51549</td>\n",
       "    </tr>\n",
       "    <tr>\n",
       "      <th>44686</th>\n",
       "      <td>22235</td>\n",
       "      <td>Princes Films</td>\n",
       "      <td>51980</td>\n",
       "    </tr>\n",
       "    <tr>\n",
       "      <th>44687</th>\n",
       "      <td>22235</td>\n",
       "      <td>TT Filmműhely</td>\n",
       "      <td>55461</td>\n",
       "    </tr>\n",
       "    <tr>\n",
       "      <th>44688</th>\n",
       "      <td>22235</td>\n",
       "      <td>Cumulus Projekt</td>\n",
       "      <td>55583</td>\n",
       "    </tr>\n",
       "    <tr>\n",
       "      <th>44689</th>\n",
       "      <td>22235</td>\n",
       "      <td>Drunken Angel Entertainment</td>\n",
       "      <td>55584</td>\n",
       "    </tr>\n",
       "    <tr>\n",
       "      <th>44690</th>\n",
       "      <td>22235</td>\n",
       "      <td>Goran Production Company</td>\n",
       "      <td>55585</td>\n",
       "    </tr>\n",
       "    <tr>\n",
       "      <th>44691</th>\n",
       "      <td>22235</td>\n",
       "      <td>Hargla Company</td>\n",
       "      <td>55586</td>\n",
       "    </tr>\n",
       "    <tr>\n",
       "      <th>44692</th>\n",
       "      <td>22235</td>\n",
       "      <td>Inkas Production</td>\n",
       "      <td>55587</td>\n",
       "    </tr>\n",
       "    <tr>\n",
       "      <th>44693</th>\n",
       "      <td>22235</td>\n",
       "      <td>Lychnari Productions</td>\n",
       "      <td>55588</td>\n",
       "    </tr>\n",
       "    <tr>\n",
       "      <th>44694</th>\n",
       "      <td>22235</td>\n",
       "      <td>Public Institution Kinemos Grupe</td>\n",
       "      <td>55589</td>\n",
       "    </tr>\n",
       "    <tr>\n",
       "      <th>44695</th>\n",
       "      <td>22235</td>\n",
       "      <td>SHOTS</td>\n",
       "      <td>55590</td>\n",
       "    </tr>\n",
       "    <tr>\n",
       "      <th>44696</th>\n",
       "      <td>22235</td>\n",
       "      <td>Titanic s.r.o.</td>\n",
       "      <td>55591</td>\n",
       "    </tr>\n",
       "  </tbody>\n",
       "</table>\n",
       "</div>"
      ],
      "text/plain": [
       "       indice                production_company     id\n",
       "44671   22235           Zentropa Entertainments     76\n",
       "44672   22235                           Coop 99    122\n",
       "44673   22235             Corazón International    200\n",
       "44674   22235                        Sputnik Oy    706\n",
       "44675   22235             Kasander Film Company   1049\n",
       "44676   22235          MMG Film & TV Production   2075\n",
       "44677   22235                Column Productions   2412\n",
       "44678   22235                           Negativ   4595\n",
       "44679   22235                    Filmes do Tejo  16450\n",
       "44680   22235                   Fantastic Films  18078\n",
       "44681   22235           Rattlesnake Productions  25188\n",
       "44682   22235                       Bianca Film  27559\n",
       "44683   22235                  Maestranza Films  36920\n",
       "44684   22235                     E-motion Film  48427\n",
       "44685   22235                   Athena Film A/S  51549\n",
       "44686   22235                     Princes Films  51980\n",
       "44687   22235                     TT Filmműhely  55461\n",
       "44688   22235                   Cumulus Projekt  55583\n",
       "44689   22235       Drunken Angel Entertainment  55584\n",
       "44690   22235          Goran Production Company  55585\n",
       "44691   22235                    Hargla Company  55586\n",
       "44692   22235                  Inkas Production  55587\n",
       "44693   22235              Lychnari Productions  55588\n",
       "44694   22235  Public Institution Kinemos Grupe  55589\n",
       "44695   22235                             SHOTS  55590\n",
       "44696   22235                    Titanic s.r.o.  55591"
      ]
     },
     "execution_count": 380,
     "metadata": {},
     "output_type": "execute_result"
    }
   ],
   "source": [
    "filtroindice            # Muestra la cantidad de companias productoras que tuvo una película en particular."
   ]
  },
  {
   "cell_type": "code",
   "execution_count": 381,
   "metadata": {},
   "outputs": [
    {
     "name": "stdout",
     "output_type": "stream",
     "text": [
      "       indice                                 production_company\n",
      "0           0                            Pixar Animation Studios\n",
      "1           1  TriStar Pictures and Teitler Film and Intersco...\n",
      "2           2                    Warner Bros. and Lancaster Gate\n",
      "3           3             Twentieth Century Fox Film Corporation\n",
      "4           4      Sandollar Productions and Touchstone Pictures\n",
      "...       ...                                                ...\n",
      "45361   45460  Westdeutscher Rundfunk (WDR) and Working Title...\n",
      "45362   45462                                        Sine Olivia\n",
      "45363   45463                            American World Pictures\n",
      "45364   45464                                          Yermoliev\n",
      "45365   45465                                                   \n",
      "\n",
      "[45366 rows x 2 columns]\n"
     ]
    }
   ],
   "source": [
    "# Group by para agrupar por índice.\n",
    "production_companies_conjunto = production_companies_desanidado.groupby('indice')['production_company'].agg(lambda x: ' and '.join(x.dropna())).reset_index()\n",
    "\n",
    "print(production_companies_conjunto)"
   ]
  },
  {
   "cell_type": "markdown",
   "metadata": {},
   "source": [
    "Aquí se obtiene las production company por película y dejo un dataset donde puedo obtener la cantidad de peliculas que grabó cada compañia, en caso de ser necesario ese dato más adelante"
   ]
  },
  {
   "cell_type": "code",
   "execution_count": 382,
   "metadata": {},
   "outputs": [
    {
     "data": {
      "text/html": [
       "<div>\n",
       "<style scoped>\n",
       "    .dataframe tbody tr th:only-of-type {\n",
       "        vertical-align: middle;\n",
       "    }\n",
       "\n",
       "    .dataframe tbody tr th {\n",
       "        vertical-align: top;\n",
       "    }\n",
       "\n",
       "    .dataframe thead th {\n",
       "        text-align: right;\n",
       "    }\n",
       "</style>\n",
       "<table border=\"1\" class=\"dataframe\">\n",
       "  <thead>\n",
       "    <tr style=\"text-align: right;\">\n",
       "      <th></th>\n",
       "      <th>belongs_to_collection</th>\n",
       "      <th>budget</th>\n",
       "      <th>genres</th>\n",
       "      <th>id</th>\n",
       "      <th>original_language</th>\n",
       "      <th>overview</th>\n",
       "      <th>popularity</th>\n",
       "      <th>production_companies</th>\n",
       "      <th>production_countries</th>\n",
       "      <th>release_date</th>\n",
       "      <th>revenue</th>\n",
       "      <th>runtime</th>\n",
       "      <th>spoken_languages</th>\n",
       "      <th>status</th>\n",
       "      <th>tagline</th>\n",
       "      <th>title</th>\n",
       "      <th>vote_average</th>\n",
       "      <th>vote_count</th>\n",
       "      <th>release_year</th>\n",
       "      <th>return</th>\n",
       "    </tr>\n",
       "  </thead>\n",
       "  <tbody>\n",
       "    <tr>\n",
       "      <th>0</th>\n",
       "      <td>{'id': 10194, 'name': 'Toy Story Collection', ...</td>\n",
       "      <td>30000000</td>\n",
       "      <td>[{'id': 16, 'name': 'Animation'}, {'id': 35, '...</td>\n",
       "      <td>862</td>\n",
       "      <td>en</td>\n",
       "      <td>Led by Woody, Andy's toys live happily in his ...</td>\n",
       "      <td>21.946943</td>\n",
       "      <td>[{'name': 'Pixar Animation Studios', 'id': 3}]</td>\n",
       "      <td>[{'iso_3166_1': 'US', 'name': 'United States o...</td>\n",
       "      <td>1995-10-30</td>\n",
       "      <td>373554033.0</td>\n",
       "      <td>81.0</td>\n",
       "      <td>[{'iso_639_1': 'en', 'name': 'English'}]</td>\n",
       "      <td>Released</td>\n",
       "      <td>NaN</td>\n",
       "      <td>Toy Story</td>\n",
       "      <td>7.7</td>\n",
       "      <td>5415.0</td>\n",
       "      <td>1995</td>\n",
       "      <td>12.451801</td>\n",
       "    </tr>\n",
       "  </tbody>\n",
       "</table>\n",
       "</div>"
      ],
      "text/plain": [
       "                               belongs_to_collection    budget  \\\n",
       "0  {'id': 10194, 'name': 'Toy Story Collection', ...  30000000   \n",
       "\n",
       "                                              genres   id original_language  \\\n",
       "0  [{'id': 16, 'name': 'Animation'}, {'id': 35, '...  862                en   \n",
       "\n",
       "                                            overview popularity  \\\n",
       "0  Led by Woody, Andy's toys live happily in his ...  21.946943   \n",
       "\n",
       "                             production_companies  \\\n",
       "0  [{'name': 'Pixar Animation Studios', 'id': 3}]   \n",
       "\n",
       "                                production_countries release_date  \\\n",
       "0  [{'iso_3166_1': 'US', 'name': 'United States o...   1995-10-30   \n",
       "\n",
       "       revenue  runtime                          spoken_languages    status  \\\n",
       "0  373554033.0     81.0  [{'iso_639_1': 'en', 'name': 'English'}]  Released   \n",
       "\n",
       "  tagline      title  vote_average  vote_count  release_year     return  \n",
       "0     NaN  Toy Story           7.7      5415.0          1995  12.451801  "
      ]
     },
     "execution_count": 382,
     "metadata": {},
     "output_type": "execute_result"
    }
   ],
   "source": [
    "Movies.head(1)  #Podria intercambiar el production_companies original anidado, por el nuevo valor obtenido"
   ]
  },
  {
   "cell_type": "code",
   "execution_count": 383,
   "metadata": {},
   "outputs": [],
   "source": [
    "# Al tener los mismos índices, reemplazo columnas.\n",
    "\n",
    "Movies[\"production_companies\"] = production_companies_conjunto[\"production_company\"]"
   ]
  },
  {
   "cell_type": "code",
   "execution_count": 384,
   "metadata": {},
   "outputs": [
    {
     "data": {
      "text/html": [
       "<div>\n",
       "<style scoped>\n",
       "    .dataframe tbody tr th:only-of-type {\n",
       "        vertical-align: middle;\n",
       "    }\n",
       "\n",
       "    .dataframe tbody tr th {\n",
       "        vertical-align: top;\n",
       "    }\n",
       "\n",
       "    .dataframe thead th {\n",
       "        text-align: right;\n",
       "    }\n",
       "</style>\n",
       "<table border=\"1\" class=\"dataframe\">\n",
       "  <thead>\n",
       "    <tr style=\"text-align: right;\">\n",
       "      <th></th>\n",
       "      <th>belongs_to_collection</th>\n",
       "      <th>budget</th>\n",
       "      <th>genres</th>\n",
       "      <th>id</th>\n",
       "      <th>original_language</th>\n",
       "      <th>overview</th>\n",
       "      <th>popularity</th>\n",
       "      <th>production_companies</th>\n",
       "      <th>production_countries</th>\n",
       "      <th>release_date</th>\n",
       "      <th>revenue</th>\n",
       "      <th>runtime</th>\n",
       "      <th>spoken_languages</th>\n",
       "      <th>status</th>\n",
       "      <th>tagline</th>\n",
       "      <th>title</th>\n",
       "      <th>vote_average</th>\n",
       "      <th>vote_count</th>\n",
       "      <th>release_year</th>\n",
       "      <th>return</th>\n",
       "    </tr>\n",
       "  </thead>\n",
       "  <tbody>\n",
       "    <tr>\n",
       "      <th>0</th>\n",
       "      <td>{'id': 10194, 'name': 'Toy Story Collection', ...</td>\n",
       "      <td>30000000</td>\n",
       "      <td>[{'id': 16, 'name': 'Animation'}, {'id': 35, '...</td>\n",
       "      <td>862</td>\n",
       "      <td>en</td>\n",
       "      <td>Led by Woody, Andy's toys live happily in his ...</td>\n",
       "      <td>21.946943</td>\n",
       "      <td>Pixar Animation Studios</td>\n",
       "      <td>[{'iso_3166_1': 'US', 'name': 'United States o...</td>\n",
       "      <td>1995-10-30</td>\n",
       "      <td>373554033.0</td>\n",
       "      <td>81.0</td>\n",
       "      <td>[{'iso_639_1': 'en', 'name': 'English'}]</td>\n",
       "      <td>Released</td>\n",
       "      <td>NaN</td>\n",
       "      <td>Toy Story</td>\n",
       "      <td>7.7</td>\n",
       "      <td>5415.0</td>\n",
       "      <td>1995</td>\n",
       "      <td>12.451801</td>\n",
       "    </tr>\n",
       "  </tbody>\n",
       "</table>\n",
       "</div>"
      ],
      "text/plain": [
       "                               belongs_to_collection    budget  \\\n",
       "0  {'id': 10194, 'name': 'Toy Story Collection', ...  30000000   \n",
       "\n",
       "                                              genres   id original_language  \\\n",
       "0  [{'id': 16, 'name': 'Animation'}, {'id': 35, '...  862                en   \n",
       "\n",
       "                                            overview popularity  \\\n",
       "0  Led by Woody, Andy's toys live happily in his ...  21.946943   \n",
       "\n",
       "      production_companies                               production_countries  \\\n",
       "0  Pixar Animation Studios  [{'iso_3166_1': 'US', 'name': 'United States o...   \n",
       "\n",
       "  release_date      revenue  runtime  \\\n",
       "0   1995-10-30  373554033.0     81.0   \n",
       "\n",
       "                           spoken_languages    status tagline      title  \\\n",
       "0  [{'iso_639_1': 'en', 'name': 'English'}]  Released     NaN  Toy Story   \n",
       "\n",
       "   vote_average  vote_count  release_year     return  \n",
       "0           7.7      5415.0          1995  12.451801  "
      ]
     },
     "execution_count": 384,
     "metadata": {},
     "output_type": "execute_result"
    }
   ],
   "source": [
    "Movies.head(1) #Ahora production_companies se ve mucho más limpio"
   ]
  },
  {
   "cell_type": "code",
   "execution_count": 385,
   "metadata": {},
   "outputs": [
    {
     "data": {
      "text/html": [
       "<div>\n",
       "<style scoped>\n",
       "    .dataframe tbody tr th:only-of-type {\n",
       "        vertical-align: middle;\n",
       "    }\n",
       "\n",
       "    .dataframe tbody tr th {\n",
       "        vertical-align: top;\n",
       "    }\n",
       "\n",
       "    .dataframe thead th {\n",
       "        text-align: right;\n",
       "    }\n",
       "</style>\n",
       "<table border=\"1\" class=\"dataframe\">\n",
       "  <thead>\n",
       "    <tr style=\"text-align: right;\">\n",
       "      <th></th>\n",
       "      <th>id</th>\n",
       "      <th>name</th>\n",
       "      <th>poster_path</th>\n",
       "      <th>backdrop_path</th>\n",
       "    </tr>\n",
       "  </thead>\n",
       "  <tbody>\n",
       "    <tr>\n",
       "      <th>0</th>\n",
       "      <td>10194.0</td>\n",
       "      <td>Toy Story Collection</td>\n",
       "      <td>/7G9915LfUQ2lVfwMEEhDsn3kT4B.jpg</td>\n",
       "      <td>/9FBwqcd9IRruEDUrTdcaafOMKUq.jpg</td>\n",
       "    </tr>\n",
       "    <tr>\n",
       "      <th>1</th>\n",
       "      <td>NaN</td>\n",
       "      <td>NaN</td>\n",
       "      <td>NaN</td>\n",
       "      <td>NaN</td>\n",
       "    </tr>\n",
       "    <tr>\n",
       "      <th>2</th>\n",
       "      <td>119050.0</td>\n",
       "      <td>Grumpy Old Men Collection</td>\n",
       "      <td>/nLvUdqgPgm3F85NMCii9gVFUcet.jpg</td>\n",
       "      <td>/hypTnLot2z8wpFS7qwsQHW1uV8u.jpg</td>\n",
       "    </tr>\n",
       "    <tr>\n",
       "      <th>3</th>\n",
       "      <td>NaN</td>\n",
       "      <td>NaN</td>\n",
       "      <td>NaN</td>\n",
       "      <td>NaN</td>\n",
       "    </tr>\n",
       "    <tr>\n",
       "      <th>4</th>\n",
       "      <td>96871.0</td>\n",
       "      <td>Father of the Bride Collection</td>\n",
       "      <td>/nts4iOmNnq7GNicycMJ9pSAn204.jpg</td>\n",
       "      <td>/7qwE57OVZmMJChBpLEbJEmzUydk.jpg</td>\n",
       "    </tr>\n",
       "    <tr>\n",
       "      <th>...</th>\n",
       "      <td>...</td>\n",
       "      <td>...</td>\n",
       "      <td>...</td>\n",
       "      <td>...</td>\n",
       "    </tr>\n",
       "    <tr>\n",
       "      <th>45361</th>\n",
       "      <td>NaN</td>\n",
       "      <td>NaN</td>\n",
       "      <td>NaN</td>\n",
       "      <td>NaN</td>\n",
       "    </tr>\n",
       "    <tr>\n",
       "      <th>45362</th>\n",
       "      <td>NaN</td>\n",
       "      <td>NaN</td>\n",
       "      <td>NaN</td>\n",
       "      <td>NaN</td>\n",
       "    </tr>\n",
       "    <tr>\n",
       "      <th>45363</th>\n",
       "      <td>NaN</td>\n",
       "      <td>NaN</td>\n",
       "      <td>NaN</td>\n",
       "      <td>NaN</td>\n",
       "    </tr>\n",
       "    <tr>\n",
       "      <th>45364</th>\n",
       "      <td>NaN</td>\n",
       "      <td>NaN</td>\n",
       "      <td>NaN</td>\n",
       "      <td>NaN</td>\n",
       "    </tr>\n",
       "    <tr>\n",
       "      <th>45365</th>\n",
       "      <td>NaN</td>\n",
       "      <td>NaN</td>\n",
       "      <td>NaN</td>\n",
       "      <td>NaN</td>\n",
       "    </tr>\n",
       "  </tbody>\n",
       "</table>\n",
       "<p>45366 rows × 4 columns</p>\n",
       "</div>"
      ],
      "text/plain": [
       "             id                            name  \\\n",
       "0       10194.0            Toy Story Collection   \n",
       "1           NaN                             NaN   \n",
       "2      119050.0       Grumpy Old Men Collection   \n",
       "3           NaN                             NaN   \n",
       "4       96871.0  Father of the Bride Collection   \n",
       "...         ...                             ...   \n",
       "45361       NaN                             NaN   \n",
       "45362       NaN                             NaN   \n",
       "45363       NaN                             NaN   \n",
       "45364       NaN                             NaN   \n",
       "45365       NaN                             NaN   \n",
       "\n",
       "                            poster_path                     backdrop_path  \n",
       "0      /7G9915LfUQ2lVfwMEEhDsn3kT4B.jpg  /9FBwqcd9IRruEDUrTdcaafOMKUq.jpg  \n",
       "1                                   NaN                               NaN  \n",
       "2      /nLvUdqgPgm3F85NMCii9gVFUcet.jpg  /hypTnLot2z8wpFS7qwsQHW1uV8u.jpg  \n",
       "3                                   NaN                               NaN  \n",
       "4      /nts4iOmNnq7GNicycMJ9pSAn204.jpg  /7qwE57OVZmMJChBpLEbJEmzUydk.jpg  \n",
       "...                                 ...                               ...  \n",
       "45361                               NaN                               NaN  \n",
       "45362                               NaN                               NaN  \n",
       "45363                               NaN                               NaN  \n",
       "45364                               NaN                               NaN  \n",
       "45365                               NaN                               NaN  \n",
       "\n",
       "[45366 rows x 4 columns]"
      ]
     },
     "execution_count": 385,
     "metadata": {},
     "output_type": "execute_result"
    }
   ],
   "source": [
    "#Intentaré el mismo procedimiento con belong_to_collection\n",
    "\n",
    "belong_to_collection #Solo interesa name, en principio"
   ]
  },
  {
   "cell_type": "code",
   "execution_count": 386,
   "metadata": {},
   "outputs": [],
   "source": [
    "Movies[\"belongs_to_collection\"] = belong_to_collection[\"name\"]"
   ]
  },
  {
   "cell_type": "code",
   "execution_count": 387,
   "metadata": {},
   "outputs": [
    {
     "data": {
      "text/html": [
       "<div>\n",
       "<style scoped>\n",
       "    .dataframe tbody tr th:only-of-type {\n",
       "        vertical-align: middle;\n",
       "    }\n",
       "\n",
       "    .dataframe tbody tr th {\n",
       "        vertical-align: top;\n",
       "    }\n",
       "\n",
       "    .dataframe thead th {\n",
       "        text-align: right;\n",
       "    }\n",
       "</style>\n",
       "<table border=\"1\" class=\"dataframe\">\n",
       "  <thead>\n",
       "    <tr style=\"text-align: right;\">\n",
       "      <th></th>\n",
       "      <th>belongs_to_collection</th>\n",
       "      <th>budget</th>\n",
       "      <th>genres</th>\n",
       "      <th>id</th>\n",
       "      <th>original_language</th>\n",
       "      <th>overview</th>\n",
       "      <th>popularity</th>\n",
       "      <th>production_companies</th>\n",
       "      <th>production_countries</th>\n",
       "      <th>release_date</th>\n",
       "      <th>revenue</th>\n",
       "      <th>runtime</th>\n",
       "      <th>spoken_languages</th>\n",
       "      <th>status</th>\n",
       "      <th>tagline</th>\n",
       "      <th>title</th>\n",
       "      <th>vote_average</th>\n",
       "      <th>vote_count</th>\n",
       "      <th>release_year</th>\n",
       "      <th>return</th>\n",
       "    </tr>\n",
       "  </thead>\n",
       "  <tbody>\n",
       "    <tr>\n",
       "      <th>0</th>\n",
       "      <td>Toy Story Collection</td>\n",
       "      <td>30000000</td>\n",
       "      <td>[{'id': 16, 'name': 'Animation'}, {'id': 35, '...</td>\n",
       "      <td>862</td>\n",
       "      <td>en</td>\n",
       "      <td>Led by Woody, Andy's toys live happily in his ...</td>\n",
       "      <td>21.946943</td>\n",
       "      <td>Pixar Animation Studios</td>\n",
       "      <td>[{'iso_3166_1': 'US', 'name': 'United States o...</td>\n",
       "      <td>1995-10-30</td>\n",
       "      <td>373554033.0</td>\n",
       "      <td>81.0</td>\n",
       "      <td>[{'iso_639_1': 'en', 'name': 'English'}]</td>\n",
       "      <td>Released</td>\n",
       "      <td>NaN</td>\n",
       "      <td>Toy Story</td>\n",
       "      <td>7.7</td>\n",
       "      <td>5415.0</td>\n",
       "      <td>1995</td>\n",
       "      <td>12.451801</td>\n",
       "    </tr>\n",
       "    <tr>\n",
       "      <th>1</th>\n",
       "      <td>NaN</td>\n",
       "      <td>65000000</td>\n",
       "      <td>[{'id': 12, 'name': 'Adventure'}, {'id': 14, '...</td>\n",
       "      <td>8844</td>\n",
       "      <td>en</td>\n",
       "      <td>When siblings Judy and Peter discover an encha...</td>\n",
       "      <td>17.015539</td>\n",
       "      <td>TriStar Pictures and Teitler Film and Intersco...</td>\n",
       "      <td>[{'iso_3166_1': 'US', 'name': 'United States o...</td>\n",
       "      <td>1995-12-15</td>\n",
       "      <td>262797249.0</td>\n",
       "      <td>104.0</td>\n",
       "      <td>[{'iso_639_1': 'en', 'name': 'English'}, {'iso...</td>\n",
       "      <td>Released</td>\n",
       "      <td>Roll the dice and unleash the excitement!</td>\n",
       "      <td>Jumanji</td>\n",
       "      <td>6.9</td>\n",
       "      <td>2413.0</td>\n",
       "      <td>1995</td>\n",
       "      <td>4.043035</td>\n",
       "    </tr>\n",
       "    <tr>\n",
       "      <th>2</th>\n",
       "      <td>Grumpy Old Men Collection</td>\n",
       "      <td>0</td>\n",
       "      <td>[{'id': 10749, 'name': 'Romance'}, {'id': 35, ...</td>\n",
       "      <td>15602</td>\n",
       "      <td>en</td>\n",
       "      <td>A family wedding reignites the ancient feud be...</td>\n",
       "      <td>11.7129</td>\n",
       "      <td>Warner Bros. and Lancaster Gate</td>\n",
       "      <td>[{'iso_3166_1': 'US', 'name': 'United States o...</td>\n",
       "      <td>1995-12-22</td>\n",
       "      <td>0.0</td>\n",
       "      <td>101.0</td>\n",
       "      <td>[{'iso_639_1': 'en', 'name': 'English'}]</td>\n",
       "      <td>Released</td>\n",
       "      <td>Still Yelling. Still Fighting. Still Ready for...</td>\n",
       "      <td>Grumpier Old Men</td>\n",
       "      <td>6.5</td>\n",
       "      <td>92.0</td>\n",
       "      <td>1995</td>\n",
       "      <td>0.000000</td>\n",
       "    </tr>\n",
       "    <tr>\n",
       "      <th>3</th>\n",
       "      <td>NaN</td>\n",
       "      <td>16000000</td>\n",
       "      <td>[{'id': 35, 'name': 'Comedy'}, {'id': 18, 'nam...</td>\n",
       "      <td>31357</td>\n",
       "      <td>en</td>\n",
       "      <td>Cheated on, mistreated and stepped on, the wom...</td>\n",
       "      <td>3.859495</td>\n",
       "      <td>Twentieth Century Fox Film Corporation</td>\n",
       "      <td>[{'iso_3166_1': 'US', 'name': 'United States o...</td>\n",
       "      <td>1995-12-22</td>\n",
       "      <td>81452156.0</td>\n",
       "      <td>127.0</td>\n",
       "      <td>[{'iso_639_1': 'en', 'name': 'English'}]</td>\n",
       "      <td>Released</td>\n",
       "      <td>Friends are the people who let you be yourself...</td>\n",
       "      <td>Waiting to Exhale</td>\n",
       "      <td>6.1</td>\n",
       "      <td>34.0</td>\n",
       "      <td>1995</td>\n",
       "      <td>5.090760</td>\n",
       "    </tr>\n",
       "    <tr>\n",
       "      <th>4</th>\n",
       "      <td>Father of the Bride Collection</td>\n",
       "      <td>0</td>\n",
       "      <td>[{'id': 35, 'name': 'Comedy'}]</td>\n",
       "      <td>11862</td>\n",
       "      <td>en</td>\n",
       "      <td>Just when George Banks has recovered from his ...</td>\n",
       "      <td>8.387519</td>\n",
       "      <td>Sandollar Productions and Touchstone Pictures</td>\n",
       "      <td>[{'iso_3166_1': 'US', 'name': 'United States o...</td>\n",
       "      <td>1995-02-10</td>\n",
       "      <td>76578911.0</td>\n",
       "      <td>106.0</td>\n",
       "      <td>[{'iso_639_1': 'en', 'name': 'English'}]</td>\n",
       "      <td>Released</td>\n",
       "      <td>Just When His World Is Back To Normal... He's ...</td>\n",
       "      <td>Father of the Bride Part II</td>\n",
       "      <td>5.7</td>\n",
       "      <td>173.0</td>\n",
       "      <td>1995</td>\n",
       "      <td>0.000000</td>\n",
       "    </tr>\n",
       "  </tbody>\n",
       "</table>\n",
       "</div>"
      ],
      "text/plain": [
       "            belongs_to_collection    budget  \\\n",
       "0            Toy Story Collection  30000000   \n",
       "1                             NaN  65000000   \n",
       "2       Grumpy Old Men Collection         0   \n",
       "3                             NaN  16000000   \n",
       "4  Father of the Bride Collection         0   \n",
       "\n",
       "                                              genres     id original_language  \\\n",
       "0  [{'id': 16, 'name': 'Animation'}, {'id': 35, '...    862                en   \n",
       "1  [{'id': 12, 'name': 'Adventure'}, {'id': 14, '...   8844                en   \n",
       "2  [{'id': 10749, 'name': 'Romance'}, {'id': 35, ...  15602                en   \n",
       "3  [{'id': 35, 'name': 'Comedy'}, {'id': 18, 'nam...  31357                en   \n",
       "4                     [{'id': 35, 'name': 'Comedy'}]  11862                en   \n",
       "\n",
       "                                            overview popularity  \\\n",
       "0  Led by Woody, Andy's toys live happily in his ...  21.946943   \n",
       "1  When siblings Judy and Peter discover an encha...  17.015539   \n",
       "2  A family wedding reignites the ancient feud be...    11.7129   \n",
       "3  Cheated on, mistreated and stepped on, the wom...   3.859495   \n",
       "4  Just when George Banks has recovered from his ...   8.387519   \n",
       "\n",
       "                                production_companies  \\\n",
       "0                            Pixar Animation Studios   \n",
       "1  TriStar Pictures and Teitler Film and Intersco...   \n",
       "2                    Warner Bros. and Lancaster Gate   \n",
       "3             Twentieth Century Fox Film Corporation   \n",
       "4      Sandollar Productions and Touchstone Pictures   \n",
       "\n",
       "                                production_countries release_date  \\\n",
       "0  [{'iso_3166_1': 'US', 'name': 'United States o...   1995-10-30   \n",
       "1  [{'iso_3166_1': 'US', 'name': 'United States o...   1995-12-15   \n",
       "2  [{'iso_3166_1': 'US', 'name': 'United States o...   1995-12-22   \n",
       "3  [{'iso_3166_1': 'US', 'name': 'United States o...   1995-12-22   \n",
       "4  [{'iso_3166_1': 'US', 'name': 'United States o...   1995-02-10   \n",
       "\n",
       "       revenue  runtime                                   spoken_languages  \\\n",
       "0  373554033.0     81.0           [{'iso_639_1': 'en', 'name': 'English'}]   \n",
       "1  262797249.0    104.0  [{'iso_639_1': 'en', 'name': 'English'}, {'iso...   \n",
       "2          0.0    101.0           [{'iso_639_1': 'en', 'name': 'English'}]   \n",
       "3   81452156.0    127.0           [{'iso_639_1': 'en', 'name': 'English'}]   \n",
       "4   76578911.0    106.0           [{'iso_639_1': 'en', 'name': 'English'}]   \n",
       "\n",
       "     status                                            tagline  \\\n",
       "0  Released                                                NaN   \n",
       "1  Released          Roll the dice and unleash the excitement!   \n",
       "2  Released  Still Yelling. Still Fighting. Still Ready for...   \n",
       "3  Released  Friends are the people who let you be yourself...   \n",
       "4  Released  Just When His World Is Back To Normal... He's ...   \n",
       "\n",
       "                         title  vote_average  vote_count  release_year  \\\n",
       "0                    Toy Story           7.7      5415.0          1995   \n",
       "1                      Jumanji           6.9      2413.0          1995   \n",
       "2             Grumpier Old Men           6.5        92.0          1995   \n",
       "3            Waiting to Exhale           6.1        34.0          1995   \n",
       "4  Father of the Bride Part II           5.7       173.0          1995   \n",
       "\n",
       "      return  \n",
       "0  12.451801  \n",
       "1   4.043035  \n",
       "2   0.000000  \n",
       "3   5.090760  \n",
       "4   0.000000  "
      ]
     },
     "execution_count": 387,
     "metadata": {},
     "output_type": "execute_result"
    }
   ],
   "source": [
    "Movies.head() #Ya se ve un dataset que cumple con los requisitos (mínimos) de la propuesta de trabajo"
   ]
  },
  {
   "cell_type": "markdown",
   "metadata": {},
   "source": [
    "Definimos los dataset que están disponibles para luego empezar a segregar a fin de hacer eficientes las consultas solicitadas"
   ]
  },
  {
   "cell_type": "markdown",
   "metadata": {},
   "source": [
    "# ARCHIVOS PARA FUNCIONES"
   ]
  },
  {
   "cell_type": "code",
   "execution_count": 388,
   "metadata": {},
   "outputs": [
    {
     "data": {
      "text/html": [
       "<div>\n",
       "<style scoped>\n",
       "    .dataframe tbody tr th:only-of-type {\n",
       "        vertical-align: middle;\n",
       "    }\n",
       "\n",
       "    .dataframe tbody tr th {\n",
       "        vertical-align: top;\n",
       "    }\n",
       "\n",
       "    .dataframe thead th {\n",
       "        text-align: right;\n",
       "    }\n",
       "</style>\n",
       "<table border=\"1\" class=\"dataframe\">\n",
       "  <thead>\n",
       "    <tr style=\"text-align: right;\">\n",
       "      <th></th>\n",
       "      <th>belongs_to_collection</th>\n",
       "      <th>budget</th>\n",
       "      <th>genres</th>\n",
       "      <th>id</th>\n",
       "      <th>original_language</th>\n",
       "      <th>overview</th>\n",
       "      <th>popularity</th>\n",
       "      <th>production_companies</th>\n",
       "      <th>production_countries</th>\n",
       "      <th>release_date</th>\n",
       "      <th>revenue</th>\n",
       "      <th>runtime</th>\n",
       "      <th>spoken_languages</th>\n",
       "      <th>status</th>\n",
       "      <th>tagline</th>\n",
       "      <th>title</th>\n",
       "      <th>vote_average</th>\n",
       "      <th>vote_count</th>\n",
       "      <th>release_year</th>\n",
       "      <th>return</th>\n",
       "    </tr>\n",
       "  </thead>\n",
       "  <tbody>\n",
       "    <tr>\n",
       "      <th>0</th>\n",
       "      <td>Toy Story Collection</td>\n",
       "      <td>30000000</td>\n",
       "      <td>[{'id': 16, 'name': 'Animation'}, {'id': 35, '...</td>\n",
       "      <td>862</td>\n",
       "      <td>en</td>\n",
       "      <td>Led by Woody, Andy's toys live happily in his ...</td>\n",
       "      <td>21.946943</td>\n",
       "      <td>Pixar Animation Studios</td>\n",
       "      <td>[{'iso_3166_1': 'US', 'name': 'United States o...</td>\n",
       "      <td>1995-10-30</td>\n",
       "      <td>373554033.0</td>\n",
       "      <td>81.0</td>\n",
       "      <td>[{'iso_639_1': 'en', 'name': 'English'}]</td>\n",
       "      <td>Released</td>\n",
       "      <td>NaN</td>\n",
       "      <td>Toy Story</td>\n",
       "      <td>7.7</td>\n",
       "      <td>5415.0</td>\n",
       "      <td>1995</td>\n",
       "      <td>12.451801</td>\n",
       "    </tr>\n",
       "  </tbody>\n",
       "</table>\n",
       "</div>"
      ],
      "text/plain": [
       "  belongs_to_collection    budget  \\\n",
       "0  Toy Story Collection  30000000   \n",
       "\n",
       "                                              genres   id original_language  \\\n",
       "0  [{'id': 16, 'name': 'Animation'}, {'id': 35, '...  862                en   \n",
       "\n",
       "                                            overview popularity  \\\n",
       "0  Led by Woody, Andy's toys live happily in his ...  21.946943   \n",
       "\n",
       "      production_companies                               production_countries  \\\n",
       "0  Pixar Animation Studios  [{'iso_3166_1': 'US', 'name': 'United States o...   \n",
       "\n",
       "  release_date      revenue  runtime  \\\n",
       "0   1995-10-30  373554033.0     81.0   \n",
       "\n",
       "                           spoken_languages    status tagline      title  \\\n",
       "0  [{'iso_639_1': 'en', 'name': 'English'}]  Released     NaN  Toy Story   \n",
       "\n",
       "   vote_average  vote_count  release_year     return  \n",
       "0           7.7      5415.0          1995  12.451801  "
      ]
     },
     "execution_count": 388,
     "metadata": {},
     "output_type": "execute_result"
    }
   ],
   "source": [
    "Movies.head(1)"
   ]
  },
  {
   "cell_type": "code",
   "execution_count": 389,
   "metadata": {},
   "outputs": [
    {
     "data": {
      "text/html": [
       "<div>\n",
       "<style scoped>\n",
       "    .dataframe tbody tr th:only-of-type {\n",
       "        vertical-align: middle;\n",
       "    }\n",
       "\n",
       "    .dataframe tbody tr th {\n",
       "        vertical-align: top;\n",
       "    }\n",
       "\n",
       "    .dataframe thead th {\n",
       "        text-align: right;\n",
       "    }\n",
       "</style>\n",
       "<table border=\"1\" class=\"dataframe\">\n",
       "  <thead>\n",
       "    <tr style=\"text-align: right;\">\n",
       "      <th></th>\n",
       "      <th>cast</th>\n",
       "      <th>crew</th>\n",
       "      <th>id</th>\n",
       "    </tr>\n",
       "  </thead>\n",
       "  <tbody>\n",
       "    <tr>\n",
       "      <th>0</th>\n",
       "      <td>[{'cast_id': 14, 'character': 'Woody (voice)',...</td>\n",
       "      <td>[{'credit_id': '52fe4284c3a36847f8024f49', 'de...</td>\n",
       "      <td>862</td>\n",
       "    </tr>\n",
       "  </tbody>\n",
       "</table>\n",
       "</div>"
      ],
      "text/plain": [
       "                                                cast  \\\n",
       "0  [{'cast_id': 14, 'character': 'Woody (voice)',...   \n",
       "\n",
       "                                                crew   id  \n",
       "0  [{'credit_id': '52fe4284c3a36847f8024f49', 'de...  862  "
      ]
     },
     "execution_count": 389,
     "metadata": {},
     "output_type": "execute_result"
    }
   ],
   "source": [
    "Credits.head(1) #Pendiente de trabajar para desanidar"
   ]
  },
  {
   "cell_type": "code",
   "execution_count": 390,
   "metadata": {},
   "outputs": [],
   "source": [
    "# Para la funcion que requiere peliculas estrenadas en cada mes del año y en cada dia de la semana\n",
    "Peliculas_Estrenada_Por_MesyDia = Movies[[\"title\",\"release_date\"]]"
   ]
  },
  {
   "cell_type": "code",
   "execution_count": 391,
   "metadata": {},
   "outputs": [
    {
     "data": {
      "text/html": [
       "<div>\n",
       "<style scoped>\n",
       "    .dataframe tbody tr th:only-of-type {\n",
       "        vertical-align: middle;\n",
       "    }\n",
       "\n",
       "    .dataframe tbody tr th {\n",
       "        vertical-align: top;\n",
       "    }\n",
       "\n",
       "    .dataframe thead th {\n",
       "        text-align: right;\n",
       "    }\n",
       "</style>\n",
       "<table border=\"1\" class=\"dataframe\">\n",
       "  <thead>\n",
       "    <tr style=\"text-align: right;\">\n",
       "      <th></th>\n",
       "      <th>title</th>\n",
       "      <th>release_date</th>\n",
       "    </tr>\n",
       "  </thead>\n",
       "  <tbody>\n",
       "    <tr>\n",
       "      <th>0</th>\n",
       "      <td>Toy Story</td>\n",
       "      <td>1995-10-30</td>\n",
       "    </tr>\n",
       "    <tr>\n",
       "      <th>1</th>\n",
       "      <td>Jumanji</td>\n",
       "      <td>1995-12-15</td>\n",
       "    </tr>\n",
       "    <tr>\n",
       "      <th>2</th>\n",
       "      <td>Grumpier Old Men</td>\n",
       "      <td>1995-12-22</td>\n",
       "    </tr>\n",
       "    <tr>\n",
       "      <th>3</th>\n",
       "      <td>Waiting to Exhale</td>\n",
       "      <td>1995-12-22</td>\n",
       "    </tr>\n",
       "    <tr>\n",
       "      <th>4</th>\n",
       "      <td>Father of the Bride Part II</td>\n",
       "      <td>1995-02-10</td>\n",
       "    </tr>\n",
       "    <tr>\n",
       "      <th>...</th>\n",
       "      <td>...</td>\n",
       "      <td>...</td>\n",
       "    </tr>\n",
       "    <tr>\n",
       "      <th>45460</th>\n",
       "      <td>Robin Hood</td>\n",
       "      <td>1991-05-13</td>\n",
       "    </tr>\n",
       "    <tr>\n",
       "      <th>45462</th>\n",
       "      <td>Century of Birthing</td>\n",
       "      <td>2011-11-17</td>\n",
       "    </tr>\n",
       "    <tr>\n",
       "      <th>45463</th>\n",
       "      <td>Betrayal</td>\n",
       "      <td>2003-08-01</td>\n",
       "    </tr>\n",
       "    <tr>\n",
       "      <th>45464</th>\n",
       "      <td>Satan Triumphant</td>\n",
       "      <td>1917-10-21</td>\n",
       "    </tr>\n",
       "    <tr>\n",
       "      <th>45465</th>\n",
       "      <td>Queerama</td>\n",
       "      <td>2017-06-09</td>\n",
       "    </tr>\n",
       "  </tbody>\n",
       "</table>\n",
       "<p>45366 rows × 2 columns</p>\n",
       "</div>"
      ],
      "text/plain": [
       "                             title release_date\n",
       "0                        Toy Story   1995-10-30\n",
       "1                          Jumanji   1995-12-15\n",
       "2                 Grumpier Old Men   1995-12-22\n",
       "3                Waiting to Exhale   1995-12-22\n",
       "4      Father of the Bride Part II   1995-02-10\n",
       "...                            ...          ...\n",
       "45460                   Robin Hood   1991-05-13\n",
       "45462          Century of Birthing   2011-11-17\n",
       "45463                     Betrayal   2003-08-01\n",
       "45464             Satan Triumphant   1917-10-21\n",
       "45465                     Queerama   2017-06-09\n",
       "\n",
       "[45366 rows x 2 columns]"
      ]
     },
     "execution_count": 391,
     "metadata": {},
     "output_type": "execute_result"
    }
   ],
   "source": [
    "Peliculas_Estrenada_Por_MesyDia #puedo trabajar el dataset para agregar calendario y tener los días de la semana y el mes por separado para hacer eficiente la consulta"
   ]
  },
  {
   "cell_type": "code",
   "execution_count": 392,
   "metadata": {},
   "outputs": [
    {
     "name": "stdout",
     "output_type": "stream",
     "text": [
      "                             title release_date day_of_week     month\n",
      "0                        Toy Story   1995-10-30      Monday   October\n",
      "1                          Jumanji   1995-12-15      Friday  December\n",
      "2                 Grumpier Old Men   1995-12-22      Friday  December\n",
      "3                Waiting to Exhale   1995-12-22      Friday  December\n",
      "4      Father of the Bride Part II   1995-02-10      Friday  February\n",
      "...                            ...          ...         ...       ...\n",
      "45460                   Robin Hood   1991-05-13      Monday       May\n",
      "45462          Century of Birthing   2011-11-17    Thursday  November\n",
      "45463                     Betrayal   2003-08-01      Friday    August\n",
      "45464             Satan Triumphant   1917-10-21      Sunday   October\n",
      "45465                     Queerama   2017-06-09      Friday      June\n",
      "\n",
      "[45366 rows x 4 columns]\n"
     ]
    },
    {
     "name": "stderr",
     "output_type": "stream",
     "text": [
      "C:\\Users\\Aleja\\AppData\\Local\\Temp\\ipykernel_8204\\1388251546.py:2: SettingWithCopyWarning: \n",
      "A value is trying to be set on a copy of a slice from a DataFrame.\n",
      "Try using .loc[row_indexer,col_indexer] = value instead\n",
      "\n",
      "See the caveats in the documentation: https://pandas.pydata.org/pandas-docs/stable/user_guide/indexing.html#returning-a-view-versus-a-copy\n",
      "  Peliculas_Estrenada_Por_MesyDia['day_of_week'] = Peliculas_Estrenada_Por_MesyDia['release_date'].dt.day_name()  # Nombre del día de la semana\n",
      "C:\\Users\\Aleja\\AppData\\Local\\Temp\\ipykernel_8204\\1388251546.py:3: SettingWithCopyWarning: \n",
      "A value is trying to be set on a copy of a slice from a DataFrame.\n",
      "Try using .loc[row_indexer,col_indexer] = value instead\n",
      "\n",
      "See the caveats in the documentation: https://pandas.pydata.org/pandas-docs/stable/user_guide/indexing.html#returning-a-view-versus-a-copy\n",
      "  Peliculas_Estrenada_Por_MesyDia['month'] = Peliculas_Estrenada_Por_MesyDia['release_date'].dt.month_name()  # Nombre del mes\n"
     ]
    }
   ],
   "source": [
    "# Extraer el día de la semana y el mes\n",
    "Peliculas_Estrenada_Por_MesyDia['day_of_week'] = Peliculas_Estrenada_Por_MesyDia['release_date'].dt.day_name()  # Nombre del día de la semana\n",
    "Peliculas_Estrenada_Por_MesyDia['month'] = Peliculas_Estrenada_Por_MesyDia['release_date'].dt.month_name()  # Nombre del mes\n",
    "\n",
    "# Mostrar el DataFrame con las nuevas columnas\n",
    "print(Peliculas_Estrenada_Por_MesyDia)"
   ]
  },
  {
   "cell_type": "code",
   "execution_count": 393,
   "metadata": {},
   "outputs": [],
   "source": [
    "PeliculasPorMes = Peliculas_Estrenada_Por_MesyDia.drop(columns=\"day_of_week\")\n",
    "PeliculasPorDia = Peliculas_Estrenada_Por_MesyDia.drop(columns=\"month\")"
   ]
  },
  {
   "cell_type": "code",
   "execution_count": 394,
   "metadata": {},
   "outputs": [
    {
     "data": {
      "text/html": [
       "<div>\n",
       "<style scoped>\n",
       "    .dataframe tbody tr th:only-of-type {\n",
       "        vertical-align: middle;\n",
       "    }\n",
       "\n",
       "    .dataframe tbody tr th {\n",
       "        vertical-align: top;\n",
       "    }\n",
       "\n",
       "    .dataframe thead th {\n",
       "        text-align: right;\n",
       "    }\n",
       "</style>\n",
       "<table border=\"1\" class=\"dataframe\">\n",
       "  <thead>\n",
       "    <tr style=\"text-align: right;\">\n",
       "      <th></th>\n",
       "      <th>title</th>\n",
       "      <th>release_date</th>\n",
       "      <th>month</th>\n",
       "    </tr>\n",
       "  </thead>\n",
       "  <tbody>\n",
       "    <tr>\n",
       "      <th>0</th>\n",
       "      <td>Toy Story</td>\n",
       "      <td>1995-10-30</td>\n",
       "      <td>October</td>\n",
       "    </tr>\n",
       "    <tr>\n",
       "      <th>1</th>\n",
       "      <td>Jumanji</td>\n",
       "      <td>1995-12-15</td>\n",
       "      <td>December</td>\n",
       "    </tr>\n",
       "    <tr>\n",
       "      <th>2</th>\n",
       "      <td>Grumpier Old Men</td>\n",
       "      <td>1995-12-22</td>\n",
       "      <td>December</td>\n",
       "    </tr>\n",
       "    <tr>\n",
       "      <th>3</th>\n",
       "      <td>Waiting to Exhale</td>\n",
       "      <td>1995-12-22</td>\n",
       "      <td>December</td>\n",
       "    </tr>\n",
       "    <tr>\n",
       "      <th>4</th>\n",
       "      <td>Father of the Bride Part II</td>\n",
       "      <td>1995-02-10</td>\n",
       "      <td>February</td>\n",
       "    </tr>\n",
       "    <tr>\n",
       "      <th>...</th>\n",
       "      <td>...</td>\n",
       "      <td>...</td>\n",
       "      <td>...</td>\n",
       "    </tr>\n",
       "    <tr>\n",
       "      <th>45460</th>\n",
       "      <td>Robin Hood</td>\n",
       "      <td>1991-05-13</td>\n",
       "      <td>May</td>\n",
       "    </tr>\n",
       "    <tr>\n",
       "      <th>45462</th>\n",
       "      <td>Century of Birthing</td>\n",
       "      <td>2011-11-17</td>\n",
       "      <td>November</td>\n",
       "    </tr>\n",
       "    <tr>\n",
       "      <th>45463</th>\n",
       "      <td>Betrayal</td>\n",
       "      <td>2003-08-01</td>\n",
       "      <td>August</td>\n",
       "    </tr>\n",
       "    <tr>\n",
       "      <th>45464</th>\n",
       "      <td>Satan Triumphant</td>\n",
       "      <td>1917-10-21</td>\n",
       "      <td>October</td>\n",
       "    </tr>\n",
       "    <tr>\n",
       "      <th>45465</th>\n",
       "      <td>Queerama</td>\n",
       "      <td>2017-06-09</td>\n",
       "      <td>June</td>\n",
       "    </tr>\n",
       "  </tbody>\n",
       "</table>\n",
       "<p>45366 rows × 3 columns</p>\n",
       "</div>"
      ],
      "text/plain": [
       "                             title release_date     month\n",
       "0                        Toy Story   1995-10-30   October\n",
       "1                          Jumanji   1995-12-15  December\n",
       "2                 Grumpier Old Men   1995-12-22  December\n",
       "3                Waiting to Exhale   1995-12-22  December\n",
       "4      Father of the Bride Part II   1995-02-10  February\n",
       "...                            ...          ...       ...\n",
       "45460                   Robin Hood   1991-05-13       May\n",
       "45462          Century of Birthing   2011-11-17  November\n",
       "45463                     Betrayal   2003-08-01    August\n",
       "45464             Satan Triumphant   1917-10-21   October\n",
       "45465                     Queerama   2017-06-09      June\n",
       "\n",
       "[45366 rows x 3 columns]"
      ]
     },
     "execution_count": 394,
     "metadata": {},
     "output_type": "execute_result"
    }
   ],
   "source": [
    "PeliculasPorMes"
   ]
  },
  {
   "cell_type": "code",
   "execution_count": 395,
   "metadata": {},
   "outputs": [],
   "source": [
    "PeliculasPorMes = PeliculasPorMes.drop(columns=\"release_date\")\n",
    "PeliculasPorDia = PeliculasPorDia.drop(columns=\"release_date\")"
   ]
  },
  {
   "cell_type": "markdown",
   "metadata": {},
   "source": [
    "Guardar Archivos función mes"
   ]
  },
  {
   "cell_type": "markdown",
   "metadata": {},
   "source": [
    "# CSV PeliculasPorMes"
   ]
  },
  {
   "cell_type": "code",
   "execution_count": 396,
   "metadata": {},
   "outputs": [],
   "source": [
    "PeliculasPorMes.to_csv(\"datasets\\\\PeliculasPorMesListo.csv\",index=False)"
   ]
  },
  {
   "cell_type": "markdown",
   "metadata": {},
   "source": [
    "Guardar Archivos función día"
   ]
  },
  {
   "cell_type": "markdown",
   "metadata": {},
   "source": [
    "# CSV PeliculasPorDia"
   ]
  },
  {
   "cell_type": "code",
   "execution_count": 397,
   "metadata": {},
   "outputs": [],
   "source": [
    "PeliculasPorDia.to_csv(\"datasets\\\\PeliculasPorDiaListo.csv\",index=False)"
   ]
  },
  {
   "cell_type": "markdown",
   "metadata": {},
   "source": [
    "Descubrí que esto era hardcodear y no quedó definido en la función, solo a modo de establecer los valores."
   ]
  },
  {
   "cell_type": "code",
   "execution_count": 398,
   "metadata": {},
   "outputs": [],
   "source": [
    "##Aqui podría pensar en ya procesar el dataset para hacer el calculo y solo tenga que hacer una simple consulta el render\n",
    "TotalPeliculasMes = PeliculasPorMes.groupby('month').size().reset_index(name='total_movies')"
   ]
  },
  {
   "cell_type": "code",
   "execution_count": 399,
   "metadata": {},
   "outputs": [
    {
     "data": {
      "text/html": [
       "<div>\n",
       "<style scoped>\n",
       "    .dataframe tbody tr th:only-of-type {\n",
       "        vertical-align: middle;\n",
       "    }\n",
       "\n",
       "    .dataframe tbody tr th {\n",
       "        vertical-align: top;\n",
       "    }\n",
       "\n",
       "    .dataframe thead th {\n",
       "        text-align: right;\n",
       "    }\n",
       "</style>\n",
       "<table border=\"1\" class=\"dataframe\">\n",
       "  <thead>\n",
       "    <tr style=\"text-align: right;\">\n",
       "      <th></th>\n",
       "      <th>month</th>\n",
       "      <th>total_movies</th>\n",
       "    </tr>\n",
       "  </thead>\n",
       "  <tbody>\n",
       "    <tr>\n",
       "      <th>0</th>\n",
       "      <td>April</td>\n",
       "      <td>3453</td>\n",
       "    </tr>\n",
       "    <tr>\n",
       "      <th>1</th>\n",
       "      <td>August</td>\n",
       "      <td>3394</td>\n",
       "    </tr>\n",
       "    <tr>\n",
       "      <th>2</th>\n",
       "      <td>December</td>\n",
       "      <td>3784</td>\n",
       "    </tr>\n",
       "    <tr>\n",
       "      <th>3</th>\n",
       "      <td>February</td>\n",
       "      <td>3029</td>\n",
       "    </tr>\n",
       "    <tr>\n",
       "      <th>4</th>\n",
       "      <td>January</td>\n",
       "      <td>5910</td>\n",
       "    </tr>\n",
       "    <tr>\n",
       "      <th>5</th>\n",
       "      <td>July</td>\n",
       "      <td>2640</td>\n",
       "    </tr>\n",
       "    <tr>\n",
       "      <th>6</th>\n",
       "      <td>June</td>\n",
       "      <td>3152</td>\n",
       "    </tr>\n",
       "    <tr>\n",
       "      <th>7</th>\n",
       "      <td>March</td>\n",
       "      <td>3553</td>\n",
       "    </tr>\n",
       "    <tr>\n",
       "      <th>8</th>\n",
       "      <td>May</td>\n",
       "      <td>3338</td>\n",
       "    </tr>\n",
       "    <tr>\n",
       "      <th>9</th>\n",
       "      <td>November</td>\n",
       "      <td>3661</td>\n",
       "    </tr>\n",
       "    <tr>\n",
       "      <th>10</th>\n",
       "      <td>October</td>\n",
       "      <td>4613</td>\n",
       "    </tr>\n",
       "    <tr>\n",
       "      <th>11</th>\n",
       "      <td>September</td>\n",
       "      <td>4836</td>\n",
       "    </tr>\n",
       "  </tbody>\n",
       "</table>\n",
       "</div>"
      ],
      "text/plain": [
       "        month  total_movies\n",
       "0       April          3453\n",
       "1      August          3394\n",
       "2    December          3784\n",
       "3    February          3029\n",
       "4     January          5910\n",
       "5        July          2640\n",
       "6        June          3152\n",
       "7       March          3553\n",
       "8         May          3338\n",
       "9    November          3661\n",
       "10    October          4613\n",
       "11  September          4836"
      ]
     },
     "execution_count": 399,
     "metadata": {},
     "output_type": "execute_result"
    }
   ],
   "source": [
    "TotalPeliculasMes"
   ]
  },
  {
   "cell_type": "code",
   "execution_count": 400,
   "metadata": {},
   "outputs": [],
   "source": [
    "TotalPeliculasDia = PeliculasPorDia.groupby('day_of_week').size().reset_index(name='total_movies')"
   ]
  },
  {
   "cell_type": "code",
   "execution_count": 401,
   "metadata": {},
   "outputs": [
    {
     "data": {
      "text/html": [
       "<div>\n",
       "<style scoped>\n",
       "    .dataframe tbody tr th:only-of-type {\n",
       "        vertical-align: middle;\n",
       "    }\n",
       "\n",
       "    .dataframe tbody tr th {\n",
       "        vertical-align: top;\n",
       "    }\n",
       "\n",
       "    .dataframe thead th {\n",
       "        text-align: right;\n",
       "    }\n",
       "</style>\n",
       "<table border=\"1\" class=\"dataframe\">\n",
       "  <thead>\n",
       "    <tr style=\"text-align: right;\">\n",
       "      <th></th>\n",
       "      <th>day_of_week</th>\n",
       "      <th>total_movies</th>\n",
       "    </tr>\n",
       "  </thead>\n",
       "  <tbody>\n",
       "    <tr>\n",
       "      <th>0</th>\n",
       "      <td>Friday</td>\n",
       "      <td>13906</td>\n",
       "    </tr>\n",
       "    <tr>\n",
       "      <th>1</th>\n",
       "      <td>Monday</td>\n",
       "      <td>3501</td>\n",
       "    </tr>\n",
       "    <tr>\n",
       "      <th>2</th>\n",
       "      <td>Saturday</td>\n",
       "      <td>5151</td>\n",
       "    </tr>\n",
       "    <tr>\n",
       "      <th>3</th>\n",
       "      <td>Sunday</td>\n",
       "      <td>3612</td>\n",
       "    </tr>\n",
       "    <tr>\n",
       "      <th>4</th>\n",
       "      <td>Thursday</td>\n",
       "      <td>7522</td>\n",
       "    </tr>\n",
       "    <tr>\n",
       "      <th>5</th>\n",
       "      <td>Tuesday</td>\n",
       "      <td>4640</td>\n",
       "    </tr>\n",
       "    <tr>\n",
       "      <th>6</th>\n",
       "      <td>Wednesday</td>\n",
       "      <td>7031</td>\n",
       "    </tr>\n",
       "  </tbody>\n",
       "</table>\n",
       "</div>"
      ],
      "text/plain": [
       "  day_of_week  total_movies\n",
       "0      Friday         13906\n",
       "1      Monday          3501\n",
       "2    Saturday          5151\n",
       "3      Sunday          3612\n",
       "4    Thursday          7522\n",
       "5     Tuesday          4640\n",
       "6   Wednesday          7031"
      ]
     },
     "execution_count": 401,
     "metadata": {},
     "output_type": "execute_result"
    }
   ],
   "source": [
    "TotalPeliculasDia"
   ]
  },
  {
   "cell_type": "markdown",
   "metadata": {},
   "source": [
    "Siguiendo con el desarrollo de datasets para funciones."
   ]
  },
  {
   "cell_type": "code",
   "execution_count": 402,
   "metadata": {},
   "outputs": [],
   "source": [
    "FuncionScore = Movies[[\"title\",\"release_year\",\"popularity\"]]"
   ]
  },
  {
   "cell_type": "code",
   "execution_count": 403,
   "metadata": {},
   "outputs": [
    {
     "data": {
      "text/plain": [
       "popularity\n",
       "False    45364\n",
       "True         2\n",
       "Name: count, dtype: int64"
      ]
     },
     "execution_count": 403,
     "metadata": {},
     "output_type": "execute_result"
    }
   ],
   "source": [
    "FuncionScore[\"popularity\"].isna().value_counts()"
   ]
  },
  {
   "cell_type": "code",
   "execution_count": 404,
   "metadata": {},
   "outputs": [
    {
     "name": "stderr",
     "output_type": "stream",
     "text": [
      "C:\\Users\\Aleja\\AppData\\Local\\Temp\\ipykernel_8204\\3590323140.py:1: FutureWarning: A value is trying to be set on a copy of a DataFrame or Series through chained assignment using an inplace method.\n",
      "The behavior will change in pandas 3.0. This inplace method will never work because the intermediate object on which we are setting values always behaves as a copy.\n",
      "\n",
      "For example, when doing 'df[col].method(value, inplace=True)', try using 'df.method({col: value}, inplace=True)' or df[col] = df[col].method(value) instead, to perform the operation inplace on the original object.\n",
      "\n",
      "\n",
      "  FuncionScore[\"popularity\"].fillna(0,inplace=True)\n",
      "C:\\Users\\Aleja\\AppData\\Local\\Temp\\ipykernel_8204\\3590323140.py:1: SettingWithCopyWarning: \n",
      "A value is trying to be set on a copy of a slice from a DataFrame\n",
      "\n",
      "See the caveats in the documentation: https://pandas.pydata.org/pandas-docs/stable/user_guide/indexing.html#returning-a-view-versus-a-copy\n",
      "  FuncionScore[\"popularity\"].fillna(0,inplace=True)\n"
     ]
    }
   ],
   "source": [
    "FuncionScore[\"popularity\"].fillna(0,inplace=True)"
   ]
  },
  {
   "cell_type": "code",
   "execution_count": 405,
   "metadata": {},
   "outputs": [
    {
     "name": "stdout",
     "output_type": "stream",
     "text": [
      "<class 'pandas.core.frame.DataFrame'>\n",
      "Index: 45366 entries, 0 to 45465\n",
      "Data columns (total 3 columns):\n",
      " #   Column        Non-Null Count  Dtype \n",
      "---  ------        --------------  ----- \n",
      " 0   title         45363 non-null  object\n",
      " 1   release_year  45363 non-null  Int64 \n",
      " 2   popularity    45366 non-null  object\n",
      "dtypes: Int64(1), object(2)\n",
      "memory usage: 2.4+ MB\n"
     ]
    }
   ],
   "source": [
    "FuncionScore.info()"
   ]
  },
  {
   "cell_type": "code",
   "execution_count": 406,
   "metadata": {},
   "outputs": [
    {
     "name": "stderr",
     "output_type": "stream",
     "text": [
      "C:\\Users\\Aleja\\AppData\\Local\\Temp\\ipykernel_8204\\3241547926.py:1: SettingWithCopyWarning: \n",
      "A value is trying to be set on a copy of a slice from a DataFrame.\n",
      "Try using .loc[row_indexer,col_indexer] = value instead\n",
      "\n",
      "See the caveats in the documentation: https://pandas.pydata.org/pandas-docs/stable/user_guide/indexing.html#returning-a-view-versus-a-copy\n",
      "  FuncionScore['popularity_numeric'] = pd.to_numeric(FuncionScore['popularity'], errors='coerce')\n"
     ]
    }
   ],
   "source": [
    "FuncionScore['popularity_numeric'] = pd.to_numeric(FuncionScore['popularity'], errors='coerce')"
   ]
  },
  {
   "cell_type": "code",
   "execution_count": 407,
   "metadata": {},
   "outputs": [
    {
     "data": {
      "text/plain": [
       "0        21.946943\n",
       "1        17.015539\n",
       "2        11.712900\n",
       "3         3.859495\n",
       "4         8.387519\n",
       "           ...    \n",
       "45460     5.683753\n",
       "45462     0.178241\n",
       "45463     0.903007\n",
       "45464     0.003503\n",
       "45465     0.163015\n",
       "Name: popularity_numeric, Length: 45366, dtype: float64"
      ]
     },
     "execution_count": 407,
     "metadata": {},
     "output_type": "execute_result"
    }
   ],
   "source": [
    "FuncionScore[\"popularity_numeric\"].fillna(0)"
   ]
  },
  {
   "cell_type": "code",
   "execution_count": 408,
   "metadata": {},
   "outputs": [
    {
     "name": "stdout",
     "output_type": "stream",
     "text": [
      "<class 'pandas.core.frame.DataFrame'>\n",
      "Index: 45366 entries, 0 to 45465\n",
      "Data columns (total 4 columns):\n",
      " #   Column              Non-Null Count  Dtype  \n",
      "---  ------              --------------  -----  \n",
      " 0   title               45363 non-null  object \n",
      " 1   release_year        45363 non-null  Int64  \n",
      " 2   popularity          45366 non-null  object \n",
      " 3   popularity_numeric  45365 non-null  float64\n",
      "dtypes: Int64(1), float64(1), object(2)\n",
      "memory usage: 2.8+ MB\n"
     ]
    }
   ],
   "source": [
    "FuncionScore.info()"
   ]
  },
  {
   "cell_type": "code",
   "execution_count": 409,
   "metadata": {},
   "outputs": [
    {
     "name": "stderr",
     "output_type": "stream",
     "text": [
      "C:\\Users\\Aleja\\AppData\\Local\\Temp\\ipykernel_8204\\1786479633.py:1: SettingWithCopyWarning: \n",
      "A value is trying to be set on a copy of a slice from a DataFrame.\n",
      "Try using .loc[row_indexer,col_indexer] = value instead\n",
      "\n",
      "See the caveats in the documentation: https://pandas.pydata.org/pandas-docs/stable/user_guide/indexing.html#returning-a-view-versus-a-copy\n",
      "  FuncionScore[\"popularity_numeric\"] = round(FuncionScore[\"popularity_numeric\"],2)\n"
     ]
    }
   ],
   "source": [
    "FuncionScore[\"popularity_numeric\"] = round(FuncionScore[\"popularity_numeric\"],2)"
   ]
  },
  {
   "cell_type": "code",
   "execution_count": 410,
   "metadata": {},
   "outputs": [
    {
     "name": "stdout",
     "output_type": "stream",
     "text": [
      "title\n",
      "False    45363\n",
      "True         3\n",
      "Name: count, dtype: int64\n",
      "release_year\n",
      "False    45363\n",
      "True         3\n",
      "Name: count, dtype: int64\n",
      "popularity_numeric\n",
      "False    45365\n",
      "True         1\n",
      "Name: count, dtype: int64\n"
     ]
    }
   ],
   "source": [
    "print(FuncionScore[\"title\"].isna().value_counts())\n",
    "print(FuncionScore[\"release_year\"].isna().value_counts())\n",
    "print(FuncionScore[\"popularity_numeric\"].isna().value_counts())"
   ]
  },
  {
   "cell_type": "code",
   "execution_count": 411,
   "metadata": {},
   "outputs": [
    {
     "name": "stderr",
     "output_type": "stream",
     "text": [
      "C:\\Users\\Aleja\\AppData\\Local\\Temp\\ipykernel_8204\\1553216218.py:2: SettingWithCopyWarning: \n",
      "A value is trying to be set on a copy of a slice from a DataFrame\n",
      "\n",
      "See the caveats in the documentation: https://pandas.pydata.org/pandas-docs/stable/user_guide/indexing.html#returning-a-view-versus-a-copy\n",
      "  FuncionScore.dropna(inplace=True)\n"
     ]
    }
   ],
   "source": [
    "#Se ingresa el título de una filmación esperando como respuesta el título, el año de estreno y el score.\n",
    "FuncionScore.dropna(inplace=True)\n",
    "FuncionScore = FuncionScore.drop(columns=[\"popularity\"])"
   ]
  },
  {
   "cell_type": "markdown",
   "metadata": {},
   "source": [
    "Aprovecho para definir el intervalo de años con que cuenta el dataset y darle información al usuario."
   ]
  },
  {
   "cell_type": "code",
   "execution_count": 412,
   "metadata": {},
   "outputs": [
    {
     "name": "stdout",
     "output_type": "stream",
     "text": [
      "1874-12-09 00:00:00\n",
      "2020-12-16 00:00:00\n"
     ]
    }
   ],
   "source": [
    "print(Movies[\"release_date\"].min())\n",
    "print(Movies[\"release_date\"].max())"
   ]
  },
  {
   "cell_type": "markdown",
   "metadata": {},
   "source": [
    "# CSV FuncionScore"
   ]
  },
  {
   "cell_type": "markdown",
   "metadata": {},
   "source": [
    "Guarda de archivos Funcion Score"
   ]
  },
  {
   "cell_type": "code",
   "execution_count": 413,
   "metadata": {},
   "outputs": [],
   "source": [
    "FuncionScore.to_csv('datasets\\\\FuncionScore.csv', index=False, header=[\"title\",\"release_year\",\"popularity\"])"
   ]
  },
  {
   "cell_type": "markdown",
   "metadata": {},
   "source": [
    "Funcion 4 --> Se ingresa el título de una filmación esperando como respuesta el título, la cantidad de votos y el valor promedio de las votaciones."
   ]
  },
  {
   "cell_type": "code",
   "execution_count": 414,
   "metadata": {},
   "outputs": [
    {
     "name": "stderr",
     "output_type": "stream",
     "text": [
      "C:\\Users\\Aleja\\AppData\\Local\\Temp\\ipykernel_8204\\603433661.py:2: SettingWithCopyWarning: \n",
      "A value is trying to be set on a copy of a slice from a DataFrame\n",
      "\n",
      "See the caveats in the documentation: https://pandas.pydata.org/pandas-docs/stable/user_guide/indexing.html#returning-a-view-versus-a-copy\n",
      "  FuncionVotos.dropna(inplace=True)\n"
     ]
    }
   ],
   "source": [
    "FuncionVotos = Movies[[\"title\",\"vote_count\",\"vote_average\"]]\n",
    "FuncionVotos.dropna(inplace=True)"
   ]
  },
  {
   "cell_type": "code",
   "execution_count": 415,
   "metadata": {},
   "outputs": [
    {
     "data": {
      "text/html": [
       "<div>\n",
       "<style scoped>\n",
       "    .dataframe tbody tr th:only-of-type {\n",
       "        vertical-align: middle;\n",
       "    }\n",
       "\n",
       "    .dataframe tbody tr th {\n",
       "        vertical-align: top;\n",
       "    }\n",
       "\n",
       "    .dataframe thead th {\n",
       "        text-align: right;\n",
       "    }\n",
       "</style>\n",
       "<table border=\"1\" class=\"dataframe\">\n",
       "  <thead>\n",
       "    <tr style=\"text-align: right;\">\n",
       "      <th></th>\n",
       "      <th>title</th>\n",
       "      <th>vote_count</th>\n",
       "      <th>vote_average</th>\n",
       "    </tr>\n",
       "  </thead>\n",
       "  <tbody>\n",
       "    <tr>\n",
       "      <th>0</th>\n",
       "      <td>Toy Story</td>\n",
       "      <td>5415.0</td>\n",
       "      <td>7.7</td>\n",
       "    </tr>\n",
       "    <tr>\n",
       "      <th>1</th>\n",
       "      <td>Jumanji</td>\n",
       "      <td>2413.0</td>\n",
       "      <td>6.9</td>\n",
       "    </tr>\n",
       "    <tr>\n",
       "      <th>2</th>\n",
       "      <td>Grumpier Old Men</td>\n",
       "      <td>92.0</td>\n",
       "      <td>6.5</td>\n",
       "    </tr>\n",
       "    <tr>\n",
       "      <th>3</th>\n",
       "      <td>Waiting to Exhale</td>\n",
       "      <td>34.0</td>\n",
       "      <td>6.1</td>\n",
       "    </tr>\n",
       "    <tr>\n",
       "      <th>4</th>\n",
       "      <td>Father of the Bride Part II</td>\n",
       "      <td>173.0</td>\n",
       "      <td>5.7</td>\n",
       "    </tr>\n",
       "    <tr>\n",
       "      <th>...</th>\n",
       "      <td>...</td>\n",
       "      <td>...</td>\n",
       "      <td>...</td>\n",
       "    </tr>\n",
       "    <tr>\n",
       "      <th>45460</th>\n",
       "      <td>Robin Hood</td>\n",
       "      <td>26.0</td>\n",
       "      <td>5.7</td>\n",
       "    </tr>\n",
       "    <tr>\n",
       "      <th>45462</th>\n",
       "      <td>Century of Birthing</td>\n",
       "      <td>3.0</td>\n",
       "      <td>9.0</td>\n",
       "    </tr>\n",
       "    <tr>\n",
       "      <th>45463</th>\n",
       "      <td>Betrayal</td>\n",
       "      <td>6.0</td>\n",
       "      <td>3.8</td>\n",
       "    </tr>\n",
       "    <tr>\n",
       "      <th>45464</th>\n",
       "      <td>Satan Triumphant</td>\n",
       "      <td>0.0</td>\n",
       "      <td>0.0</td>\n",
       "    </tr>\n",
       "    <tr>\n",
       "      <th>45465</th>\n",
       "      <td>Queerama</td>\n",
       "      <td>0.0</td>\n",
       "      <td>0.0</td>\n",
       "    </tr>\n",
       "  </tbody>\n",
       "</table>\n",
       "<p>45363 rows × 3 columns</p>\n",
       "</div>"
      ],
      "text/plain": [
       "                             title  vote_count  vote_average\n",
       "0                        Toy Story      5415.0           7.7\n",
       "1                          Jumanji      2413.0           6.9\n",
       "2                 Grumpier Old Men        92.0           6.5\n",
       "3                Waiting to Exhale        34.0           6.1\n",
       "4      Father of the Bride Part II       173.0           5.7\n",
       "...                            ...         ...           ...\n",
       "45460                   Robin Hood        26.0           5.7\n",
       "45462          Century of Birthing         3.0           9.0\n",
       "45463                     Betrayal         6.0           3.8\n",
       "45464             Satan Triumphant         0.0           0.0\n",
       "45465                     Queerama         0.0           0.0\n",
       "\n",
       "[45363 rows x 3 columns]"
      ]
     },
     "execution_count": 415,
     "metadata": {},
     "output_type": "execute_result"
    }
   ],
   "source": [
    "FuncionVotos"
   ]
  },
  {
   "cell_type": "code",
   "execution_count": 416,
   "metadata": {},
   "outputs": [
    {
     "name": "stdout",
     "output_type": "stream",
     "text": [
      "<class 'pandas.core.frame.DataFrame'>\n",
      "Index: 45363 entries, 0 to 45465\n",
      "Data columns (total 3 columns):\n",
      " #   Column        Non-Null Count  Dtype  \n",
      "---  ------        --------------  -----  \n",
      " 0   title         45363 non-null  object \n",
      " 1   vote_count    45363 non-null  float64\n",
      " 2   vote_average  45363 non-null  float64\n",
      "dtypes: float64(2), object(1)\n",
      "memory usage: 1.4+ MB\n"
     ]
    }
   ],
   "source": [
    "FuncionVotos.info()"
   ]
  },
  {
   "cell_type": "code",
   "execution_count": 417,
   "metadata": {},
   "outputs": [
    {
     "name": "stderr",
     "output_type": "stream",
     "text": [
      "C:\\Users\\Aleja\\AppData\\Local\\Temp\\ipykernel_8204\\1448764649.py:1: SettingWithCopyWarning: \n",
      "A value is trying to be set on a copy of a slice from a DataFrame.\n",
      "Try using .loc[row_indexer,col_indexer] = value instead\n",
      "\n",
      "See the caveats in the documentation: https://pandas.pydata.org/pandas-docs/stable/user_guide/indexing.html#returning-a-view-versus-a-copy\n",
      "  FuncionVotos[\"vote_count\"] = FuncionVotos[\"vote_count\"].astype(int)\n"
     ]
    }
   ],
   "source": [
    "FuncionVotos[\"vote_count\"] = FuncionVotos[\"vote_count\"].astype(int)"
   ]
  },
  {
   "cell_type": "code",
   "execution_count": 418,
   "metadata": {},
   "outputs": [
    {
     "name": "stdout",
     "output_type": "stream",
     "text": [
      "<class 'pandas.core.frame.DataFrame'>\n",
      "Index: 45363 entries, 0 to 45465\n",
      "Data columns (total 3 columns):\n",
      " #   Column        Non-Null Count  Dtype  \n",
      "---  ------        --------------  -----  \n",
      " 0   title         45363 non-null  object \n",
      " 1   vote_count    45363 non-null  int32  \n",
      " 2   vote_average  45363 non-null  float64\n",
      "dtypes: float64(1), int32(1), object(1)\n",
      "memory usage: 1.2+ MB\n"
     ]
    }
   ],
   "source": [
    "FuncionVotos.info()"
   ]
  },
  {
   "cell_type": "code",
   "execution_count": 419,
   "metadata": {},
   "outputs": [
    {
     "data": {
      "text/plain": [
       "title  vote_count  vote_average\n",
       "False  False       False           45363\n",
       "Name: count, dtype: int64"
      ]
     },
     "execution_count": 419,
     "metadata": {},
     "output_type": "execute_result"
    }
   ],
   "source": [
    "FuncionVotos.isna().value_counts()"
   ]
  },
  {
   "cell_type": "code",
   "execution_count": 420,
   "metadata": {},
   "outputs": [
    {
     "name": "stdout",
     "output_type": "stream",
     "text": [
      "                              title  vote_count  vote_average\n",
      "83      Last Summer in the Hamptons           0           0.0\n",
      "107    Headless Body in Topless Bar           0           0.0\n",
      "126                  Jupiter's Wife           0           0.0\n",
      "132                   Sonic Outlaws           0           0.0\n",
      "137                          Target           0           0.0\n",
      "...                             ...         ...           ...\n",
      "45432                 Altar of Fire           0           0.0\n",
      "45434        The Wonders of Aladdin           0           0.0\n",
      "45452                   Deep Hearts           0           0.0\n",
      "45464              Satan Triumphant           0           0.0\n",
      "45465                      Queerama           0           0.0\n",
      "\n",
      "[2848 rows x 3 columns]\n"
     ]
    }
   ],
   "source": [
    "print(FuncionVotos[FuncionVotos[\"vote_count\"]==0])"
   ]
  },
  {
   "cell_type": "markdown",
   "metadata": {},
   "source": [
    "Guarda de archivos Funcion Votos"
   ]
  },
  {
   "cell_type": "markdown",
   "metadata": {},
   "source": [
    "# CSV FuncionVotos"
   ]
  },
  {
   "cell_type": "code",
   "execution_count": 421,
   "metadata": {},
   "outputs": [],
   "source": [
    "FuncionVotos.to_csv('datasets\\\\FuncionVotos.csv', index=False, header=[\"title\",\"vote_count\",\"vote_average\"])"
   ]
  },
  {
   "cell_type": "code",
   "execution_count": 422,
   "metadata": {},
   "outputs": [
    {
     "data": {
      "text/html": [
       "<div>\n",
       "<style scoped>\n",
       "    .dataframe tbody tr th:only-of-type {\n",
       "        vertical-align: middle;\n",
       "    }\n",
       "\n",
       "    .dataframe tbody tr th {\n",
       "        vertical-align: top;\n",
       "    }\n",
       "\n",
       "    .dataframe thead th {\n",
       "        text-align: right;\n",
       "    }\n",
       "</style>\n",
       "<table border=\"1\" class=\"dataframe\">\n",
       "  <thead>\n",
       "    <tr style=\"text-align: right;\">\n",
       "      <th></th>\n",
       "      <th>cast</th>\n",
       "      <th>crew</th>\n",
       "      <th>id</th>\n",
       "    </tr>\n",
       "  </thead>\n",
       "  <tbody>\n",
       "    <tr>\n",
       "      <th>0</th>\n",
       "      <td>[{'cast_id': 14, 'character': 'Woody (voice)',...</td>\n",
       "      <td>[{'credit_id': '52fe4284c3a36847f8024f49', 'de...</td>\n",
       "      <td>862</td>\n",
       "    </tr>\n",
       "    <tr>\n",
       "      <th>1</th>\n",
       "      <td>[{'cast_id': 1, 'character': 'Alan Parrish', '...</td>\n",
       "      <td>[{'credit_id': '52fe44bfc3a36847f80a7cd1', 'de...</td>\n",
       "      <td>8844</td>\n",
       "    </tr>\n",
       "    <tr>\n",
       "      <th>2</th>\n",
       "      <td>[{'cast_id': 2, 'character': 'Max Goldman', 'c...</td>\n",
       "      <td>[{'credit_id': '52fe466a9251416c75077a89', 'de...</td>\n",
       "      <td>15602</td>\n",
       "    </tr>\n",
       "    <tr>\n",
       "      <th>3</th>\n",
       "      <td>[{'cast_id': 1, 'character': \"Savannah 'Vannah...</td>\n",
       "      <td>[{'credit_id': '52fe44779251416c91011acb', 'de...</td>\n",
       "      <td>31357</td>\n",
       "    </tr>\n",
       "    <tr>\n",
       "      <th>4</th>\n",
       "      <td>[{'cast_id': 1, 'character': 'George Banks', '...</td>\n",
       "      <td>[{'credit_id': '52fe44959251416c75039ed7', 'de...</td>\n",
       "      <td>11862</td>\n",
       "    </tr>\n",
       "    <tr>\n",
       "      <th>...</th>\n",
       "      <td>...</td>\n",
       "      <td>...</td>\n",
       "      <td>...</td>\n",
       "    </tr>\n",
       "    <tr>\n",
       "      <th>45471</th>\n",
       "      <td>[{'cast_id': 0, 'character': '', 'credit_id': ...</td>\n",
       "      <td>[{'credit_id': '5894a97d925141426c00818c', 'de...</td>\n",
       "      <td>439050</td>\n",
       "    </tr>\n",
       "    <tr>\n",
       "      <th>45472</th>\n",
       "      <td>[{'cast_id': 1002, 'character': 'Sister Angela...</td>\n",
       "      <td>[{'credit_id': '52fe4af1c3a36847f81e9b15', 'de...</td>\n",
       "      <td>111109</td>\n",
       "    </tr>\n",
       "    <tr>\n",
       "      <th>45473</th>\n",
       "      <td>[{'cast_id': 6, 'character': 'Emily Shaw', 'cr...</td>\n",
       "      <td>[{'credit_id': '52fe4776c3a368484e0c8387', 'de...</td>\n",
       "      <td>67758</td>\n",
       "    </tr>\n",
       "    <tr>\n",
       "      <th>45474</th>\n",
       "      <td>[{'cast_id': 2, 'character': '', 'credit_id': ...</td>\n",
       "      <td>[{'credit_id': '533bccebc3a36844cf0011a7', 'de...</td>\n",
       "      <td>227506</td>\n",
       "    </tr>\n",
       "    <tr>\n",
       "      <th>45475</th>\n",
       "      <td>[]</td>\n",
       "      <td>[{'credit_id': '593e676c92514105b702e68e', 'de...</td>\n",
       "      <td>461257</td>\n",
       "    </tr>\n",
       "  </tbody>\n",
       "</table>\n",
       "<p>45439 rows × 3 columns</p>\n",
       "</div>"
      ],
      "text/plain": [
       "                                                    cast  \\\n",
       "0      [{'cast_id': 14, 'character': 'Woody (voice)',...   \n",
       "1      [{'cast_id': 1, 'character': 'Alan Parrish', '...   \n",
       "2      [{'cast_id': 2, 'character': 'Max Goldman', 'c...   \n",
       "3      [{'cast_id': 1, 'character': \"Savannah 'Vannah...   \n",
       "4      [{'cast_id': 1, 'character': 'George Banks', '...   \n",
       "...                                                  ...   \n",
       "45471  [{'cast_id': 0, 'character': '', 'credit_id': ...   \n",
       "45472  [{'cast_id': 1002, 'character': 'Sister Angela...   \n",
       "45473  [{'cast_id': 6, 'character': 'Emily Shaw', 'cr...   \n",
       "45474  [{'cast_id': 2, 'character': '', 'credit_id': ...   \n",
       "45475                                                 []   \n",
       "\n",
       "                                                    crew      id  \n",
       "0      [{'credit_id': '52fe4284c3a36847f8024f49', 'de...     862  \n",
       "1      [{'credit_id': '52fe44bfc3a36847f80a7cd1', 'de...    8844  \n",
       "2      [{'credit_id': '52fe466a9251416c75077a89', 'de...   15602  \n",
       "3      [{'credit_id': '52fe44779251416c91011acb', 'de...   31357  \n",
       "4      [{'credit_id': '52fe44959251416c75039ed7', 'de...   11862  \n",
       "...                                                  ...     ...  \n",
       "45471  [{'credit_id': '5894a97d925141426c00818c', 'de...  439050  \n",
       "45472  [{'credit_id': '52fe4af1c3a36847f81e9b15', 'de...  111109  \n",
       "45473  [{'credit_id': '52fe4776c3a368484e0c8387', 'de...   67758  \n",
       "45474  [{'credit_id': '533bccebc3a36844cf0011a7', 'de...  227506  \n",
       "45475  [{'credit_id': '593e676c92514105b702e68e', 'de...  461257  \n",
       "\n",
       "[45439 rows x 3 columns]"
      ]
     },
     "execution_count": 422,
     "metadata": {},
     "output_type": "execute_result"
    }
   ],
   "source": [
    "Credits"
   ]
  },
  {
   "cell_type": "code",
   "execution_count": 423,
   "metadata": {},
   "outputs": [
    {
     "data": {
      "text/plain": [
       "0        [{'cast_id': 14, 'character': 'Woody (voice)',...\n",
       "1        [{'cast_id': 1, 'character': 'Alan Parrish', '...\n",
       "2        [{'cast_id': 2, 'character': 'Max Goldman', 'c...\n",
       "3        [{'cast_id': 1, 'character': \"Savannah 'Vannah...\n",
       "4        [{'cast_id': 1, 'character': 'George Banks', '...\n",
       "                               ...                        \n",
       "45471    [{'cast_id': 0, 'character': '', 'credit_id': ...\n",
       "45472    [{'cast_id': 1002, 'character': 'Sister Angela...\n",
       "45473    [{'cast_id': 6, 'character': 'Emily Shaw', 'cr...\n",
       "45474    [{'cast_id': 2, 'character': '', 'credit_id': ...\n",
       "45475                                                   []\n",
       "Name: cast, Length: 45439, dtype: object"
      ]
     },
     "execution_count": 423,
     "metadata": {},
     "output_type": "execute_result"
    }
   ],
   "source": [
    "Credits[\"cast\"]"
   ]
  },
  {
   "cell_type": "code",
   "execution_count": 424,
   "metadata": {},
   "outputs": [
    {
     "data": {
      "text/plain": [
       "\"[{'cast_id': 14, 'character': 'Woody (voice)', 'credit_id': '52fe4284c3a36847f8024f95', 'gender': 2, 'id': 31, 'name': 'Tom Hanks', 'order': 0, 'profile_path': '/pQFoyx7rp09CJTAb932F2g8Nlho.jpg'}, {'cast_id': 15, 'character': 'Buzz Lightyear (voice)', 'credit_id': '52fe4284c3a36847f8024f99', 'gender': 2, 'id': 12898, 'name': 'Tim Allen', 'order': 1, 'profile_path': '/uX2xVf6pMmPepxnvFWyBtjexzgY.jpg'}, {'cast_id': 16, 'character': 'Mr. Potato Head (voice)', 'credit_id': '52fe4284c3a36847f8024f9d', 'gender': 2, 'id': 7167, 'name': 'Don Rickles', 'order': 2, 'profile_path': '/h5BcaDMPRVLHLDzbQavec4xfSdt.jpg'}, {'cast_id': 17, 'character': 'Slinky Dog (voice)', 'credit_id': '52fe4284c3a36847f8024fa1', 'gender': 2, 'id': 12899, 'name': 'Jim Varney', 'order': 3, 'profile_path': '/eIo2jVVXYgjDtaHoF19Ll9vtW7h.jpg'}, {'cast_id': 18, 'character': 'Rex (voice)', 'credit_id': '52fe4284c3a36847f8024fa5', 'gender': 2, 'id': 12900, 'name': 'Wallace Shawn', 'order': 4, 'profile_path': '/oGE6JqPP2xH4tNORKNqxbNPYi7u.jpg'}, {'cast_id': 19, 'character': 'Hamm (voice)', 'credit_id': '52fe4284c3a36847f8024fa9', 'gender': 2, 'id': 7907, 'name': 'John Ratzenberger', 'order': 5, 'profile_path': '/yGechiKWL6TJDfVE2KPSJYqdMsY.jpg'}, {'cast_id': 20, 'character': 'Bo Peep (voice)', 'credit_id': '52fe4284c3a36847f8024fad', 'gender': 1, 'id': 8873, 'name': 'Annie Potts', 'order': 6, 'profile_path': '/eryXT84RL41jHSJcMy4kS3u9y6w.jpg'}, {'cast_id': 26, 'character': 'Andy (voice)', 'credit_id': '52fe4284c3a36847f8024fc1', 'gender': 0, 'id': 1116442, 'name': 'John Morris', 'order': 7, 'profile_path': '/vYGyvK4LzeaUCoNSHtsuqJUY15M.jpg'}, {'cast_id': 22, 'character': 'Sid (voice)', 'credit_id': '52fe4284c3a36847f8024fb1', 'gender': 2, 'id': 12901, 'name': 'Erik von Detten', 'order': 8, 'profile_path': '/twnF1ZaJ1FUNUuo6xLXwcxjayBE.jpg'}, {'cast_id': 23, 'character': 'Mrs. Davis (voice)', 'credit_id': '52fe4284c3a36847f8024fb5', 'gender': 1, 'id': 12133, 'name': 'Laurie Metcalf', 'order': 9, 'profile_path': '/unMMIT60eoBM2sN2nyR7EZ2BvvD.jpg'}, {'cast_id': 24, 'character': 'Sergeant (voice)', 'credit_id': '52fe4284c3a36847f8024fb9', 'gender': 2, 'id': 8655, 'name': 'R. Lee Ermey', 'order': 10, 'profile_path': '/r8GBqFBjypLUP9VVqDqfZ7wYbSs.jpg'}, {'cast_id': 25, 'character': 'Hannah (voice)', 'credit_id': '52fe4284c3a36847f8024fbd', 'gender': 1, 'id': 12903, 'name': 'Sarah Freeman', 'order': 11, 'profile_path': None}, {'cast_id': 27, 'character': 'TV Announcer (voice)', 'credit_id': '52fe4284c3a36847f8024fc5', 'gender': 2, 'id': 37221, 'name': 'Penn Jillette', 'order': 12, 'profile_path': '/zmAaXUdx12NRsssgHbk1T31j2x9.jpg'}]\""
      ]
     },
     "execution_count": 424,
     "metadata": {},
     "output_type": "execute_result"
    }
   ],
   "source": [
    "Credits[\"cast\"][0]"
   ]
  },
  {
   "cell_type": "code",
   "execution_count": 425,
   "metadata": {},
   "outputs": [
    {
     "name": "stdout",
     "output_type": "stream",
     "text": [
      "   cast_id                character                 credit_id  gender  \\\n",
      "0     14.0            Woody (voice)  52fe4284c3a36847f8024f95     2.0   \n",
      "1     15.0   Buzz Lightyear (voice)  52fe4284c3a36847f8024f99     2.0   \n",
      "2     16.0  Mr. Potato Head (voice)  52fe4284c3a36847f8024f9d     2.0   \n",
      "3     17.0       Slinky Dog (voice)  52fe4284c3a36847f8024fa1     2.0   \n",
      "4     18.0              Rex (voice)  52fe4284c3a36847f8024fa5     2.0   \n",
      "\n",
      "        id           name  order                      profile_path  movie_id  \n",
      "0     31.0      Tom Hanks    0.0  /pQFoyx7rp09CJTAb932F2g8Nlho.jpg       862  \n",
      "1  12898.0      Tim Allen    1.0  /uX2xVf6pMmPepxnvFWyBtjexzgY.jpg       862  \n",
      "2   7167.0    Don Rickles    2.0  /h5BcaDMPRVLHLDzbQavec4xfSdt.jpg       862  \n",
      "3  12899.0     Jim Varney    3.0  /eIo2jVVXYgjDtaHoF19Ll9vtW7h.jpg       862  \n",
      "4  12900.0  Wallace Shawn    4.0  /oGE6JqPP2xH4tNORKNqxbNPYi7u.jpg       862  \n"
     ]
    }
   ],
   "source": [
    "#Funcion para desanidar Cast\n",
    "\n",
    "import pandas as pd\n",
    "import ast\n",
    "\n",
    "def desanidar_cast(Credits_df):\n",
    "    # Extraer y desanidar la columna 'cast'\n",
    "    collection_data = Credits_df['cast'].apply(lambda x: ast.literal_eval(x) if pd.notnull(x) else [])\n",
    "    \n",
    "    # Crear una lista para almacenar DataFrames individuales\n",
    "    cast_list = []\n",
    "    \n",
    "    # Iterar sobre cada fila en el DataFrame original\n",
    "    for index, row in Credits_df.iterrows():\n",
    "        # Convertir la lista de diccionarios de cada fila en un DataFrame\n",
    "        cast_df = pd.DataFrame(collection_data[index])\n",
    "        cast_df['movie_id'] = row['id']  # Añadir el ID de la película para relacionar\n",
    "        cast_list.append(cast_df)\n",
    "    \n",
    "    # Concatenar todos los DataFrames en uno solo\n",
    "    resultado_cast = pd.concat(cast_list, ignore_index=True)\n",
    "    \n",
    "    return resultado_cast\n",
    "\n",
    "resultado_cast = desanidar_cast(Credits)\n",
    "\n",
    "# Ahora `resultado_cast` contiene los datos completamente desanidados de la columna `cast`\n",
    "print(resultado_cast.head())\n"
   ]
  },
  {
   "cell_type": "code",
   "execution_count": 426,
   "metadata": {},
   "outputs": [
    {
     "data": {
      "text/html": [
       "<div>\n",
       "<style scoped>\n",
       "    .dataframe tbody tr th:only-of-type {\n",
       "        vertical-align: middle;\n",
       "    }\n",
       "\n",
       "    .dataframe tbody tr th {\n",
       "        vertical-align: top;\n",
       "    }\n",
       "\n",
       "    .dataframe thead th {\n",
       "        text-align: right;\n",
       "    }\n",
       "</style>\n",
       "<table border=\"1\" class=\"dataframe\">\n",
       "  <thead>\n",
       "    <tr style=\"text-align: right;\">\n",
       "      <th></th>\n",
       "      <th>cast_id</th>\n",
       "      <th>character</th>\n",
       "      <th>credit_id</th>\n",
       "      <th>gender</th>\n",
       "      <th>id</th>\n",
       "      <th>name</th>\n",
       "      <th>order</th>\n",
       "      <th>profile_path</th>\n",
       "      <th>movie_id</th>\n",
       "    </tr>\n",
       "  </thead>\n",
       "  <tbody>\n",
       "    <tr>\n",
       "      <th>0</th>\n",
       "      <td>14.0</td>\n",
       "      <td>Woody (voice)</td>\n",
       "      <td>52fe4284c3a36847f8024f95</td>\n",
       "      <td>2.0</td>\n",
       "      <td>31.0</td>\n",
       "      <td>Tom Hanks</td>\n",
       "      <td>0.0</td>\n",
       "      <td>/pQFoyx7rp09CJTAb932F2g8Nlho.jpg</td>\n",
       "      <td>862</td>\n",
       "    </tr>\n",
       "    <tr>\n",
       "      <th>1</th>\n",
       "      <td>15.0</td>\n",
       "      <td>Buzz Lightyear (voice)</td>\n",
       "      <td>52fe4284c3a36847f8024f99</td>\n",
       "      <td>2.0</td>\n",
       "      <td>12898.0</td>\n",
       "      <td>Tim Allen</td>\n",
       "      <td>1.0</td>\n",
       "      <td>/uX2xVf6pMmPepxnvFWyBtjexzgY.jpg</td>\n",
       "      <td>862</td>\n",
       "    </tr>\n",
       "    <tr>\n",
       "      <th>2</th>\n",
       "      <td>16.0</td>\n",
       "      <td>Mr. Potato Head (voice)</td>\n",
       "      <td>52fe4284c3a36847f8024f9d</td>\n",
       "      <td>2.0</td>\n",
       "      <td>7167.0</td>\n",
       "      <td>Don Rickles</td>\n",
       "      <td>2.0</td>\n",
       "      <td>/h5BcaDMPRVLHLDzbQavec4xfSdt.jpg</td>\n",
       "      <td>862</td>\n",
       "    </tr>\n",
       "    <tr>\n",
       "      <th>3</th>\n",
       "      <td>17.0</td>\n",
       "      <td>Slinky Dog (voice)</td>\n",
       "      <td>52fe4284c3a36847f8024fa1</td>\n",
       "      <td>2.0</td>\n",
       "      <td>12899.0</td>\n",
       "      <td>Jim Varney</td>\n",
       "      <td>3.0</td>\n",
       "      <td>/eIo2jVVXYgjDtaHoF19Ll9vtW7h.jpg</td>\n",
       "      <td>862</td>\n",
       "    </tr>\n",
       "    <tr>\n",
       "      <th>4</th>\n",
       "      <td>18.0</td>\n",
       "      <td>Rex (voice)</td>\n",
       "      <td>52fe4284c3a36847f8024fa5</td>\n",
       "      <td>2.0</td>\n",
       "      <td>12900.0</td>\n",
       "      <td>Wallace Shawn</td>\n",
       "      <td>4.0</td>\n",
       "      <td>/oGE6JqPP2xH4tNORKNqxbNPYi7u.jpg</td>\n",
       "      <td>862</td>\n",
       "    </tr>\n",
       "    <tr>\n",
       "      <th>...</th>\n",
       "      <td>...</td>\n",
       "      <td>...</td>\n",
       "      <td>...</td>\n",
       "      <td>...</td>\n",
       "      <td>...</td>\n",
       "      <td>...</td>\n",
       "      <td>...</td>\n",
       "      <td>...</td>\n",
       "      <td>...</td>\n",
       "    </tr>\n",
       "    <tr>\n",
       "      <th>562127</th>\n",
       "      <td>2.0</td>\n",
       "      <td></td>\n",
       "      <td>52fe4ea59251416c7515d7d5</td>\n",
       "      <td>2.0</td>\n",
       "      <td>544742.0</td>\n",
       "      <td>Iwan Mosschuchin</td>\n",
       "      <td>0.0</td>\n",
       "      <td>None</td>\n",
       "      <td>227506</td>\n",
       "    </tr>\n",
       "    <tr>\n",
       "      <th>562128</th>\n",
       "      <td>3.0</td>\n",
       "      <td></td>\n",
       "      <td>52fe4ea59251416c7515d7d9</td>\n",
       "      <td>1.0</td>\n",
       "      <td>1090923.0</td>\n",
       "      <td>Nathalie Lissenko</td>\n",
       "      <td>1.0</td>\n",
       "      <td>None</td>\n",
       "      <td>227506</td>\n",
       "    </tr>\n",
       "    <tr>\n",
       "      <th>562129</th>\n",
       "      <td>4.0</td>\n",
       "      <td></td>\n",
       "      <td>52fe4ea59251416c7515d7dd</td>\n",
       "      <td>2.0</td>\n",
       "      <td>1136422.0</td>\n",
       "      <td>Pavel Pavlov</td>\n",
       "      <td>2.0</td>\n",
       "      <td>None</td>\n",
       "      <td>227506</td>\n",
       "    </tr>\n",
       "    <tr>\n",
       "      <th>562130</th>\n",
       "      <td>5.0</td>\n",
       "      <td></td>\n",
       "      <td>52fe4ea59251416c7515d7e1</td>\n",
       "      <td>0.0</td>\n",
       "      <td>1261758.0</td>\n",
       "      <td>Aleksandr Chabrov</td>\n",
       "      <td>3.0</td>\n",
       "      <td>None</td>\n",
       "      <td>227506</td>\n",
       "    </tr>\n",
       "    <tr>\n",
       "      <th>562131</th>\n",
       "      <td>6.0</td>\n",
       "      <td></td>\n",
       "      <td>52fe4ea59251416c7515d7e5</td>\n",
       "      <td>1.0</td>\n",
       "      <td>29199.0</td>\n",
       "      <td>Vera Orlova</td>\n",
       "      <td>4.0</td>\n",
       "      <td>/n1NXVGNzNxtqsMWxLT1h8GO8Kpi.jpg</td>\n",
       "      <td>227506</td>\n",
       "    </tr>\n",
       "  </tbody>\n",
       "</table>\n",
       "<p>562132 rows × 9 columns</p>\n",
       "</div>"
      ],
      "text/plain": [
       "        cast_id                character                 credit_id  gender  \\\n",
       "0          14.0            Woody (voice)  52fe4284c3a36847f8024f95     2.0   \n",
       "1          15.0   Buzz Lightyear (voice)  52fe4284c3a36847f8024f99     2.0   \n",
       "2          16.0  Mr. Potato Head (voice)  52fe4284c3a36847f8024f9d     2.0   \n",
       "3          17.0       Slinky Dog (voice)  52fe4284c3a36847f8024fa1     2.0   \n",
       "4          18.0              Rex (voice)  52fe4284c3a36847f8024fa5     2.0   \n",
       "...         ...                      ...                       ...     ...   \n",
       "562127      2.0                           52fe4ea59251416c7515d7d5     2.0   \n",
       "562128      3.0                           52fe4ea59251416c7515d7d9     1.0   \n",
       "562129      4.0                           52fe4ea59251416c7515d7dd     2.0   \n",
       "562130      5.0                           52fe4ea59251416c7515d7e1     0.0   \n",
       "562131      6.0                           52fe4ea59251416c7515d7e5     1.0   \n",
       "\n",
       "               id               name  order                      profile_path  \\\n",
       "0            31.0          Tom Hanks    0.0  /pQFoyx7rp09CJTAb932F2g8Nlho.jpg   \n",
       "1         12898.0          Tim Allen    1.0  /uX2xVf6pMmPepxnvFWyBtjexzgY.jpg   \n",
       "2          7167.0        Don Rickles    2.0  /h5BcaDMPRVLHLDzbQavec4xfSdt.jpg   \n",
       "3         12899.0         Jim Varney    3.0  /eIo2jVVXYgjDtaHoF19Ll9vtW7h.jpg   \n",
       "4         12900.0      Wallace Shawn    4.0  /oGE6JqPP2xH4tNORKNqxbNPYi7u.jpg   \n",
       "...           ...                ...    ...                               ...   \n",
       "562127   544742.0   Iwan Mosschuchin    0.0                              None   \n",
       "562128  1090923.0  Nathalie Lissenko    1.0                              None   \n",
       "562129  1136422.0       Pavel Pavlov    2.0                              None   \n",
       "562130  1261758.0  Aleksandr Chabrov    3.0                              None   \n",
       "562131    29199.0        Vera Orlova    4.0  /n1NXVGNzNxtqsMWxLT1h8GO8Kpi.jpg   \n",
       "\n",
       "        movie_id  \n",
       "0            862  \n",
       "1            862  \n",
       "2            862  \n",
       "3            862  \n",
       "4            862  \n",
       "...          ...  \n",
       "562127    227506  \n",
       "562128    227506  \n",
       "562129    227506  \n",
       "562130    227506  \n",
       "562131    227506  \n",
       "\n",
       "[562132 rows x 9 columns]"
      ]
     },
     "execution_count": 426,
     "metadata": {},
     "output_type": "execute_result"
    }
   ],
   "source": [
    "resultado_cast"
   ]
  },
  {
   "cell_type": "code",
   "execution_count": 427,
   "metadata": {},
   "outputs": [],
   "source": [
    "resultado_cast.drop(columns=[\"cast_id\", \"credit_id\", \"order\", \"profile_path\",\"gender\",\"id\",\"character\"], inplace=True)"
   ]
  },
  {
   "cell_type": "code",
   "execution_count": 428,
   "metadata": {},
   "outputs": [],
   "source": [
    "resultado_cast.sort_values(by='name', ascending=True, inplace=True)"
   ]
  },
  {
   "cell_type": "code",
   "execution_count": 429,
   "metadata": {},
   "outputs": [
    {
     "name": "stdout",
     "output_type": "stream",
     "text": [
      "<class 'pandas.core.frame.DataFrame'>\n",
      "Index: 562132 entries, 349934 to 491610\n",
      "Data columns (total 2 columns):\n",
      " #   Column    Non-Null Count   Dtype \n",
      "---  ------    --------------   ----- \n",
      " 0   name      562132 non-null  object\n",
      " 1   movie_id  562132 non-null  int64 \n",
      "dtypes: int64(1), object(1)\n",
      "memory usage: 12.9+ MB\n"
     ]
    }
   ],
   "source": [
    "resultado_cast.info()"
   ]
  },
  {
   "cell_type": "code",
   "execution_count": 430,
   "metadata": {},
   "outputs": [
    {
     "data": {
      "text/html": [
       "<div>\n",
       "<style scoped>\n",
       "    .dataframe tbody tr th:only-of-type {\n",
       "        vertical-align: middle;\n",
       "    }\n",
       "\n",
       "    .dataframe tbody tr th {\n",
       "        vertical-align: top;\n",
       "    }\n",
       "\n",
       "    .dataframe thead th {\n",
       "        text-align: right;\n",
       "    }\n",
       "</style>\n",
       "<table border=\"1\" class=\"dataframe\">\n",
       "  <thead>\n",
       "    <tr style=\"text-align: right;\">\n",
       "      <th></th>\n",
       "      <th>name</th>\n",
       "      <th>movie_id</th>\n",
       "    </tr>\n",
       "  </thead>\n",
       "  <tbody>\n",
       "    <tr>\n",
       "      <th>349934</th>\n",
       "      <td>\\tCheung Chi-Sing</td>\n",
       "      <td>17082</td>\n",
       "    </tr>\n",
       "    <tr>\n",
       "      <th>48771</th>\n",
       "      <td>\\tDouglas Hegdahl</td>\n",
       "      <td>56235</td>\n",
       "    </tr>\n",
       "    <tr>\n",
       "      <th>82076</th>\n",
       "      <td>\\tRobert Osth</td>\n",
       "      <td>39867</td>\n",
       "    </tr>\n",
       "    <tr>\n",
       "      <th>244071</th>\n",
       "      <td>\\tYip Chun</td>\n",
       "      <td>32151</td>\n",
       "    </tr>\n",
       "    <tr>\n",
       "      <th>266674</th>\n",
       "      <td>\\tYip Chun</td>\n",
       "      <td>41387</td>\n",
       "    </tr>\n",
       "    <tr>\n",
       "      <th>...</th>\n",
       "      <td>...</td>\n",
       "      <td>...</td>\n",
       "    </tr>\n",
       "    <tr>\n",
       "      <th>430943</th>\n",
       "      <td>高桥一生</td>\n",
       "      <td>40701</td>\n",
       "    </tr>\n",
       "    <tr>\n",
       "      <th>147091</th>\n",
       "      <td>高桥一生</td>\n",
       "      <td>15080</td>\n",
       "    </tr>\n",
       "    <tr>\n",
       "      <th>119988</th>\n",
       "      <td>高桥一生</td>\n",
       "      <td>393</td>\n",
       "    </tr>\n",
       "    <tr>\n",
       "      <th>491611</th>\n",
       "      <td>강계열</td>\n",
       "      <td>306598</td>\n",
       "    </tr>\n",
       "    <tr>\n",
       "      <th>491610</th>\n",
       "      <td>조병만</td>\n",
       "      <td>306598</td>\n",
       "    </tr>\n",
       "  </tbody>\n",
       "</table>\n",
       "<p>562132 rows × 2 columns</p>\n",
       "</div>"
      ],
      "text/plain": [
       "                     name  movie_id\n",
       "349934  \\tCheung Chi-Sing     17082\n",
       "48771   \\tDouglas Hegdahl     56235\n",
       "82076       \\tRobert Osth     39867\n",
       "244071         \\tYip Chun     32151\n",
       "266674         \\tYip Chun     41387\n",
       "...                   ...       ...\n",
       "430943               高桥一生     40701\n",
       "147091               高桥一生     15080\n",
       "119988               高桥一生       393\n",
       "491611                강계열    306598\n",
       "491610                조병만    306598\n",
       "\n",
       "[562132 rows x 2 columns]"
      ]
     },
     "execution_count": 430,
     "metadata": {},
     "output_type": "execute_result"
    }
   ],
   "source": [
    "resultado_cast"
   ]
  },
  {
   "cell_type": "code",
   "execution_count": 431,
   "metadata": {},
   "outputs": [],
   "source": [
    "ResultadoCastActores = resultado_cast.reset_index(drop=True)"
   ]
  },
  {
   "cell_type": "code",
   "execution_count": 432,
   "metadata": {},
   "outputs": [
    {
     "data": {
      "text/html": [
       "<div>\n",
       "<style scoped>\n",
       "    .dataframe tbody tr th:only-of-type {\n",
       "        vertical-align: middle;\n",
       "    }\n",
       "\n",
       "    .dataframe tbody tr th {\n",
       "        vertical-align: top;\n",
       "    }\n",
       "\n",
       "    .dataframe thead th {\n",
       "        text-align: right;\n",
       "    }\n",
       "</style>\n",
       "<table border=\"1\" class=\"dataframe\">\n",
       "  <thead>\n",
       "    <tr style=\"text-align: right;\">\n",
       "      <th></th>\n",
       "      <th>name</th>\n",
       "      <th>movie_id</th>\n",
       "    </tr>\n",
       "  </thead>\n",
       "  <tbody>\n",
       "    <tr>\n",
       "      <th>0</th>\n",
       "      <td>\\tCheung Chi-Sing</td>\n",
       "      <td>17082</td>\n",
       "    </tr>\n",
       "    <tr>\n",
       "      <th>1</th>\n",
       "      <td>\\tDouglas Hegdahl</td>\n",
       "      <td>56235</td>\n",
       "    </tr>\n",
       "    <tr>\n",
       "      <th>2</th>\n",
       "      <td>\\tRobert Osth</td>\n",
       "      <td>39867</td>\n",
       "    </tr>\n",
       "    <tr>\n",
       "      <th>3</th>\n",
       "      <td>\\tYip Chun</td>\n",
       "      <td>32151</td>\n",
       "    </tr>\n",
       "    <tr>\n",
       "      <th>4</th>\n",
       "      <td>\\tYip Chun</td>\n",
       "      <td>41387</td>\n",
       "    </tr>\n",
       "    <tr>\n",
       "      <th>...</th>\n",
       "      <td>...</td>\n",
       "      <td>...</td>\n",
       "    </tr>\n",
       "    <tr>\n",
       "      <th>562127</th>\n",
       "      <td>高桥一生</td>\n",
       "      <td>40701</td>\n",
       "    </tr>\n",
       "    <tr>\n",
       "      <th>562128</th>\n",
       "      <td>高桥一生</td>\n",
       "      <td>15080</td>\n",
       "    </tr>\n",
       "    <tr>\n",
       "      <th>562129</th>\n",
       "      <td>高桥一生</td>\n",
       "      <td>393</td>\n",
       "    </tr>\n",
       "    <tr>\n",
       "      <th>562130</th>\n",
       "      <td>강계열</td>\n",
       "      <td>306598</td>\n",
       "    </tr>\n",
       "    <tr>\n",
       "      <th>562131</th>\n",
       "      <td>조병만</td>\n",
       "      <td>306598</td>\n",
       "    </tr>\n",
       "  </tbody>\n",
       "</table>\n",
       "<p>562132 rows × 2 columns</p>\n",
       "</div>"
      ],
      "text/plain": [
       "                     name  movie_id\n",
       "0       \\tCheung Chi-Sing     17082\n",
       "1       \\tDouglas Hegdahl     56235\n",
       "2           \\tRobert Osth     39867\n",
       "3              \\tYip Chun     32151\n",
       "4              \\tYip Chun     41387\n",
       "...                   ...       ...\n",
       "562127               高桥一生     40701\n",
       "562128               高桥一生     15080\n",
       "562129               高桥一生       393\n",
       "562130                강계열    306598\n",
       "562131                조병만    306598\n",
       "\n",
       "[562132 rows x 2 columns]"
      ]
     },
     "execution_count": 432,
     "metadata": {},
     "output_type": "execute_result"
    }
   ],
   "source": [
    "ResultadoCastActores"
   ]
  },
  {
   "cell_type": "markdown",
   "metadata": {},
   "source": [
    "Al haber inconvenientes con los nombres de los actores, se debe realizar una normalización de texto."
   ]
  },
  {
   "cell_type": "code",
   "execution_count": 433,
   "metadata": {},
   "outputs": [
    {
     "name": "stdout",
     "output_type": "stream",
     "text": [
      "                   name  movie_id\n",
      "0        Cheung ChiSing     17082\n",
      "1       Douglas Hegdahl     56235\n",
      "2           Robert Osth     39867\n",
      "3              Yip Chun     32151\n",
      "4              Yip Chun     41387\n",
      "...                 ...       ...\n",
      "562127                      40701\n",
      "562128                      15080\n",
      "562129                        393\n",
      "562130                     306598\n",
      "562131                     306598\n",
      "\n",
      "[562132 rows x 2 columns]\n"
     ]
    }
   ],
   "source": [
    "# Paso 1: Eliminar caracteres de tabulación y espacios\n",
    "ResultadoCastActores['name'] = ResultadoCastActores['name'].str.strip()\n",
    "\n",
    "# Paso 2: Decodificar caracteres extraños\n",
    "# Aquí se asume que los caracteres extraños son resultado de una mala codificación.\n",
    "# Utilizaremos 'utf-8' como base, pero puedes ajustarlo si es necesario.\n",
    "ResultadoCastActores['name'] = ResultadoCastActores['name'].str.strip()\n",
    "ResultadoCastActores['name'] = ResultadoCastActores['name'].str.encode('utf-8', errors='replace').str.decode('utf-8', errors='replace')\n",
    "\n",
    "# Paso 3: Reemplazar caracteres no deseados (si es necesario)\n",
    "# También puedes usar una expresión regular para eliminar cualquier tipo de comillas\n",
    "ResultadoCastActores['name'] = ResultadoCastActores['name'].str.replace(r\"[\\\"']+\", '', regex=True)\n",
    "ResultadoCastActores['name'] = ResultadoCastActores['name'].str.replace(r'[^a-zA-Z0-9\\s]', '', regex=True)\n",
    "\n",
    "\n",
    "# Mostrar el DataFrame limpio\n",
    "print(ResultadoCastActores)"
   ]
  },
  {
   "cell_type": "markdown",
   "metadata": {},
   "source": [
    "Guarda de Archivos función get actores"
   ]
  },
  {
   "cell_type": "markdown",
   "metadata": {},
   "source": [
    "# CSV  ResultadoCastActores  + ListaActores + FuncionActor"
   ]
  },
  {
   "cell_type": "code",
   "execution_count": 434,
   "metadata": {},
   "outputs": [],
   "source": [
    "ResultadoCastActores.to_csv('datasets\\\\ResultadoCastActores.csv', index=False)  "
   ]
  },
  {
   "cell_type": "code",
   "execution_count": 435,
   "metadata": {},
   "outputs": [
    {
     "name": "stdout",
     "output_type": "stream",
     "text": [
      "Numero de IDs de pelicula unicos: 43018\n"
     ]
    }
   ],
   "source": [
    "# CHECK en CAST desanidado y listo para hacer joins con Movies\n",
    "distintos_id = ResultadoCastActores[\"movie_id\"].unique()\n",
    "cantidad_id_distintos = len(distintos_id)\n",
    "print(\"Numero de IDs de pelicula unicos:\", cantidad_id_distintos)"
   ]
  },
  {
   "cell_type": "code",
   "execution_count": 436,
   "metadata": {},
   "outputs": [
    {
     "name": "stdout",
     "output_type": "stream",
     "text": [
      "Numero de IDs de pelicula unicos: 45349\n"
     ]
    }
   ],
   "source": [
    "# CHECK en MOVIES para corroborar tener posibles matches, parece que hay peliculas sin datos de actores\n",
    "distintos_id = Movies[\"id\"].unique()\n",
    "cantidad_id_distintos = len(distintos_id)\n",
    "print(\"Numero de IDs de pelicula unicos:\", cantidad_id_distintos)"
   ]
  },
  {
   "cell_type": "markdown",
   "metadata": {},
   "source": [
    "Considero que está lista la desanidación de la columna cast del archivo Credits.csv para la consulta que se necesita realizar en la función 5. Ahora voy a dejar un dataframe apropiado de Movies para hacer eficiente la consulta"
   ]
  },
  {
   "cell_type": "code",
   "execution_count": 437,
   "metadata": {},
   "outputs": [
    {
     "data": {
      "text/plain": [
       "Index(['belongs_to_collection', 'budget', 'genres', 'id', 'original_language',\n",
       "       'overview', 'popularity', 'production_companies',\n",
       "       'production_countries', 'release_date', 'revenue', 'runtime',\n",
       "       'spoken_languages', 'status', 'tagline', 'title', 'vote_average',\n",
       "       'vote_count', 'release_year', 'return'],\n",
       "      dtype='object')"
      ]
     },
     "execution_count": 437,
     "metadata": {},
     "output_type": "execute_result"
    }
   ],
   "source": [
    "Movies.columns"
   ]
  },
  {
   "cell_type": "code",
   "execution_count": 438,
   "metadata": {},
   "outputs": [
    {
     "name": "stdout",
     "output_type": "stream",
     "text": [
      "<class 'pandas.core.frame.DataFrame'>\n",
      "Index: 45366 entries, 0 to 45465\n",
      "Data columns (total 2 columns):\n",
      " #   Column  Non-Null Count  Dtype  \n",
      "---  ------  --------------  -----  \n",
      " 0   id      45366 non-null  object \n",
      " 1   return  45366 non-null  float64\n",
      "dtypes: float64(1), object(1)\n",
      "memory usage: 2.0+ MB\n"
     ]
    }
   ],
   "source": [
    "#•Se ingresa el nombre de un actor debiendo devolver su retorno, la cantidad de películas que en las que ha participado y el promedio de retorno.\n",
    "#def get_actor( nombre_actor )\n",
    "FuncionActor = Movies[[\"id\",\"return\"]]   #id para matchear con las peliculas en las que actuó, y return para medir su éxito y luego promediar en base a la cantidad de peliculas\n",
    "FuncionActor.info()"
   ]
  },
  {
   "cell_type": "code",
   "execution_count": 439,
   "metadata": {},
   "outputs": [
    {
     "name": "stderr",
     "output_type": "stream",
     "text": [
      "C:\\Users\\Aleja\\AppData\\Local\\Temp\\ipykernel_8204\\4129645012.py:1: FutureWarning: A value is trying to be set on a copy of a DataFrame or Series through chained assignment using an inplace method.\n",
      "The behavior will change in pandas 3.0. This inplace method will never work because the intermediate object on which we are setting values always behaves as a copy.\n",
      "\n",
      "For example, when doing 'df[col].method(value, inplace=True)', try using 'df.method({col: value}, inplace=True)' or df[col] = df[col].method(value) instead, to perform the operation inplace on the original object.\n",
      "\n",
      "\n",
      "  FuncionActor[\"return\"].fillna(0, inplace=True)\n",
      "C:\\Users\\Aleja\\AppData\\Local\\Temp\\ipykernel_8204\\4129645012.py:1: SettingWithCopyWarning: \n",
      "A value is trying to be set on a copy of a slice from a DataFrame\n",
      "\n",
      "See the caveats in the documentation: https://pandas.pydata.org/pandas-docs/stable/user_guide/indexing.html#returning-a-view-versus-a-copy\n",
      "  FuncionActor[\"return\"].fillna(0, inplace=True)\n"
     ]
    }
   ],
   "source": [
    "FuncionActor[\"return\"].fillna(0, inplace=True)"
   ]
  },
  {
   "cell_type": "code",
   "execution_count": 440,
   "metadata": {},
   "outputs": [
    {
     "name": "stdout",
     "output_type": "stream",
     "text": [
      "1997-08-20\n",
      "2012-09-29\n",
      "2014-01-01\n"
     ]
    }
   ],
   "source": [
    "for i in FuncionActor[\"id\"]:   #No hay 1 millón de actores, por lo que el id no supera los 6 dígitos, aquí encontré outliers.\n",
    "    if len(i) >6:\n",
    "        print(i)"
   ]
  },
  {
   "cell_type": "code",
   "execution_count": 441,
   "metadata": {},
   "outputs": [],
   "source": [
    "FuncionActor = FuncionActor[FuncionActor[\"id\"].str.len() <= 6]   #Elimino los outliers."
   ]
  },
  {
   "cell_type": "code",
   "execution_count": 442,
   "metadata": {},
   "outputs": [],
   "source": [
    "FuncionActor[\"id\"] = FuncionActor[\"id\"].astype(int)     #Cambio el tipo."
   ]
  },
  {
   "cell_type": "markdown",
   "metadata": {},
   "source": [
    "Guardo Archivos función get actor"
   ]
  },
  {
   "cell_type": "code",
   "execution_count": 443,
   "metadata": {},
   "outputs": [],
   "source": [
    "FuncionActor.to_csv('datasets\\\\FuncionActor.csv',index=False)  "
   ]
  },
  {
   "cell_type": "markdown",
   "metadata": {},
   "source": [
    "Defino una función adicional para consultas sobre el listado de actores y poder utilizar la función anterior"
   ]
  },
  {
   "cell_type": "code",
   "execution_count": 444,
   "metadata": {},
   "outputs": [],
   "source": [
    "Lista_Actores = ResultadoCastActores[\"name\"]"
   ]
  },
  {
   "cell_type": "code",
   "execution_count": 445,
   "metadata": {},
   "outputs": [],
   "source": [
    "Lista_Actores.drop_duplicates(inplace=True)"
   ]
  },
  {
   "cell_type": "code",
   "execution_count": 446,
   "metadata": {},
   "outputs": [],
   "source": [
    "Lista_Actores.to_csv(\"datasets\\\\ListaActores.csv\", index=False)"
   ]
  },
  {
   "cell_type": "markdown",
   "metadata": {},
   "source": [
    "Definir función 6 --> get director"
   ]
  },
  {
   "cell_type": "code",
   "execution_count": 447,
   "metadata": {},
   "outputs": [],
   "source": [
    "#•\tdef get_director( nombre_director ): Se ingresa el nombre de un director que se encuentre dentro de un dataset\n",
    "#  debiendo devolver el éxito del mismo medido a través del retorno. Además, deberá devolver el nombre de cada película con la fecha de lanzamiento, retorno individual, costo y ganancia de la misma."
   ]
  },
  {
   "cell_type": "code",
   "execution_count": 448,
   "metadata": {},
   "outputs": [
    {
     "data": {
      "text/plain": [
       "'[{\\'credit_id\\': \\'52fe4284c3a36847f8024f49\\', \\'department\\': \\'Directing\\', \\'gender\\': 2, \\'id\\': 7879, \\'job\\': \\'Director\\', \\'name\\': \\'John Lasseter\\', \\'profile_path\\': \\'/7EdqiNbr4FRjIhKHyPPdFfEEEFG.jpg\\'}, {\\'credit_id\\': \\'52fe4284c3a36847f8024f4f\\', \\'department\\': \\'Writing\\', \\'gender\\': 2, \\'id\\': 12891, \\'job\\': \\'Screenplay\\', \\'name\\': \\'Joss Whedon\\', \\'profile_path\\': \\'/dTiVsuaTVTeGmvkhcyJvKp2A5kr.jpg\\'}, {\\'credit_id\\': \\'52fe4284c3a36847f8024f55\\', \\'department\\': \\'Writing\\', \\'gender\\': 2, \\'id\\': 7, \\'job\\': \\'Screenplay\\', \\'name\\': \\'Andrew Stanton\\', \\'profile_path\\': \\'/pvQWsu0qc8JFQhMVJkTHuexUAa1.jpg\\'}, {\\'credit_id\\': \\'52fe4284c3a36847f8024f5b\\', \\'department\\': \\'Writing\\', \\'gender\\': 2, \\'id\\': 12892, \\'job\\': \\'Screenplay\\', \\'name\\': \\'Joel Cohen\\', \\'profile_path\\': \\'/dAubAiZcvKFbboWlj7oXOkZnTSu.jpg\\'}, {\\'credit_id\\': \\'52fe4284c3a36847f8024f61\\', \\'department\\': \\'Writing\\', \\'gender\\': 0, \\'id\\': 12893, \\'job\\': \\'Screenplay\\', \\'name\\': \\'Alec Sokolow\\', \\'profile_path\\': \\'/v79vlRYi94BZUQnkkyznbGUZLjT.jpg\\'}, {\\'credit_id\\': \\'52fe4284c3a36847f8024f67\\', \\'department\\': \\'Production\\', \\'gender\\': 1, \\'id\\': 12894, \\'job\\': \\'Producer\\', \\'name\\': \\'Bonnie Arnold\\', \\'profile_path\\': None}, {\\'credit_id\\': \\'52fe4284c3a36847f8024f6d\\', \\'department\\': \\'Production\\', \\'gender\\': 0, \\'id\\': 12895, \\'job\\': \\'Executive Producer\\', \\'name\\': \\'Ed Catmull\\', \\'profile_path\\': None}, {\\'credit_id\\': \\'52fe4284c3a36847f8024f73\\', \\'department\\': \\'Production\\', \\'gender\\': 2, \\'id\\': 12896, \\'job\\': \\'Producer\\', \\'name\\': \\'Ralph Guggenheim\\', \\'profile_path\\': None}, {\\'credit_id\\': \\'52fe4284c3a36847f8024f79\\', \\'department\\': \\'Production\\', \\'gender\\': 2, \\'id\\': 12897, \\'job\\': \\'Executive Producer\\', \\'name\\': \\'Steve Jobs\\', \\'profile_path\\': \\'/mOMP3SwD5qWQSR0ldCIByd3guTV.jpg\\'}, {\\'credit_id\\': \\'52fe4284c3a36847f8024f8b\\', \\'department\\': \\'Editing\\', \\'gender\\': 2, \\'id\\': 8, \\'job\\': \\'Editor\\', \\'name\\': \\'Lee Unkrich\\', \\'profile_path\\': \\'/bdTCCXjgOV3YyaNmLGYGOxFQMOc.jpg\\'}, {\\'credit_id\\': \\'52fe4284c3a36847f8024f91\\', \\'department\\': \\'Art\\', \\'gender\\': 2, \\'id\\': 7883, \\'job\\': \\'Art Direction\\', \\'name\\': \\'Ralph Eggleston\\', \\'profile_path\\': \\'/uUfcGKDsKO1aROMpXRs67Hn6RvR.jpg\\'}, {\\'credit_id\\': \\'598331bf925141421201044b\\', \\'department\\': \\'Editing\\', \\'gender\\': 2, \\'id\\': 1168870, \\'job\\': \\'Editor\\', \\'name\\': \\'Robert Gordon\\', \\'profile_path\\': None}, {\\'credit_id\\': \\'5892168cc3a36809660095f9\\', \\'department\\': \\'Sound\\', \\'gender\\': 0, \\'id\\': 1552883, \\'job\\': \\'Foley Editor\\', \\'name\\': \\'Mary Helen Leasman\\', \\'profile_path\\': None}, {\\'credit_id\\': \\'5531824d9251415289000945\\', \\'department\\': \\'Visual Effects\\', \\'gender\\': 0, \\'id\\': 1453514, \\'job\\': \\'Animation\\', \\'name\\': \\'Kim Blanchette\\', \\'profile_path\\': None}, {\\'credit_id\\': \\'589215969251412dcb009bf6\\', \\'department\\': \\'Sound\\', \\'gender\\': 0, \\'id\\': 1414182, \\'job\\': \\'ADR Editor\\', \\'name\\': \\'Marilyn McCoppen\\', \\'profile_path\\': None}, {\\'credit_id\\': \\'589217099251412dc500a018\\', \\'department\\': \\'Sound\\', \\'gender\\': 2, \\'id\\': 7885, \\'job\\': \\'Orchestrator\\', \\'name\\': \\'Randy Newman\\', \\'profile_path\\': \\'/w0JzfoiM25nrnxYOzosPHRq6mlE.jpg\\'}, {\\'credit_id\\': \\'5693e6b29251417b0e0000e3\\', \\'department\\': \\'Editing\\', \\'gender\\': 0, \\'id\\': 1429549, \\'job\\': \\'Color Timer\\', \\'name\\': \\'Dale E. Grahn\\', \\'profile_path\\': None}, {\\'credit_id\\': \\'572e2522c3a36869e6001a9c\\', \\'department\\': \\'Visual Effects\\', \\'gender\\': 0, \\'id\\': 7949, \\'job\\': \\'CG Painter\\', \\'name\\': \\'Robin Cooper\\', \\'profile_path\\': None}, {\\'credit_id\\': \\'574f12309251415ca1000012\\', \\'department\\': \\'Writing\\', \\'gender\\': 2, \\'id\\': 7879, \\'job\\': \\'Original Story\\', \\'name\\': \\'John Lasseter\\', \\'profile_path\\': \\'/7EdqiNbr4FRjIhKHyPPdFfEEEFG.jpg\\'}, {\\'credit_id\\': \\'574f1240c3a3682e7300001c\\', \\'department\\': \\'Writing\\', \\'gender\\': 2, \\'id\\': 12890, \\'job\\': \\'Original Story\\', \\'name\\': \\'Pete Docter\\', \\'profile_path\\': \\'/r6ngPgnReA3RHmKjmSoVsc6Awjp.jpg\\'}, {\\'credit_id\\': \\'574f12519251415c92000015\\', \\'department\\': \\'Writing\\', \\'gender\\': 0, \\'id\\': 7911, \\'job\\': \\'Original Story\\', \\'name\\': \\'Joe Ranft\\', \\'profile_path\\': \\'/f1BoWC2JbCcfP1e5hKfGsxkHzVU.jpg\\'}, {\\'credit_id\\': \\'574f12cec3a3682e82000022\\', \\'department\\': \\'Crew\\', \\'gender\\': 0, \\'id\\': 1629419, \\'job\\': \\'Post Production Supervisor\\', \\'name\\': \\'Patsy Bouge\\', \\'profile_path\\': None}, {\\'credit_id\\': \\'574f14f19251415ca1000082\\', \\'department\\': \\'Art\\', \\'gender\\': 0, \\'id\\': 7961, \\'job\\': \\'Sculptor\\', \\'name\\': \\'Norm DeCarlo\\', \\'profile_path\\': None}, {\\'credit_id\\': \\'5751ae4bc3a3683772002b7f\\', \\'department\\': \\'Visual Effects\\', \\'gender\\': 2, \\'id\\': 12905, \\'job\\': \\'Animation Director\\', \\'name\\': \\'Ash Brannon\\', \\'profile_path\\': \\'/6ueWgPEEBHvS3De2BHYQnYjRTig.jpg\\'}, {\\'credit_id\\': \\'5891edbe9251412dc5007cd6\\', \\'department\\': \\'Sound\\', \\'gender\\': 2, \\'id\\': 7885, \\'job\\': \\'Music\\', \\'name\\': \\'Randy Newman\\', \\'profile_path\\': \\'/w0JzfoiM25nrnxYOzosPHRq6mlE.jpg\\'}, {\\'credit_id\\': \\'589213d39251412dc8009832\\', \\'department\\': \\'Directing\\', \\'gender\\': 0, \\'id\\': 1748707, \\'job\\': \\'Layout\\', \\'name\\': \\'Roman Figun\\', \\'profile_path\\': None}, {\\'credit_id\\': \\'5892173dc3a3680968009351\\', \\'department\\': \\'Sound\\', \\'gender\\': 2, \\'id\\': 4949, \\'job\\': \\'Orchestrator\\', \\'name\\': \\'Don Davis\\', \\'profile_path\\': None}, {\\'credit_id\\': \\'589217cec3a3686b0a0052ba\\', \\'department\\': \\'Sound\\', \\'gender\\': 0, \\'id\\': 1372885, \\'job\\': \\'Music Editor\\', \\'name\\': \\'James Flamberg\\', \\'profile_path\\': None}, {\\'credit_id\\': \\'58921831c3a3686348004a64\\', \\'department\\': \\'Editing\\', \\'gender\\': 0, \\'id\\': 1739962, \\'job\\': \\'Negative Cutter\\', \\'name\\': \\'Mary Beth Smith\\', \\'profile_path\\': None}, {\\'credit_id\\': \\'58921838c3a36809700096c0\\', \\'department\\': \\'Editing\\', \\'gender\\': 0, \\'id\\': 1748513, \\'job\\': \\'Negative Cutter\\', \\'name\\': \\'Rick Mackay\\', \\'profile_path\\': None}, {\\'credit_id\\': \\'589218429251412dd1009d1b\\', \\'department\\': \\'Art\\', \\'gender\\': 0, \\'id\\': 1458006, \\'job\\': \\'Title Designer\\', \\'name\\': \\'Susan Bradley\\', \\'profile_path\\': None}, {\\'credit_id\\': \\'5891ed99c3a3680966007670\\', \\'department\\': \\'Crew\\', \\'gender\\': 0, \\'id\\': 1748557, \\'job\\': \\'Supervising Technical Director\\', \\'name\\': \\'William Reeves\\', \\'profile_path\\': None}, {\\'credit_id\\': \\'5891edcec3a3686b0a002eb2\\', \\'department\\': \\'Sound\\', \\'gender\\': 2, \\'id\\': 7885, \\'job\\': \\'Songs\\', \\'name\\': \\'Randy Newman\\', \\'profile_path\\': \\'/w0JzfoiM25nrnxYOzosPHRq6mlE.jpg\\'}, {\\'credit_id\\': \\'5891edf9c3a36809700075e6\\', \\'department\\': \\'Writing\\', \\'gender\\': 2, \\'id\\': 7, \\'job\\': \\'Original Story\\', \\'name\\': \\'Andrew Stanton\\', \\'profile_path\\': \\'/pvQWsu0qc8JFQhMVJkTHuexUAa1.jpg\\'}, {\\'credit_id\\': \\'58920f0b9251412dd7009104\\', \\'department\\': \\'Crew\\', \\'gender\\': 2, \\'id\\': 12890, \\'job\\': \\'Supervising Animator\\', \\'name\\': \\'Pete Docter\\', \\'profile_path\\': \\'/r6ngPgnReA3RHmKjmSoVsc6Awjp.jpg\\'}, {\\'credit_id\\': \\'58920f1fc3a3680977009021\\', \\'department\\': \\'Sound\\', \\'gender\\': 2, \\'id\\': 2216, \\'job\\': \\'Sound Designer\\', \\'name\\': \\'Gary Rydstrom\\', \\'profile_path\\': \\'/jZpr1nVfO7lldWI0YtmP1FGw7Rj.jpg\\'}, {\\'credit_id\\': \\'58920f389251412dd700912d\\', \\'department\\': \\'Production\\', \\'gender\\': 0, \\'id\\': 12909, \\'job\\': \\'Production Supervisor\\', \\'name\\': \\'Karen Robert Jackson\\', \\'profile_path\\': None}, {\\'credit_id\\': \\'58920fbd9251412dcb00969c\\', \\'department\\': \\'Crew\\', \\'gender\\': 0, \\'id\\': 953331, \\'job\\': \\'Executive Music Producer\\', \\'name\\': \\'Chris Montan\\', \\'profile_path\\': None}, {\\'credit_id\\': \\'589210069251412dd7009219\\', \\'department\\': \\'Visual Effects\\', \\'gender\\': 0, \\'id\\': 7893, \\'job\\': \\'Animation Director\\', \\'name\\': \\'Rich Quade\\', \\'profile_path\\': None}, {\\'credit_id\\': \\'589210329251412dcd00943b\\', \\'department\\': \\'Visual Effects\\', \\'gender\\': 0, \\'id\\': 8025, \\'job\\': \\'Animation\\', \\'name\\': \\'Michael Berenstein\\', \\'profile_path\\': None}, {\\'credit_id\\': \\'5892103bc3a368096a009180\\', \\'department\\': \\'Visual Effects\\', \\'gender\\': 0, \\'id\\': 78009, \\'job\\': \\'Animation\\', \\'name\\': \\'Colin Brady\\', \\'profile_path\\': None}, {\\'credit_id\\': \\'5892105dc3a3680968008db2\\', \\'department\\': \\'Visual Effects\\', \\'gender\\': 0, \\'id\\': 1748682, \\'job\\': \\'Animation\\', \\'name\\': \\'Davey Crockett Feiten\\', \\'profile_path\\': None}, {\\'credit_id\\': \\'589210669251412dcd009466\\', \\'department\\': \\'Visual Effects\\', \\'gender\\': 0, \\'id\\': 1454030, \\'job\\': \\'Animation\\', \\'name\\': \\'Angie Glocka\\', \\'profile_path\\': None}, {\\'credit_id\\': \\'5892107c9251412dd1009613\\', \\'department\\': \\'Visual Effects\\', \\'gender\\': 0, \\'id\\': 1748683, \\'job\\': \\'Animation\\', \\'name\\': \\'Rex Grignon\\', \\'profile_path\\': None}, {\\'credit_id\\': \\'5892108ac3a3680973008d3f\\', \\'department\\': \\'Visual Effects\\', \\'gender\\': 0, \\'id\\': 1748684, \\'job\\': \\'Animation\\', \\'name\\': \\'Tom K. Gurney\\', \\'profile_path\\': None}, {\\'credit_id\\': \\'58921093c3a3686348004477\\', \\'department\\': \\'Visual Effects\\', \\'gender\\': 2, \\'id\\': 8029, \\'job\\': \\'Animation\\', \\'name\\': \\'Jimmy Hayward\\', \\'profile_path\\': \\'/lTDRpudEY7BDwTefXbXzMlmb0ui.jpg\\'}, {\\'credit_id\\': \\'5892109b9251412dcd0094b0\\', \\'department\\': \\'Visual Effects\\', \\'gender\\': 0, \\'id\\': 1426773, \\'job\\': \\'Animation\\', \\'name\\': \\'Hal T. Hickel\\', \\'profile_path\\': None}, {\\'credit_id\\': \\'589210a29251412dc5009a29\\', \\'department\\': \\'Visual Effects\\', \\'gender\\': 0, \\'id\\': 8035, \\'job\\': \\'Animation\\', \\'name\\': \\'Karen Kiser\\', \\'profile_path\\': None}, {\\'credit_id\\': \\'589210ccc3a3680977009191\\', \\'department\\': \\'Visual Effects\\', \\'gender\\': 0, \\'id\\': 1748688, \\'job\\': \\'Animation\\', \\'name\\': \\'Anthony B. LaMolinara\\', \\'profile_path\\': None}, {\\'credit_id\\': \\'589210d7c3a3686b0a004c1f\\', \\'department\\': \\'Visual Effects\\', \\'gender\\': 0, \\'id\\': 587314, \\'job\\': \\'Animation\\', \\'name\\': \\'Guionne Leroy\\', \\'profile_path\\': None}, {\\'credit_id\\': \\'589210e1c3a36809770091a7\\', \\'department\\': \\'Visual Effects\\', \\'gender\\': 2, \\'id\\': 7918, \\'job\\': \\'Animation\\', \\'name\\': \\'Bud Luckey\\', \\'profile_path\\': \\'/pcCh7G19FKMNijmPQg1PMH1btic.jpg\\'}, {\\'credit_id\\': \\'589210ee9251412dc200978a\\', \\'department\\': \\'Visual Effects\\', \\'gender\\': 0, \\'id\\': 1748689, \\'job\\': \\'Animation\\', \\'name\\': \\'Les Major\\', \\'profile_path\\': None}, {\\'credit_id\\': \\'589210fa9251412dc8009595\\', \\'department\\': \\'Visual Effects\\', \\'gender\\': 2, \\'id\\': 7892, \\'job\\': \\'Animation\\', \\'name\\': \\'Glenn McQueen\\', \\'profile_path\\': None}, {\\'credit_id\\': \\'589211029251412dc8009598\\', \\'department\\': \\'Visual Effects\\', \\'gender\\': 0, \\'id\\': 555795, \\'job\\': \\'Animation\\', \\'name\\': \\'Mark Oftedal\\', \\'profile_path\\': None}, {\\'credit_id\\': \\'5892110b9251412dc800959d\\', \\'department\\': \\'Visual Effects\\', \\'gender\\': 2, \\'id\\': 7882, \\'job\\': \\'Animation\\', \\'name\\': \\'Jeff Pidgeon\\', \\'profile_path\\': \\'/yLddkg5HcgbJg00cS13GVBnP0HY.jpg\\'}, {\\'credit_id\\': \\'58921113c3a36863480044e4\\', \\'department\\': \\'Visual Effects\\', \\'gender\\': 0, \\'id\\': 8017, \\'job\\': \\'Animation\\', \\'name\\': \\'Jeff Pratt\\', \\'profile_path\\': None}, {\\'credit_id\\': \\'5892111c9251412dcb0097e9\\', \\'department\\': \\'Visual Effects\\', \\'gender\\': 0, \\'id\\': 1184140, \\'job\\': \\'Animation\\', \\'name\\': \\'Steve Rabatich\\', \\'profile_path\\': None}, {\\'credit_id\\': \\'58921123c3a36809700090f6\\', \\'department\\': \\'Visual Effects\\', \\'gender\\': 0, \\'id\\': 8049, \\'job\\': \\'Animation\\', \\'name\\': \\'Roger Rose\\', \\'profile_path\\': None}, {\\'credit_id\\': \\'5892112b9251412dcb0097fb\\', \\'department\\': \\'Visual Effects\\', \\'gender\\': 0, \\'id\\': 1509559, \\'job\\': \\'Animation\\', \\'name\\': \\'Steve Segal\\', \\'profile_path\\': None}, {\\'credit_id\\': \\'589211349251412dc80095c3\\', \\'department\\': \\'Visual Effects\\', \\'gender\\': 0, \\'id\\': 1748691, \\'job\\': \\'Animation\\', \\'name\\': \\'Doug Sheppeck\\', \\'profile_path\\': None}, {\\'credit_id\\': \\'5892113cc3a3680970009106\\', \\'department\\': \\'Visual Effects\\', \\'gender\\': 0, \\'id\\': 8050, \\'job\\': \\'Animation\\', \\'name\\': \\'Alan Sperling\\', \\'profile_path\\': None}, {\\'credit_id\\': \\'58921148c3a3686b0a004c99\\', \\'department\\': \\'Visual Effects\\', \\'gender\\': 0, \\'id\\': 8010, \\'job\\': \\'Animation\\', \\'name\\': \\'Doug Sweetland\\', \\'profile_path\\': None}, {\\'credit_id\\': \\'58921150c3a3680966009125\\', \\'department\\': \\'Visual Effects\\', \\'gender\\': 0, \\'id\\': 8044, \\'job\\': \\'Animation\\', \\'name\\': \\'David Tart\\', \\'profile_path\\': None}, {\\'credit_id\\': \\'589211629251412dc5009b00\\', \\'department\\': \\'Visual Effects\\', \\'gender\\': 0, \\'id\\': 1454034, \\'job\\': \\'Animation\\', \\'name\\': \\'Ken Willard\\', \\'profile_path\\': None}, {\\'credit_id\\': \\'589211c1c3a3686b0a004d28\\', \\'department\\': \\'Visual Effects\\', \\'gender\\': 0, \\'id\\': 7887, \\'job\\': \\'Visual Effects Supervisor\\', \\'name\\': \\'Thomas Porter\\', \\'profile_path\\': None}, {\\'credit_id\\': \\'589211d4c3a3680968008ed9\\', \\'department\\': \\'Visual Effects\\', \\'gender\\': 0, \\'id\\': 1406878, \\'job\\': \\'Visual Effects\\', \\'name\\': \\'Mark Thomas Henne\\', \\'profile_path\\': None}, {\\'credit_id\\': \\'589211f59251412dd4008e65\\', \\'department\\': \\'Visual Effects\\', \\'gender\\': 0, \\'id\\': 1748698, \\'job\\': \\'Visual Effects\\', \\'name\\': \\'Oren Jacob\\', \\'profile_path\\': None}, {\\'credit_id\\': \\'58921242c3a368096a00939b\\', \\'department\\': \\'Visual Effects\\', \\'gender\\': 0, \\'id\\': 1748699, \\'job\\': \\'Visual Effects\\', \\'name\\': \\'Darwyn Peachey\\', \\'profile_path\\': None}, {\\'credit_id\\': \\'5892124b9251412dc5009bd2\\', \\'department\\': \\'Visual Effects\\', \\'gender\\': 0, \\'id\\': 1748701, \\'job\\': \\'Visual Effects\\', \\'name\\': \\'Mitch Prater\\', \\'profile_path\\': None}, {\\'credit_id\\': \\'58921264c3a3686b0a004dbf\\', \\'department\\': \\'Visual Effects\\', \\'gender\\': 0, \\'id\\': 1748703, \\'job\\': \\'Visual Effects\\', \\'name\\': \\'Brian M. Rosen\\', \\'profile_path\\': None}, {\\'credit_id\\': \\'589212709251412dcd009676\\', \\'department\\': \\'Lighting\\', \\'gender\\': 1, \\'id\\': 12912, \\'job\\': \\'Lighting Supervisor\\', \\'name\\': \\'Sharon Calahan\\', \\'profile_path\\': None}, {\\'credit_id\\': \\'5892127fc3a3686b0a004de5\\', \\'department\\': \\'Lighting\\', \\'gender\\': 0, \\'id\\': 7899, \\'job\\': \\'Lighting Supervisor\\', \\'name\\': \\'Galyn Susman\\', \\'profile_path\\': None}, {\\'credit_id\\': \\'589212cdc3a3680970009268\\', \\'department\\': \\'Visual Effects\\', \\'gender\\': 0, \\'id\\': 12915, \\'job\\': \\'CG Painter\\', \\'name\\': \\'William Cone\\', \\'profile_path\\': None}, {\\'credit_id\\': \\'5892130f9251412dc8009791\\', \\'department\\': \\'Art\\', \\'gender\\': 0, \\'id\\': 1748705, \\'job\\': \\'Sculptor\\', \\'name\\': \\'Shelley Daniels Lekven\\', \\'profile_path\\': None}, {\\'credit_id\\': \\'5892131c9251412dd4008f4c\\', \\'department\\': \\'Visual Effects\\', \\'gender\\': 2, \\'id\\': 7889, \\'job\\': \\'Character Designer\\', \\'name\\': \\'Bob Pauley\\', \\'profile_path\\': None}, {\\'credit_id\\': \\'589213249251412dd100987b\\', \\'department\\': \\'Visual Effects\\', \\'gender\\': 2, \\'id\\': 7918, \\'job\\': \\'Character Designer\\', \\'name\\': \\'Bud Luckey\\', \\'profile_path\\': \\'/pcCh7G19FKMNijmPQg1PMH1btic.jpg\\'}, {\\'credit_id\\': \\'5892132b9251412dc80097b1\\', \\'department\\': \\'Visual Effects\\', \\'gender\\': 2, \\'id\\': 7, \\'job\\': \\'Character Designer\\', \\'name\\': \\'Andrew Stanton\\', \\'profile_path\\': \\'/pvQWsu0qc8JFQhMVJkTHuexUAa1.jpg\\'}, {\\'credit_id\\': \\'58921332c3a368634800467b\\', \\'department\\': \\'Visual Effects\\', \\'gender\\': 0, \\'id\\': 12915, \\'job\\': \\'Character Designer\\', \\'name\\': \\'William Cone\\', \\'profile_path\\': None}, {\\'credit_id\\': \\'5892135f9251412dd4008f90\\', \\'department\\': \\'Visual Effects\\', \\'gender\\': 0, \\'id\\': 1748706, \\'job\\': \\'Character Designer\\', \\'name\\': \\'Steve Johnson\\', \\'profile_path\\': None}, {\\'credit_id\\': \\'58921384c3a3680973008fd4\\', \\'department\\': \\'Visual Effects\\', \\'gender\\': 0, \\'id\\': 1176752, \\'job\\': \\'Character Designer\\', \\'name\\': \\'Dan Haskett\\', \\'profile_path\\': None}, {\\'credit_id\\': \\'5892138e9251412dc20099fc\\', \\'department\\': \\'Visual Effects\\', \\'gender\\': 0, \\'id\\': 1088034, \\'job\\': \\'Character Designer\\', \\'name\\': \\'Tom Holloway\\', \\'profile_path\\': \\'/a0r0T2usTBpgMI5aZbRBDW1fTl8.jpg\\'}, {\\'credit_id\\': \\'58921395c3a368097700942f\\', \\'department\\': \\'Visual Effects\\', \\'gender\\': 0, \\'id\\': 1447465, \\'job\\': \\'Character Designer\\', \\'name\\': \\'Jean Gillmore\\', \\'profile_path\\': None}, {\\'credit_id\\': \\'589213e2c3a3680973009026\\', \\'department\\': \\'Directing\\', \\'gender\\': 0, \\'id\\': 1748709, \\'job\\': \\'Layout\\', \\'name\\': \\'Desirée Mourad\\', \\'profile_path\\': None}, {\\'credit_id\\': \\'589214099251412dc5009d57\\', \\'department\\': \\'Art\\', \\'gender\\': 0, \\'id\\': 1748710, \\'job\\': \\'Set Dresser\\', \\'name\\': \"Kelly O\\'Connell\", \\'profile_path\\': None}, {\\'credit_id\\': \\'58921411c3a3686b0a004f70\\', \\'department\\': \\'Art\\', \\'gender\\': 0, \\'id\\': 1443471, \\'job\\': \\'Set Dresser\\', \\'name\\': \\'Sonoko Konishi\\', \\'profile_path\\': None}, {\\'credit_id\\': \\'58921434c3a368096a00956e\\', \\'department\\': \\'Art\\', \\'gender\\': 0, \\'id\\': 1748711, \\'job\\': \\'Set Dresser\\', \\'name\\': \\'Ann M. Rockwell\\', \\'profile_path\\': None}, {\\'credit_id\\': \\'5892144ac3a36809680090de\\', \\'department\\': \\'Editing\\', \\'gender\\': 0, \\'id\\': 1748712, \\'job\\': \\'Editorial Manager\\', \\'name\\': \\'Julie M. McDonald\\', \\'profile_path\\': None}, {\\'credit_id\\': \\'58921479c3a368096800910f\\', \\'department\\': \\'Editing\\', \\'gender\\': 0, \\'id\\': 1589729, \\'job\\': \\'Assistant Editor\\', \\'name\\': \\'Robin Lee\\', \\'profile_path\\': None}, {\\'credit_id\\': \\'5892148b9251412dd10099cc\\', \\'department\\': \\'Editing\\', \\'gender\\': 0, \\'id\\': 1748716, \\'job\\': \\'Assistant Editor\\', \\'name\\': \\'Tom Freeman\\', \\'profile_path\\': None}, {\\'credit_id\\': \\'589214959251412dcb009b1f\\', \\'department\\': \\'Editing\\', \\'gender\\': 0, \\'id\\': 1748717, \\'job\\': \\'Assistant Editor\\', \\'name\\': \\'Ada Cochavi\\', \\'profile_path\\': None}, {\\'credit_id\\': \\'5892149ec3a3686348004798\\', \\'department\\': \\'Editing\\', \\'gender\\': 0, \\'id\\': 1336438, \\'job\\': \\'Assistant Editor\\', \\'name\\': \\'Dana Mulligan\\', \\'profile_path\\': None}, {\\'credit_id\\': \\'589214adc3a368096a0095db\\', \\'department\\': \\'Editing\\', \\'gender\\': 0, \\'id\\': 1748718, \\'job\\': \\'Editorial Coordinator\\', \\'name\\': \\'Deirdre Morrison\\', \\'profile_path\\': None}, {\\'credit_id\\': \\'589214c7c3a368097700952b\\', \\'department\\': \\'Production\\', \\'gender\\': 0, \\'id\\': 1748719, \\'job\\': \\'Production Coordinator\\', \\'name\\': \\'Lori Lombardo\\', \\'profile_path\\': None}, {\\'credit_id\\': \\'589214cec3a368096a009603\\', \\'department\\': \\'Production\\', \\'gender\\': 0, \\'id\\': 1748720, \\'job\\': \\'Production Coordinator\\', \\'name\\': \\'Ellen Devine\\', \\'profile_path\\': None}, {\\'credit_id\\': \\'589214e39251412dc8009904\\', \\'department\\': \\'Crew\\', \\'gender\\': 0, \\'id\\': 1468014, \\'job\\': \\'Unit Publicist\\', \\'name\\': \\'Lauren Beth Strogoff\\', \\'profile_path\\': None}, {\\'credit_id\\': \\'58921544c3a3686b0a00507d\\', \\'department\\': \\'Sound\\', \\'gender\\': 2, \\'id\\': 2216, \\'job\\': \\'Sound Re-Recording Mixer\\', \\'name\\': \\'Gary Rydstrom\\', \\'profile_path\\': \\'/jZpr1nVfO7lldWI0YtmP1FGw7Rj.jpg\\'}, {\\'credit_id\\': \\'5892154c9251412dd1009a56\\', \\'department\\': \\'Sound\\', \\'gender\\': 0, \\'id\\': 1425978, \\'job\\': \\'Sound Re-Recording Mixer\\', \\'name\\': \\'Gary Summers\\', \\'profile_path\\': None}, {\\'credit_id\\': \\'58921555c3a36809680091bd\\', \\'department\\': \\'Sound\\', \\'gender\\': 2, \\'id\\': 8276, \\'job\\': \\'Supervising Sound Editor\\', \\'name\\': \\'Tim Holland\\', \\'profile_path\\': None}, {\\'credit_id\\': \\'589215c39251412dcb009c12\\', \\'department\\': \\'Sound\\', \\'gender\\': 0, \\'id\\': 7069, \\'job\\': \\'Sound Effects Editor\\', \\'name\\': \\'Pat Jackson\\', \\'profile_path\\': None}, {\\'credit_id\\': \\'58921698c3a368096a009788\\', \\'department\\': \\'Crew\\', \\'gender\\': 2, \\'id\\': 15894, \\'job\\': \\'Sound Design Assistant\\', \\'name\\': \\'Tom Myers\\', \\'profile_path\\': None}, {\\'credit_id\\': \\'589216a89251412dc2009ca4\\', \\'department\\': \\'Sound\\', \\'gender\\': 0, \\'id\\': 1414177, \\'job\\': \\'Assistant Sound Editor\\', \\'name\\': \\'J.R. Grubbs\\', \\'profile_path\\': None}, {\\'credit_id\\': \\'589216c19251412dc2009cb9\\', \\'department\\': \\'Sound\\', \\'gender\\': 1, \\'id\\': 1748724, \\'job\\': \\'Assistant Sound Editor\\', \\'name\\': \\'Susan Sanford\\', \\'profile_path\\': None}, {\\'credit_id\\': \\'589216ccc3a3680973009274\\', \\'department\\': \\'Sound\\', \\'gender\\': 0, \\'id\\': 1748725, \\'job\\': \\'Assistant Sound Editor\\', \\'name\\': \\'Susan Popovic\\', \\'profile_path\\': None}, {\\'credit_id\\': \\'589216d79251412dc8009aa0\\', \\'department\\': \\'Sound\\', \\'gender\\': 0, \\'id\\': 8067, \\'job\\': \\'Assistant Sound Editor\\', \\'name\\': \\'Dan Engstrom\\', \\'profile_path\\': None}, {\\'credit_id\\': \\'589216e49251412dcd009a4f\\', \\'department\\': \\'Production\\', \\'gender\\': 1, \\'id\\': 7902, \\'job\\': \\'Casting Consultant\\', \\'name\\': \\'Ruth Lambert\\', \\'profile_path\\': None}, {\\'credit_id\\': \\'589216f39251412dc2009cf3\\', \\'department\\': \\'Production\\', \\'gender\\': 0, \\'id\\': 84493, \\'job\\': \\'ADR Voice Casting\\', \\'name\\': \\'Mickie McGowan\\', \\'profile_path\\': \\'/k7TjJBfINsg8vLQxJwos6XObAD6.jpg\\'}]'"
      ]
     },
     "execution_count": 448,
     "metadata": {},
     "output_type": "execute_result"
    }
   ],
   "source": [
    "Credits[\"crew\"][0] #Check donde está el dato de director"
   ]
  },
  {
   "cell_type": "code",
   "execution_count": 449,
   "metadata": {},
   "outputs": [
    {
     "name": "stdout",
     "output_type": "stream",
     "text": [
      "                  credit_id department  gender       id         job  \\\n",
      "0  52fe4284c3a36847f8024f49  Directing     2.0   7879.0    Director   \n",
      "1  52fe4284c3a36847f8024f4f    Writing     2.0  12891.0  Screenplay   \n",
      "2  52fe4284c3a36847f8024f55    Writing     2.0      7.0  Screenplay   \n",
      "3  52fe4284c3a36847f8024f5b    Writing     2.0  12892.0  Screenplay   \n",
      "4  52fe4284c3a36847f8024f61    Writing     0.0  12893.0  Screenplay   \n",
      "\n",
      "             name                      profile_path  movie_id  \n",
      "0   John Lasseter  /7EdqiNbr4FRjIhKHyPPdFfEEEFG.jpg       862  \n",
      "1     Joss Whedon  /dTiVsuaTVTeGmvkhcyJvKp2A5kr.jpg       862  \n",
      "2  Andrew Stanton  /pvQWsu0qc8JFQhMVJkTHuexUAa1.jpg       862  \n",
      "3      Joel Cohen  /dAubAiZcvKFbboWlj7oXOkZnTSu.jpg       862  \n",
      "4    Alec Sokolow  /v79vlRYi94BZUQnkkyznbGUZLjT.jpg       862  \n"
     ]
    }
   ],
   "source": [
    "#Función para desanidar crew\n",
    "\n",
    "import pandas as pd\n",
    "import ast\n",
    "\n",
    "def desanidar_crew(Credits_df):\n",
    "    # Extraer y desanidar la columna 'crew'\n",
    "    collection_data = Credits_df['crew'].apply(lambda x: ast.literal_eval(x) if pd.notnull(x) else [])\n",
    "    \n",
    "    # Crear una lista para almacenar DataFrames individuales\n",
    "    crew_list = []\n",
    "    \n",
    "    # Iterar sobre cada fila en el DataFrame original\n",
    "    for index, row in Credits_df.iterrows():\n",
    "        # Convertir la lista de diccionarios de cada fila en un DataFrame\n",
    "        crew_df = pd.DataFrame(collection_data[index])\n",
    "        crew_df['movie_id'] = row['id']  # Añadir el ID de la película para relacionar\n",
    "        crew_list.append(crew_df)\n",
    "    \n",
    "    # Concatenar todos los DataFrames en uno solo\n",
    "    resultado_crew = pd.concat(crew_list, ignore_index=True)\n",
    "    \n",
    "    return resultado_crew\n",
    "\n",
    "resultado_crew = desanidar_crew(Credits)\n",
    "\n",
    "print(resultado_crew.head())\n",
    "\n",
    "# Función similar a la que desanidó Cast"
   ]
  },
  {
   "cell_type": "code",
   "execution_count": 450,
   "metadata": {},
   "outputs": [
    {
     "data": {
      "text/html": [
       "<div>\n",
       "<style scoped>\n",
       "    .dataframe tbody tr th:only-of-type {\n",
       "        vertical-align: middle;\n",
       "    }\n",
       "\n",
       "    .dataframe tbody tr th {\n",
       "        vertical-align: top;\n",
       "    }\n",
       "\n",
       "    .dataframe thead th {\n",
       "        text-align: right;\n",
       "    }\n",
       "</style>\n",
       "<table border=\"1\" class=\"dataframe\">\n",
       "  <thead>\n",
       "    <tr style=\"text-align: right;\">\n",
       "      <th></th>\n",
       "      <th>credit_id</th>\n",
       "      <th>department</th>\n",
       "      <th>gender</th>\n",
       "      <th>id</th>\n",
       "      <th>job</th>\n",
       "      <th>name</th>\n",
       "      <th>profile_path</th>\n",
       "      <th>movie_id</th>\n",
       "    </tr>\n",
       "  </thead>\n",
       "  <tbody>\n",
       "    <tr>\n",
       "      <th>0</th>\n",
       "      <td>52fe4284c3a36847f8024f49</td>\n",
       "      <td>Directing</td>\n",
       "      <td>2.0</td>\n",
       "      <td>7879.0</td>\n",
       "      <td>Director</td>\n",
       "      <td>John Lasseter</td>\n",
       "      <td>/7EdqiNbr4FRjIhKHyPPdFfEEEFG.jpg</td>\n",
       "      <td>862</td>\n",
       "    </tr>\n",
       "    <tr>\n",
       "      <th>1</th>\n",
       "      <td>52fe4284c3a36847f8024f4f</td>\n",
       "      <td>Writing</td>\n",
       "      <td>2.0</td>\n",
       "      <td>12891.0</td>\n",
       "      <td>Screenplay</td>\n",
       "      <td>Joss Whedon</td>\n",
       "      <td>/dTiVsuaTVTeGmvkhcyJvKp2A5kr.jpg</td>\n",
       "      <td>862</td>\n",
       "    </tr>\n",
       "    <tr>\n",
       "      <th>2</th>\n",
       "      <td>52fe4284c3a36847f8024f55</td>\n",
       "      <td>Writing</td>\n",
       "      <td>2.0</td>\n",
       "      <td>7.0</td>\n",
       "      <td>Screenplay</td>\n",
       "      <td>Andrew Stanton</td>\n",
       "      <td>/pvQWsu0qc8JFQhMVJkTHuexUAa1.jpg</td>\n",
       "      <td>862</td>\n",
       "    </tr>\n",
       "    <tr>\n",
       "      <th>3</th>\n",
       "      <td>52fe4284c3a36847f8024f5b</td>\n",
       "      <td>Writing</td>\n",
       "      <td>2.0</td>\n",
       "      <td>12892.0</td>\n",
       "      <td>Screenplay</td>\n",
       "      <td>Joel Cohen</td>\n",
       "      <td>/dAubAiZcvKFbboWlj7oXOkZnTSu.jpg</td>\n",
       "      <td>862</td>\n",
       "    </tr>\n",
       "    <tr>\n",
       "      <th>4</th>\n",
       "      <td>52fe4284c3a36847f8024f61</td>\n",
       "      <td>Writing</td>\n",
       "      <td>0.0</td>\n",
       "      <td>12893.0</td>\n",
       "      <td>Screenplay</td>\n",
       "      <td>Alec Sokolow</td>\n",
       "      <td>/v79vlRYi94BZUQnkkyznbGUZLjT.jpg</td>\n",
       "      <td>862</td>\n",
       "    </tr>\n",
       "  </tbody>\n",
       "</table>\n",
       "</div>"
      ],
      "text/plain": [
       "                  credit_id department  gender       id         job  \\\n",
       "0  52fe4284c3a36847f8024f49  Directing     2.0   7879.0    Director   \n",
       "1  52fe4284c3a36847f8024f4f    Writing     2.0  12891.0  Screenplay   \n",
       "2  52fe4284c3a36847f8024f55    Writing     2.0      7.0  Screenplay   \n",
       "3  52fe4284c3a36847f8024f5b    Writing     2.0  12892.0  Screenplay   \n",
       "4  52fe4284c3a36847f8024f61    Writing     0.0  12893.0  Screenplay   \n",
       "\n",
       "             name                      profile_path  movie_id  \n",
       "0   John Lasseter  /7EdqiNbr4FRjIhKHyPPdFfEEEFG.jpg       862  \n",
       "1     Joss Whedon  /dTiVsuaTVTeGmvkhcyJvKp2A5kr.jpg       862  \n",
       "2  Andrew Stanton  /pvQWsu0qc8JFQhMVJkTHuexUAa1.jpg       862  \n",
       "3      Joel Cohen  /dAubAiZcvKFbboWlj7oXOkZnTSu.jpg       862  \n",
       "4    Alec Sokolow  /v79vlRYi94BZUQnkkyznbGUZLjT.jpg       862  "
      ]
     },
     "execution_count": 450,
     "metadata": {},
     "output_type": "execute_result"
    }
   ],
   "source": [
    "resultado_crew.head()"
   ]
  },
  {
   "cell_type": "code",
   "execution_count": 451,
   "metadata": {},
   "outputs": [
    {
     "data": {
      "text/plain": [
       "department\n",
       "Directing    49008\n",
       "Name: count, dtype: int64"
      ]
     },
     "execution_count": 451,
     "metadata": {},
     "output_type": "execute_result"
    }
   ],
   "source": [
    "resultado_crew[resultado_crew[\"job\"] == \"Director\"][\"department\"].value_counts()"
   ]
  },
  {
   "cell_type": "code",
   "execution_count": 452,
   "metadata": {},
   "outputs": [],
   "source": [
    "resultado_crew.drop(columns=[\"credit_id\", \"gender\", \"id\",\"profile_path\",\"department\"], inplace=True)"
   ]
  },
  {
   "cell_type": "code",
   "execution_count": 453,
   "metadata": {},
   "outputs": [
    {
     "data": {
      "text/html": [
       "<div>\n",
       "<style scoped>\n",
       "    .dataframe tbody tr th:only-of-type {\n",
       "        vertical-align: middle;\n",
       "    }\n",
       "\n",
       "    .dataframe tbody tr th {\n",
       "        vertical-align: top;\n",
       "    }\n",
       "\n",
       "    .dataframe thead th {\n",
       "        text-align: right;\n",
       "    }\n",
       "</style>\n",
       "<table border=\"1\" class=\"dataframe\">\n",
       "  <thead>\n",
       "    <tr style=\"text-align: right;\">\n",
       "      <th></th>\n",
       "      <th>job</th>\n",
       "      <th>name</th>\n",
       "      <th>movie_id</th>\n",
       "    </tr>\n",
       "  </thead>\n",
       "  <tbody>\n",
       "    <tr>\n",
       "      <th>0</th>\n",
       "      <td>Director</td>\n",
       "      <td>John Lasseter</td>\n",
       "      <td>862</td>\n",
       "    </tr>\n",
       "    <tr>\n",
       "      <th>1</th>\n",
       "      <td>Screenplay</td>\n",
       "      <td>Joss Whedon</td>\n",
       "      <td>862</td>\n",
       "    </tr>\n",
       "    <tr>\n",
       "      <th>2</th>\n",
       "      <td>Screenplay</td>\n",
       "      <td>Andrew Stanton</td>\n",
       "      <td>862</td>\n",
       "    </tr>\n",
       "    <tr>\n",
       "      <th>3</th>\n",
       "      <td>Screenplay</td>\n",
       "      <td>Joel Cohen</td>\n",
       "      <td>862</td>\n",
       "    </tr>\n",
       "    <tr>\n",
       "      <th>4</th>\n",
       "      <td>Screenplay</td>\n",
       "      <td>Alec Sokolow</td>\n",
       "      <td>862</td>\n",
       "    </tr>\n",
       "  </tbody>\n",
       "</table>\n",
       "</div>"
      ],
      "text/plain": [
       "          job            name  movie_id\n",
       "0    Director   John Lasseter       862\n",
       "1  Screenplay     Joss Whedon       862\n",
       "2  Screenplay  Andrew Stanton       862\n",
       "3  Screenplay      Joel Cohen       862\n",
       "4  Screenplay    Alec Sokolow       862"
      ]
     },
     "execution_count": 453,
     "metadata": {},
     "output_type": "execute_result"
    }
   ],
   "source": [
    "resultado_crew.head()"
   ]
  },
  {
   "cell_type": "code",
   "execution_count": 454,
   "metadata": {},
   "outputs": [],
   "source": [
    "resultado_crew = resultado_crew.where(resultado_crew[\"job\"]=='Director')    # Selecciono como datos relevantes, aquellos en que la columna job sean iguales a Director"
   ]
  },
  {
   "cell_type": "code",
   "execution_count": 455,
   "metadata": {},
   "outputs": [
    {
     "data": {
      "text/html": [
       "<div>\n",
       "<style scoped>\n",
       "    .dataframe tbody tr th:only-of-type {\n",
       "        vertical-align: middle;\n",
       "    }\n",
       "\n",
       "    .dataframe tbody tr th {\n",
       "        vertical-align: top;\n",
       "    }\n",
       "\n",
       "    .dataframe thead th {\n",
       "        text-align: right;\n",
       "    }\n",
       "</style>\n",
       "<table border=\"1\" class=\"dataframe\">\n",
       "  <thead>\n",
       "    <tr style=\"text-align: right;\">\n",
       "      <th></th>\n",
       "      <th>job</th>\n",
       "      <th>name</th>\n",
       "      <th>movie_id</th>\n",
       "    </tr>\n",
       "  </thead>\n",
       "  <tbody>\n",
       "    <tr>\n",
       "      <th>0</th>\n",
       "      <td>Director</td>\n",
       "      <td>John Lasseter</td>\n",
       "      <td>862.0</td>\n",
       "    </tr>\n",
       "    <tr>\n",
       "      <th>1</th>\n",
       "      <td>NaN</td>\n",
       "      <td>NaN</td>\n",
       "      <td>NaN</td>\n",
       "    </tr>\n",
       "    <tr>\n",
       "      <th>2</th>\n",
       "      <td>NaN</td>\n",
       "      <td>NaN</td>\n",
       "      <td>NaN</td>\n",
       "    </tr>\n",
       "    <tr>\n",
       "      <th>3</th>\n",
       "      <td>NaN</td>\n",
       "      <td>NaN</td>\n",
       "      <td>NaN</td>\n",
       "    </tr>\n",
       "    <tr>\n",
       "      <th>4</th>\n",
       "      <td>NaN</td>\n",
       "      <td>NaN</td>\n",
       "      <td>NaN</td>\n",
       "    </tr>\n",
       "    <tr>\n",
       "      <th>...</th>\n",
       "      <td>...</td>\n",
       "      <td>...</td>\n",
       "      <td>...</td>\n",
       "    </tr>\n",
       "    <tr>\n",
       "      <th>463922</th>\n",
       "      <td>NaN</td>\n",
       "      <td>NaN</td>\n",
       "      <td>NaN</td>\n",
       "    </tr>\n",
       "    <tr>\n",
       "      <th>463923</th>\n",
       "      <td>NaN</td>\n",
       "      <td>NaN</td>\n",
       "      <td>NaN</td>\n",
       "    </tr>\n",
       "    <tr>\n",
       "      <th>463924</th>\n",
       "      <td>Director</td>\n",
       "      <td>Yakov Protazanov</td>\n",
       "      <td>227506.0</td>\n",
       "    </tr>\n",
       "    <tr>\n",
       "      <th>463925</th>\n",
       "      <td>NaN</td>\n",
       "      <td>NaN</td>\n",
       "      <td>NaN</td>\n",
       "    </tr>\n",
       "    <tr>\n",
       "      <th>463926</th>\n",
       "      <td>Director</td>\n",
       "      <td>Daisy Asquith</td>\n",
       "      <td>461257.0</td>\n",
       "    </tr>\n",
       "  </tbody>\n",
       "</table>\n",
       "<p>463927 rows × 3 columns</p>\n",
       "</div>"
      ],
      "text/plain": [
       "             job              name  movie_id\n",
       "0       Director     John Lasseter     862.0\n",
       "1            NaN               NaN       NaN\n",
       "2            NaN               NaN       NaN\n",
       "3            NaN               NaN       NaN\n",
       "4            NaN               NaN       NaN\n",
       "...          ...               ...       ...\n",
       "463922       NaN               NaN       NaN\n",
       "463923       NaN               NaN       NaN\n",
       "463924  Director  Yakov Protazanov  227506.0\n",
       "463925       NaN               NaN       NaN\n",
       "463926  Director     Daisy Asquith  461257.0\n",
       "\n",
       "[463927 rows x 3 columns]"
      ]
     },
     "execution_count": 455,
     "metadata": {},
     "output_type": "execute_result"
    }
   ],
   "source": [
    "resultado_crew"
   ]
  },
  {
   "cell_type": "code",
   "execution_count": 456,
   "metadata": {},
   "outputs": [],
   "source": [
    "resultado_crew.dropna(inplace=True)"
   ]
  },
  {
   "cell_type": "code",
   "execution_count": 457,
   "metadata": {},
   "outputs": [
    {
     "data": {
      "text/html": [
       "<div>\n",
       "<style scoped>\n",
       "    .dataframe tbody tr th:only-of-type {\n",
       "        vertical-align: middle;\n",
       "    }\n",
       "\n",
       "    .dataframe tbody tr th {\n",
       "        vertical-align: top;\n",
       "    }\n",
       "\n",
       "    .dataframe thead th {\n",
       "        text-align: right;\n",
       "    }\n",
       "</style>\n",
       "<table border=\"1\" class=\"dataframe\">\n",
       "  <thead>\n",
       "    <tr style=\"text-align: right;\">\n",
       "      <th></th>\n",
       "      <th>job</th>\n",
       "      <th>name</th>\n",
       "      <th>movie_id</th>\n",
       "    </tr>\n",
       "  </thead>\n",
       "  <tbody>\n",
       "    <tr>\n",
       "      <th>0</th>\n",
       "      <td>Director</td>\n",
       "      <td>John Lasseter</td>\n",
       "      <td>862.0</td>\n",
       "    </tr>\n",
       "    <tr>\n",
       "      <th>109</th>\n",
       "      <td>Director</td>\n",
       "      <td>Joe Johnston</td>\n",
       "      <td>8844.0</td>\n",
       "    </tr>\n",
       "    <tr>\n",
       "      <th>122</th>\n",
       "      <td>Director</td>\n",
       "      <td>Howard Deutch</td>\n",
       "      <td>15602.0</td>\n",
       "    </tr>\n",
       "    <tr>\n",
       "      <th>126</th>\n",
       "      <td>Director</td>\n",
       "      <td>Forest Whitaker</td>\n",
       "      <td>31357.0</td>\n",
       "    </tr>\n",
       "    <tr>\n",
       "      <th>141</th>\n",
       "      <td>Director</td>\n",
       "      <td>Charles Shyer</td>\n",
       "      <td>11862.0</td>\n",
       "    </tr>\n",
       "    <tr>\n",
       "      <th>...</th>\n",
       "      <td>...</td>\n",
       "      <td>...</td>\n",
       "      <td>...</td>\n",
       "    </tr>\n",
       "    <tr>\n",
       "      <th>463904</th>\n",
       "      <td>Director</td>\n",
       "      <td>Hamid Nematollah</td>\n",
       "      <td>439050.0</td>\n",
       "    </tr>\n",
       "    <tr>\n",
       "      <th>463913</th>\n",
       "      <td>Director</td>\n",
       "      <td>Lav Diaz</td>\n",
       "      <td>111109.0</td>\n",
       "    </tr>\n",
       "    <tr>\n",
       "      <th>463919</th>\n",
       "      <td>Director</td>\n",
       "      <td>Mark L. Lester</td>\n",
       "      <td>67758.0</td>\n",
       "    </tr>\n",
       "    <tr>\n",
       "      <th>463924</th>\n",
       "      <td>Director</td>\n",
       "      <td>Yakov Protazanov</td>\n",
       "      <td>227506.0</td>\n",
       "    </tr>\n",
       "    <tr>\n",
       "      <th>463926</th>\n",
       "      <td>Director</td>\n",
       "      <td>Daisy Asquith</td>\n",
       "      <td>461257.0</td>\n",
       "    </tr>\n",
       "  </tbody>\n",
       "</table>\n",
       "<p>49008 rows × 3 columns</p>\n",
       "</div>"
      ],
      "text/plain": [
       "             job              name  movie_id\n",
       "0       Director     John Lasseter     862.0\n",
       "109     Director      Joe Johnston    8844.0\n",
       "122     Director     Howard Deutch   15602.0\n",
       "126     Director   Forest Whitaker   31357.0\n",
       "141     Director     Charles Shyer   11862.0\n",
       "...          ...               ...       ...\n",
       "463904  Director  Hamid Nematollah  439050.0\n",
       "463913  Director          Lav Diaz  111109.0\n",
       "463919  Director    Mark L. Lester   67758.0\n",
       "463924  Director  Yakov Protazanov  227506.0\n",
       "463926  Director     Daisy Asquith  461257.0\n",
       "\n",
       "[49008 rows x 3 columns]"
      ]
     },
     "execution_count": 457,
     "metadata": {},
     "output_type": "execute_result"
    }
   ],
   "source": [
    "resultado_crew"
   ]
  },
  {
   "cell_type": "markdown",
   "metadata": {},
   "source": [
    "Corroboración simple y arbitraria."
   ]
  },
  {
   "cell_type": "code",
   "execution_count": 458,
   "metadata": {},
   "outputs": [
    {
     "name": "stdout",
     "output_type": "stream",
     "text": [
      "             job               name  movie_id\n",
      "403     Director  Quentin Tarantino       5.0\n",
      "4957    Director  Quentin Tarantino     680.0\n",
      "16539   Director  Quentin Tarantino     500.0\n",
      "26793   Director  Quentin Tarantino     184.0\n",
      "103019  Director  Quentin Tarantino      24.0\n",
      "112713  Director  Quentin Tarantino     393.0\n",
      "172624  Director  Quentin Tarantino    1991.0\n",
      "194845  Director  Quentin Tarantino   16869.0\n",
      "260884  Director  Quentin Tarantino   68718.0\n",
      "334724  Director  Quentin Tarantino  273248.0\n",
      "431108  Director  Quentin Tarantino   10614.0\n"
     ]
    }
   ],
   "source": [
    "print(resultado_crew[resultado_crew[\"name\"]== \"Quentin Tarantino\"])"
   ]
  },
  {
   "cell_type": "code",
   "execution_count": 459,
   "metadata": {},
   "outputs": [],
   "source": [
    "resultado_crew[\"movie_id\"] = resultado_crew[\"movie_id\"].astype(int)"
   ]
  },
  {
   "cell_type": "code",
   "execution_count": 460,
   "metadata": {},
   "outputs": [
    {
     "data": {
      "text/html": [
       "<div>\n",
       "<style scoped>\n",
       "    .dataframe tbody tr th:only-of-type {\n",
       "        vertical-align: middle;\n",
       "    }\n",
       "\n",
       "    .dataframe tbody tr th {\n",
       "        vertical-align: top;\n",
       "    }\n",
       "\n",
       "    .dataframe thead th {\n",
       "        text-align: right;\n",
       "    }\n",
       "</style>\n",
       "<table border=\"1\" class=\"dataframe\">\n",
       "  <thead>\n",
       "    <tr style=\"text-align: right;\">\n",
       "      <th></th>\n",
       "      <th>job</th>\n",
       "      <th>name</th>\n",
       "      <th>movie_id</th>\n",
       "    </tr>\n",
       "  </thead>\n",
       "  <tbody>\n",
       "    <tr>\n",
       "      <th>0</th>\n",
       "      <td>Director</td>\n",
       "      <td>John Lasseter</td>\n",
       "      <td>862</td>\n",
       "    </tr>\n",
       "    <tr>\n",
       "      <th>109</th>\n",
       "      <td>Director</td>\n",
       "      <td>Joe Johnston</td>\n",
       "      <td>8844</td>\n",
       "    </tr>\n",
       "    <tr>\n",
       "      <th>122</th>\n",
       "      <td>Director</td>\n",
       "      <td>Howard Deutch</td>\n",
       "      <td>15602</td>\n",
       "    </tr>\n",
       "    <tr>\n",
       "      <th>126</th>\n",
       "      <td>Director</td>\n",
       "      <td>Forest Whitaker</td>\n",
       "      <td>31357</td>\n",
       "    </tr>\n",
       "    <tr>\n",
       "      <th>141</th>\n",
       "      <td>Director</td>\n",
       "      <td>Charles Shyer</td>\n",
       "      <td>11862</td>\n",
       "    </tr>\n",
       "  </tbody>\n",
       "</table>\n",
       "</div>"
      ],
      "text/plain": [
       "          job             name  movie_id\n",
       "0    Director    John Lasseter       862\n",
       "109  Director     Joe Johnston      8844\n",
       "122  Director    Howard Deutch     15602\n",
       "126  Director  Forest Whitaker     31357\n",
       "141  Director    Charles Shyer     11862"
      ]
     },
     "execution_count": 460,
     "metadata": {},
     "output_type": "execute_result"
    }
   ],
   "source": [
    "resultado_crew.head()"
   ]
  },
  {
   "cell_type": "markdown",
   "metadata": {},
   "source": [
    "CORREGIR FUNCION"
   ]
  },
  {
   "cell_type": "code",
   "execution_count": 461,
   "metadata": {},
   "outputs": [
    {
     "name": "stdout",
     "output_type": "stream",
     "text": [
      "             job              name  movie_id\n",
      "0       Director     John Lasseter       862\n",
      "109     Director      Joe Johnston      8844\n",
      "122     Director     Howard Deutch     15602\n",
      "126     Director   Forest Whitaker     31357\n",
      "141     Director     Charles Shyer     11862\n",
      "...          ...               ...       ...\n",
      "463904  Director  Hamid Nematollah    439050\n",
      "463913  Director          Lav Diaz    111109\n",
      "463919  Director     Mark L Lester     67758\n",
      "463924  Director  Yakov Protazanov    227506\n",
      "463926  Director     Daisy Asquith    461257\n",
      "\n",
      "[49008 rows x 3 columns]\n"
     ]
    }
   ],
   "source": [
    "# Al igual que con los actores, se debe normalizar el nombre de los directores, se encontraban caracteres extraños.\n",
    "\n",
    "# Paso 1: Eliminar caracteres de tabulación y espacios\n",
    "#resultado_crew['name'] = resultado_crew['name'].str.strip()\n",
    "\n",
    "# Paso 2: Decodificar caracteres extraños\n",
    "# Aquí se asume que los caracteres extraños son resultado de una mala codificación.\n",
    "# Utilizaremos 'utf-8' como base, pero puedes ajustarlo si es necesario.\n",
    "#resultado_crew['name'] = resultado_cast['name'].str.strip()\n",
    "#resultado_crew['name'] = resultado_crew['name'].str.encode('utf-8', errors='replace').str.decode('utf-8', errors='replace')\n",
    "\n",
    "# Paso 3: Reemplazar caracteres no deseados (si es necesario)\n",
    "# También puedes usar una expresión regular para eliminar cualquier tipo de comillas\n",
    "#resultado_crew['name'] = resultado_crew['name'].str.replace(r\"[\\\"']+\", '', regex=True)\n",
    "resultado_crew['name'] = resultado_crew['name'].str.replace(r'[^a-zA-Z0-9\\s]', '', regex=True)\n",
    "\n",
    "\n",
    "# Mostrar el DataFrame limpio\n",
    "print(resultado_crew)"
   ]
  },
  {
   "cell_type": "code",
   "execution_count": 462,
   "metadata": {},
   "outputs": [
    {
     "data": {
      "text/plain": [
       "job\n",
       "Director    49008\n",
       "Name: count, dtype: int64"
      ]
     },
     "execution_count": 462,
     "metadata": {},
     "output_type": "execute_result"
    }
   ],
   "source": [
    "resultado_crew[\"job\"].value_counts()"
   ]
  },
  {
   "cell_type": "code",
   "execution_count": 463,
   "metadata": {},
   "outputs": [],
   "source": [
    "resultado_crew = resultado_crew.drop(columns=[\"job\"])"
   ]
  },
  {
   "cell_type": "markdown",
   "metadata": {},
   "source": [
    "Guardar Archivos Función get director"
   ]
  },
  {
   "cell_type": "markdown",
   "metadata": {},
   "source": [
    "# CSV ResultadoCrew"
   ]
  },
  {
   "cell_type": "code",
   "execution_count": 464,
   "metadata": {},
   "outputs": [],
   "source": [
    "resultado_crew.to_csv('datasets\\\\ResultadoCrew.csv',index=False)  "
   ]
  },
  {
   "cell_type": "code",
   "execution_count": 465,
   "metadata": {},
   "outputs": [],
   "source": [
    "#  debiendo devolver el éxito del mismo medido a través del retorno. Además, deberá devolver el nombre de cada película con la fecha de lanzamiento, retorno individual, costo y ganancia de la misma.\n",
    "FuncionDirector = Movies[[\"id\",\"title\",\"release_date\",\"return\",\"budget\",\"revenue\"]]"
   ]
  },
  {
   "cell_type": "code",
   "execution_count": 466,
   "metadata": {},
   "outputs": [
    {
     "data": {
      "text/html": [
       "<div>\n",
       "<style scoped>\n",
       "    .dataframe tbody tr th:only-of-type {\n",
       "        vertical-align: middle;\n",
       "    }\n",
       "\n",
       "    .dataframe tbody tr th {\n",
       "        vertical-align: top;\n",
       "    }\n",
       "\n",
       "    .dataframe thead th {\n",
       "        text-align: right;\n",
       "    }\n",
       "</style>\n",
       "<table border=\"1\" class=\"dataframe\">\n",
       "  <thead>\n",
       "    <tr style=\"text-align: right;\">\n",
       "      <th></th>\n",
       "      <th>id</th>\n",
       "      <th>title</th>\n",
       "      <th>release_date</th>\n",
       "      <th>return</th>\n",
       "      <th>budget</th>\n",
       "      <th>revenue</th>\n",
       "    </tr>\n",
       "  </thead>\n",
       "  <tbody>\n",
       "    <tr>\n",
       "      <th>0</th>\n",
       "      <td>862</td>\n",
       "      <td>Toy Story</td>\n",
       "      <td>1995-10-30</td>\n",
       "      <td>12.451801</td>\n",
       "      <td>30000000</td>\n",
       "      <td>373554033.0</td>\n",
       "    </tr>\n",
       "    <tr>\n",
       "      <th>1</th>\n",
       "      <td>8844</td>\n",
       "      <td>Jumanji</td>\n",
       "      <td>1995-12-15</td>\n",
       "      <td>4.043035</td>\n",
       "      <td>65000000</td>\n",
       "      <td>262797249.0</td>\n",
       "    </tr>\n",
       "    <tr>\n",
       "      <th>2</th>\n",
       "      <td>15602</td>\n",
       "      <td>Grumpier Old Men</td>\n",
       "      <td>1995-12-22</td>\n",
       "      <td>0.000000</td>\n",
       "      <td>0</td>\n",
       "      <td>0.0</td>\n",
       "    </tr>\n",
       "    <tr>\n",
       "      <th>3</th>\n",
       "      <td>31357</td>\n",
       "      <td>Waiting to Exhale</td>\n",
       "      <td>1995-12-22</td>\n",
       "      <td>5.090760</td>\n",
       "      <td>16000000</td>\n",
       "      <td>81452156.0</td>\n",
       "    </tr>\n",
       "    <tr>\n",
       "      <th>4</th>\n",
       "      <td>11862</td>\n",
       "      <td>Father of the Bride Part II</td>\n",
       "      <td>1995-02-10</td>\n",
       "      <td>0.000000</td>\n",
       "      <td>0</td>\n",
       "      <td>76578911.0</td>\n",
       "    </tr>\n",
       "    <tr>\n",
       "      <th>...</th>\n",
       "      <td>...</td>\n",
       "      <td>...</td>\n",
       "      <td>...</td>\n",
       "      <td>...</td>\n",
       "      <td>...</td>\n",
       "      <td>...</td>\n",
       "    </tr>\n",
       "    <tr>\n",
       "      <th>45460</th>\n",
       "      <td>30840</td>\n",
       "      <td>Robin Hood</td>\n",
       "      <td>1991-05-13</td>\n",
       "      <td>0.000000</td>\n",
       "      <td>0</td>\n",
       "      <td>0.0</td>\n",
       "    </tr>\n",
       "    <tr>\n",
       "      <th>45462</th>\n",
       "      <td>111109</td>\n",
       "      <td>Century of Birthing</td>\n",
       "      <td>2011-11-17</td>\n",
       "      <td>0.000000</td>\n",
       "      <td>0</td>\n",
       "      <td>0.0</td>\n",
       "    </tr>\n",
       "    <tr>\n",
       "      <th>45463</th>\n",
       "      <td>67758</td>\n",
       "      <td>Betrayal</td>\n",
       "      <td>2003-08-01</td>\n",
       "      <td>0.000000</td>\n",
       "      <td>0</td>\n",
       "      <td>0.0</td>\n",
       "    </tr>\n",
       "    <tr>\n",
       "      <th>45464</th>\n",
       "      <td>227506</td>\n",
       "      <td>Satan Triumphant</td>\n",
       "      <td>1917-10-21</td>\n",
       "      <td>0.000000</td>\n",
       "      <td>0</td>\n",
       "      <td>0.0</td>\n",
       "    </tr>\n",
       "    <tr>\n",
       "      <th>45465</th>\n",
       "      <td>461257</td>\n",
       "      <td>Queerama</td>\n",
       "      <td>2017-06-09</td>\n",
       "      <td>0.000000</td>\n",
       "      <td>0</td>\n",
       "      <td>0.0</td>\n",
       "    </tr>\n",
       "  </tbody>\n",
       "</table>\n",
       "<p>45366 rows × 6 columns</p>\n",
       "</div>"
      ],
      "text/plain": [
       "           id                        title release_date     return    budget  \\\n",
       "0         862                    Toy Story   1995-10-30  12.451801  30000000   \n",
       "1        8844                      Jumanji   1995-12-15   4.043035  65000000   \n",
       "2       15602             Grumpier Old Men   1995-12-22   0.000000         0   \n",
       "3       31357            Waiting to Exhale   1995-12-22   5.090760  16000000   \n",
       "4       11862  Father of the Bride Part II   1995-02-10   0.000000         0   \n",
       "...       ...                          ...          ...        ...       ...   \n",
       "45460   30840                   Robin Hood   1991-05-13   0.000000         0   \n",
       "45462  111109          Century of Birthing   2011-11-17   0.000000         0   \n",
       "45463   67758                     Betrayal   2003-08-01   0.000000         0   \n",
       "45464  227506             Satan Triumphant   1917-10-21   0.000000         0   \n",
       "45465  461257                     Queerama   2017-06-09   0.000000         0   \n",
       "\n",
       "           revenue  \n",
       "0      373554033.0  \n",
       "1      262797249.0  \n",
       "2              0.0  \n",
       "3       81452156.0  \n",
       "4       76578911.0  \n",
       "...            ...  \n",
       "45460          0.0  \n",
       "45462          0.0  \n",
       "45463          0.0  \n",
       "45464          0.0  \n",
       "45465          0.0  \n",
       "\n",
       "[45366 rows x 6 columns]"
      ]
     },
     "execution_count": 466,
     "metadata": {},
     "output_type": "execute_result"
    }
   ],
   "source": [
    "FuncionDirector"
   ]
  },
  {
   "cell_type": "code",
   "execution_count": 467,
   "metadata": {},
   "outputs": [
    {
     "name": "stdout",
     "output_type": "stream",
     "text": [
      "<class 'pandas.core.frame.DataFrame'>\n",
      "Index: 45366 entries, 0 to 45465\n",
      "Data columns (total 6 columns):\n",
      " #   Column        Non-Null Count  Dtype         \n",
      "---  ------        --------------  -----         \n",
      " 0   id            45366 non-null  object        \n",
      " 1   title         45363 non-null  object        \n",
      " 2   release_date  45363 non-null  datetime64[ns]\n",
      " 3   return        45366 non-null  float64       \n",
      " 4   budget        45366 non-null  int32         \n",
      " 5   revenue       45366 non-null  float64       \n",
      "dtypes: datetime64[ns](1), float64(2), int32(1), object(2)\n",
      "memory usage: 3.3+ MB\n"
     ]
    }
   ],
   "source": [
    "FuncionDirector.info()"
   ]
  },
  {
   "cell_type": "code",
   "execution_count": 468,
   "metadata": {},
   "outputs": [
    {
     "name": "stderr",
     "output_type": "stream",
     "text": [
      "C:\\Users\\Aleja\\AppData\\Local\\Temp\\ipykernel_8204\\1754726078.py:1: SettingWithCopyWarning: \n",
      "A value is trying to be set on a copy of a slice from a DataFrame.\n",
      "Try using .loc[row_indexer,col_indexer] = value instead\n",
      "\n",
      "See the caveats in the documentation: https://pandas.pydata.org/pandas-docs/stable/user_guide/indexing.html#returning-a-view-versus-a-copy\n",
      "  FuncionDirector[\"return\"] = FuncionDirector[\"return\"].fillna(0)\n"
     ]
    }
   ],
   "source": [
    "FuncionDirector[\"return\"] = FuncionDirector[\"return\"].fillna(0)"
   ]
  },
  {
   "cell_type": "code",
   "execution_count": 469,
   "metadata": {},
   "outputs": [
    {
     "name": "stdout",
     "output_type": "stream",
     "text": [
      "1997-08-20\n",
      "2012-09-29\n",
      "2014-01-01\n"
     ]
    }
   ],
   "source": [
    "for i in FuncionDirector[\"id\"]:\n",
    "    if len(i) >6:\n",
    "        print(i)\n",
    "FuncionDirector = FuncionDirector[FuncionDirector[\"id\"].str.len() <= 6]     # No considerar los id mayores a 6 dígitos."
   ]
  },
  {
   "cell_type": "code",
   "execution_count": 470,
   "metadata": {},
   "outputs": [
    {
     "name": "stderr",
     "output_type": "stream",
     "text": [
      "C:\\Users\\Aleja\\AppData\\Local\\Temp\\ipykernel_8204\\3238847082.py:1: SettingWithCopyWarning: \n",
      "A value is trying to be set on a copy of a slice from a DataFrame.\n",
      "Try using .loc[row_indexer,col_indexer] = value instead\n",
      "\n",
      "See the caveats in the documentation: https://pandas.pydata.org/pandas-docs/stable/user_guide/indexing.html#returning-a-view-versus-a-copy\n",
      "  FuncionDirector[\"id\"] = FuncionDirector[\"id\"].astype(int)\n"
     ]
    }
   ],
   "source": [
    "FuncionDirector[\"id\"] = FuncionDirector[\"id\"].astype(int)"
   ]
  },
  {
   "cell_type": "code",
   "execution_count": 471,
   "metadata": {},
   "outputs": [
    {
     "data": {
      "text/html": [
       "<div>\n",
       "<style scoped>\n",
       "    .dataframe tbody tr th:only-of-type {\n",
       "        vertical-align: middle;\n",
       "    }\n",
       "\n",
       "    .dataframe tbody tr th {\n",
       "        vertical-align: top;\n",
       "    }\n",
       "\n",
       "    .dataframe thead th {\n",
       "        text-align: right;\n",
       "    }\n",
       "</style>\n",
       "<table border=\"1\" class=\"dataframe\">\n",
       "  <thead>\n",
       "    <tr style=\"text-align: right;\">\n",
       "      <th></th>\n",
       "      <th>id</th>\n",
       "      <th>title</th>\n",
       "      <th>release_date</th>\n",
       "      <th>return</th>\n",
       "      <th>budget</th>\n",
       "      <th>revenue</th>\n",
       "    </tr>\n",
       "  </thead>\n",
       "  <tbody>\n",
       "    <tr>\n",
       "      <th>0</th>\n",
       "      <td>862</td>\n",
       "      <td>Toy Story</td>\n",
       "      <td>1995-10-30</td>\n",
       "      <td>12.451801</td>\n",
       "      <td>30000000</td>\n",
       "      <td>373554033.0</td>\n",
       "    </tr>\n",
       "    <tr>\n",
       "      <th>1</th>\n",
       "      <td>8844</td>\n",
       "      <td>Jumanji</td>\n",
       "      <td>1995-12-15</td>\n",
       "      <td>4.043035</td>\n",
       "      <td>65000000</td>\n",
       "      <td>262797249.0</td>\n",
       "    </tr>\n",
       "    <tr>\n",
       "      <th>2</th>\n",
       "      <td>15602</td>\n",
       "      <td>Grumpier Old Men</td>\n",
       "      <td>1995-12-22</td>\n",
       "      <td>0.000000</td>\n",
       "      <td>0</td>\n",
       "      <td>0.0</td>\n",
       "    </tr>\n",
       "    <tr>\n",
       "      <th>3</th>\n",
       "      <td>31357</td>\n",
       "      <td>Waiting to Exhale</td>\n",
       "      <td>1995-12-22</td>\n",
       "      <td>5.090760</td>\n",
       "      <td>16000000</td>\n",
       "      <td>81452156.0</td>\n",
       "    </tr>\n",
       "    <tr>\n",
       "      <th>4</th>\n",
       "      <td>11862</td>\n",
       "      <td>Father of the Bride Part II</td>\n",
       "      <td>1995-02-10</td>\n",
       "      <td>0.000000</td>\n",
       "      <td>0</td>\n",
       "      <td>76578911.0</td>\n",
       "    </tr>\n",
       "    <tr>\n",
       "      <th>...</th>\n",
       "      <td>...</td>\n",
       "      <td>...</td>\n",
       "      <td>...</td>\n",
       "      <td>...</td>\n",
       "      <td>...</td>\n",
       "      <td>...</td>\n",
       "    </tr>\n",
       "    <tr>\n",
       "      <th>45460</th>\n",
       "      <td>30840</td>\n",
       "      <td>Robin Hood</td>\n",
       "      <td>1991-05-13</td>\n",
       "      <td>0.000000</td>\n",
       "      <td>0</td>\n",
       "      <td>0.0</td>\n",
       "    </tr>\n",
       "    <tr>\n",
       "      <th>45462</th>\n",
       "      <td>111109</td>\n",
       "      <td>Century of Birthing</td>\n",
       "      <td>2011-11-17</td>\n",
       "      <td>0.000000</td>\n",
       "      <td>0</td>\n",
       "      <td>0.0</td>\n",
       "    </tr>\n",
       "    <tr>\n",
       "      <th>45463</th>\n",
       "      <td>67758</td>\n",
       "      <td>Betrayal</td>\n",
       "      <td>2003-08-01</td>\n",
       "      <td>0.000000</td>\n",
       "      <td>0</td>\n",
       "      <td>0.0</td>\n",
       "    </tr>\n",
       "    <tr>\n",
       "      <th>45464</th>\n",
       "      <td>227506</td>\n",
       "      <td>Satan Triumphant</td>\n",
       "      <td>1917-10-21</td>\n",
       "      <td>0.000000</td>\n",
       "      <td>0</td>\n",
       "      <td>0.0</td>\n",
       "    </tr>\n",
       "    <tr>\n",
       "      <th>45465</th>\n",
       "      <td>461257</td>\n",
       "      <td>Queerama</td>\n",
       "      <td>2017-06-09</td>\n",
       "      <td>0.000000</td>\n",
       "      <td>0</td>\n",
       "      <td>0.0</td>\n",
       "    </tr>\n",
       "  </tbody>\n",
       "</table>\n",
       "<p>45363 rows × 6 columns</p>\n",
       "</div>"
      ],
      "text/plain": [
       "           id                        title release_date     return    budget  \\\n",
       "0         862                    Toy Story   1995-10-30  12.451801  30000000   \n",
       "1        8844                      Jumanji   1995-12-15   4.043035  65000000   \n",
       "2       15602             Grumpier Old Men   1995-12-22   0.000000         0   \n",
       "3       31357            Waiting to Exhale   1995-12-22   5.090760  16000000   \n",
       "4       11862  Father of the Bride Part II   1995-02-10   0.000000         0   \n",
       "...       ...                          ...          ...        ...       ...   \n",
       "45460   30840                   Robin Hood   1991-05-13   0.000000         0   \n",
       "45462  111109          Century of Birthing   2011-11-17   0.000000         0   \n",
       "45463   67758                     Betrayal   2003-08-01   0.000000         0   \n",
       "45464  227506             Satan Triumphant   1917-10-21   0.000000         0   \n",
       "45465  461257                     Queerama   2017-06-09   0.000000         0   \n",
       "\n",
       "           revenue  \n",
       "0      373554033.0  \n",
       "1      262797249.0  \n",
       "2              0.0  \n",
       "3       81452156.0  \n",
       "4       76578911.0  \n",
       "...            ...  \n",
       "45460          0.0  \n",
       "45462          0.0  \n",
       "45463          0.0  \n",
       "45464          0.0  \n",
       "45465          0.0  \n",
       "\n",
       "[45363 rows x 6 columns]"
      ]
     },
     "execution_count": 471,
     "metadata": {},
     "output_type": "execute_result"
    }
   ],
   "source": [
    "FuncionDirector"
   ]
  },
  {
   "cell_type": "code",
   "execution_count": 472,
   "metadata": {},
   "outputs": [
    {
     "name": "stdout",
     "output_type": "stream",
     "text": [
      "<class 'pandas.core.frame.DataFrame'>\n",
      "Index: 45363 entries, 0 to 45465\n",
      "Data columns (total 6 columns):\n",
      " #   Column        Non-Null Count  Dtype         \n",
      "---  ------        --------------  -----         \n",
      " 0   id            45363 non-null  int32         \n",
      " 1   title         45363 non-null  object        \n",
      " 2   release_date  45363 non-null  datetime64[ns]\n",
      " 3   return        45363 non-null  float64       \n",
      " 4   budget        45363 non-null  int32         \n",
      " 5   revenue       45363 non-null  float64       \n",
      "dtypes: datetime64[ns](1), float64(2), int32(2), object(1)\n",
      "memory usage: 2.1+ MB\n"
     ]
    }
   ],
   "source": [
    "FuncionDirector.info()"
   ]
  },
  {
   "cell_type": "code",
   "execution_count": 473,
   "metadata": {},
   "outputs": [
    {
     "data": {
      "text/plain": [
       "0        12.451801\n",
       "1         4.043035\n",
       "2         0.000000\n",
       "3         5.090760\n",
       "4         0.000000\n",
       "           ...    \n",
       "45460     0.000000\n",
       "45462     0.000000\n",
       "45463     0.000000\n",
       "45464     0.000000\n",
       "45465     0.000000\n",
       "Name: return, Length: 45363, dtype: float64"
      ]
     },
     "execution_count": 473,
     "metadata": {},
     "output_type": "execute_result"
    }
   ],
   "source": [
    "FuncionDirector[\"return\"]"
   ]
  },
  {
   "cell_type": "code",
   "execution_count": 474,
   "metadata": {},
   "outputs": [
    {
     "name": "stderr",
     "output_type": "stream",
     "text": [
      "C:\\Users\\Aleja\\AppData\\Local\\Temp\\ipykernel_8204\\3350807559.py:1: SettingWithCopyWarning: \n",
      "A value is trying to be set on a copy of a slice from a DataFrame.\n",
      "Try using .loc[row_indexer,col_indexer] = value instead\n",
      "\n",
      "See the caveats in the documentation: https://pandas.pydata.org/pandas-docs/stable/user_guide/indexing.html#returning-a-view-versus-a-copy\n",
      "  FuncionDirector[\"return\"] = FuncionDirector[\"return\"]*100           # Aplicar porcentaje al calculo del retorno.\n"
     ]
    }
   ],
   "source": [
    "FuncionDirector[\"return\"] = FuncionDirector[\"return\"]*100           # Aplicar porcentaje al calculo del retorno."
   ]
  },
  {
   "cell_type": "code",
   "execution_count": 475,
   "metadata": {},
   "outputs": [
    {
     "name": "stdout",
     "output_type": "stream",
     "text": [
      "<class 'pandas.core.frame.DataFrame'>\n",
      "Index: 45363 entries, 0 to 45465\n",
      "Data columns (total 6 columns):\n",
      " #   Column        Non-Null Count  Dtype         \n",
      "---  ------        --------------  -----         \n",
      " 0   id            45363 non-null  int32         \n",
      " 1   title         45363 non-null  object        \n",
      " 2   release_date  45363 non-null  datetime64[ns]\n",
      " 3   return        45363 non-null  float64       \n",
      " 4   budget        45363 non-null  int32         \n",
      " 5   revenue       45363 non-null  float64       \n",
      "dtypes: datetime64[ns](1), float64(2), int32(2), object(1)\n",
      "memory usage: 2.1+ MB\n"
     ]
    }
   ],
   "source": [
    "FuncionDirector.info() #Dataset listo para dar la función."
   ]
  },
  {
   "cell_type": "markdown",
   "metadata": {},
   "source": [
    "Guardar Archivos función get director"
   ]
  },
  {
   "cell_type": "markdown",
   "metadata": {},
   "source": [
    "# CSV FuncionDirector"
   ]
  },
  {
   "cell_type": "code",
   "execution_count": 476,
   "metadata": {},
   "outputs": [],
   "source": [
    "FuncionDirector.to_csv('datasets\\\\FuncionDirector.csv', index=False)"
   ]
  },
  {
   "cell_type": "markdown",
   "metadata": {},
   "source": [
    "# PREPARACION Y DESARROLLO FUNCION RECOMENDACION"
   ]
  },
  {
   "cell_type": "markdown",
   "metadata": {},
   "source": [
    "Función Seleccionada"
   ]
  },
  {
   "cell_type": "code",
   "execution_count": 477,
   "metadata": {},
   "outputs": [],
   "source": [
    "MachineLearning = Movies[[\"id\",\"title\",\"belongs_to_collection\",\"vote_average\",\"overview\",\"production_companies\"]]   #Defino columnas relevantes"
   ]
  },
  {
   "cell_type": "code",
   "execution_count": 478,
   "metadata": {},
   "outputs": [
    {
     "name": "stderr",
     "output_type": "stream",
     "text": [
      "C:\\Users\\Aleja\\AppData\\Local\\Temp\\ipykernel_8204\\127337352.py:1: SettingWithCopyWarning: \n",
      "A value is trying to be set on a copy of a slice from a DataFrame.\n",
      "Try using .loc[row_indexer,col_indexer] = value instead\n",
      "\n",
      "See the caveats in the documentation: https://pandas.pydata.org/pandas-docs/stable/user_guide/indexing.html#returning-a-view-versus-a-copy\n",
      "  MachineLearning['overview'] = MachineLearning['overview'].fillna('')\n"
     ]
    }
   ],
   "source": [
    "MachineLearning['overview'] = MachineLearning['overview'].fillna('')"
   ]
  },
  {
   "cell_type": "markdown",
   "metadata": {},
   "source": [
    "## PREPROCESAMIENTO PARA PLN"
   ]
  },
  {
   "cell_type": "code",
   "execution_count": 479,
   "metadata": {},
   "outputs": [
    {
     "name": "stderr",
     "output_type": "stream",
     "text": [
      "[nltk_data] Downloading package stopwords to\n",
      "[nltk_data]     C:\\Users\\Aleja\\AppData\\Roaming\\nltk_data...\n",
      "[nltk_data]   Package stopwords is already up-to-date!\n",
      "[nltk_data] Downloading package wordnet to\n",
      "[nltk_data]     C:\\Users\\Aleja\\AppData\\Roaming\\nltk_data...\n",
      "[nltk_data]   Package wordnet is already up-to-date!\n",
      "C:\\Users\\Aleja\\AppData\\Local\\Temp\\ipykernel_8204\\3150377302.py:54: SettingWithCopyWarning: \n",
      "A value is trying to be set on a copy of a slice from a DataFrame.\n",
      "Try using .loc[row_indexer,col_indexer] = value instead\n",
      "\n",
      "See the caveats in the documentation: https://pandas.pydata.org/pandas-docs/stable/user_guide/indexing.html#returning-a-view-versus-a-copy\n",
      "  MachineLearning['preprocessed_overview'] = MachineLearning['overview'].apply(preprocess_text)\n"
     ]
    }
   ],
   "source": [
    "import pandas as pd\n",
    "import re\n",
    "import nltk\n",
    "from nltk.corpus import stopwords\n",
    "from nltk.stem import PorterStemmer\n",
    "from nltk.stem import WordNetLemmatizer\n",
    "\n",
    "nltk.download('stopwords')\n",
    "nltk.download('wordnet')\n",
    "\n",
    "\n",
    "# Función para eliminar signos de puntuación\n",
    "def remove_punctuation(text):\n",
    "    return re.sub(r'[^\\w\\s]', '', text)\n",
    "\n",
    "# Función para eliminar números\n",
    "def remove_numbers(text):\n",
    "    return re.sub(r'\\d+', '', text)\n",
    "\n",
    "# Función para convertir a minúsculas\n",
    "def to_lowercase(text):\n",
    "    return text.lower()\n",
    "\n",
    "# Función para eliminar stop words\n",
    "def remove_stopwords(text):\n",
    "    stop_words = set(stopwords.words('english'))\n",
    "    return ' '.join(word for word in text.split() if word not in stop_words)\n",
    "\n",
    "# Función para eliminar espacios en blanco\n",
    "def remove_whitespace(text):\n",
    "    return re.sub(r'\\s+', ' ', text).strip()\n",
    "\n",
    "# Función para aplicar stemming\n",
    "def stemming(text):\n",
    "    stemmer = PorterStemmer()\n",
    "    return ' '.join(stemmer.stem(word) for word in text.split())\n",
    "\n",
    "# Función para aplicar lemmatization                    #NO UTILIZADA\n",
    "def lemmatization(text):\n",
    "    lemmatizer = WordNetLemmatizer()\n",
    "    return ' '.join(lemmatizer.lemmatize(word) for word in text.split())\n",
    "\n",
    "# Preprocesamiento\n",
    "def preprocess_text(text):\n",
    "    text = remove_punctuation(text)\n",
    "    text = remove_numbers(text)\n",
    "    text = to_lowercase(text)\n",
    "    text = remove_stopwords(text)\n",
    "    text = remove_whitespace(text)\n",
    "    # Elegir entre stemming o lemmatization\n",
    "    text = stemming(text)  # O lemmatization(text)\n",
    "    return text\n",
    "\n",
    "MachineLearning['preprocessed_overview'] = MachineLearning['overview'].apply(preprocess_text)\n"
   ]
  },
  {
   "cell_type": "code",
   "execution_count": 480,
   "metadata": {},
   "outputs": [
    {
     "data": {
      "text/html": [
       "<div>\n",
       "<style scoped>\n",
       "    .dataframe tbody tr th:only-of-type {\n",
       "        vertical-align: middle;\n",
       "    }\n",
       "\n",
       "    .dataframe tbody tr th {\n",
       "        vertical-align: top;\n",
       "    }\n",
       "\n",
       "    .dataframe thead th {\n",
       "        text-align: right;\n",
       "    }\n",
       "</style>\n",
       "<table border=\"1\" class=\"dataframe\">\n",
       "  <thead>\n",
       "    <tr style=\"text-align: right;\">\n",
       "      <th></th>\n",
       "      <th>id</th>\n",
       "      <th>title</th>\n",
       "      <th>belongs_to_collection</th>\n",
       "      <th>vote_average</th>\n",
       "      <th>overview</th>\n",
       "      <th>production_companies</th>\n",
       "      <th>preprocessed_overview</th>\n",
       "    </tr>\n",
       "  </thead>\n",
       "  <tbody>\n",
       "    <tr>\n",
       "      <th>0</th>\n",
       "      <td>862</td>\n",
       "      <td>Toy Story</td>\n",
       "      <td>Toy Story Collection</td>\n",
       "      <td>7.7</td>\n",
       "      <td>Led by Woody, Andy's toys live happily in his ...</td>\n",
       "      <td>Pixar Animation Studios</td>\n",
       "      <td>led woodi andi toy live happili room andi birt...</td>\n",
       "    </tr>\n",
       "    <tr>\n",
       "      <th>1</th>\n",
       "      <td>8844</td>\n",
       "      <td>Jumanji</td>\n",
       "      <td>NaN</td>\n",
       "      <td>6.9</td>\n",
       "      <td>When siblings Judy and Peter discover an encha...</td>\n",
       "      <td>TriStar Pictures and Teitler Film and Intersco...</td>\n",
       "      <td>sibl judi peter discov enchant board game open...</td>\n",
       "    </tr>\n",
       "    <tr>\n",
       "      <th>2</th>\n",
       "      <td>15602</td>\n",
       "      <td>Grumpier Old Men</td>\n",
       "      <td>Grumpy Old Men Collection</td>\n",
       "      <td>6.5</td>\n",
       "      <td>A family wedding reignites the ancient feud be...</td>\n",
       "      <td>Warner Bros. and Lancaster Gate</td>\n",
       "      <td>famili wed reignit ancient feud nextdoor neigh...</td>\n",
       "    </tr>\n",
       "    <tr>\n",
       "      <th>3</th>\n",
       "      <td>31357</td>\n",
       "      <td>Waiting to Exhale</td>\n",
       "      <td>NaN</td>\n",
       "      <td>6.1</td>\n",
       "      <td>Cheated on, mistreated and stepped on, the wom...</td>\n",
       "      <td>Twentieth Century Fox Film Corporation</td>\n",
       "      <td>cheat mistreat step women hold breath wait elu...</td>\n",
       "    </tr>\n",
       "    <tr>\n",
       "      <th>4</th>\n",
       "      <td>11862</td>\n",
       "      <td>Father of the Bride Part II</td>\n",
       "      <td>Father of the Bride Collection</td>\n",
       "      <td>5.7</td>\n",
       "      <td>Just when George Banks has recovered from his ...</td>\n",
       "      <td>Sandollar Productions and Touchstone Pictures</td>\n",
       "      <td>georg bank recov daughter wed receiv news she ...</td>\n",
       "    </tr>\n",
       "    <tr>\n",
       "      <th>...</th>\n",
       "      <td>...</td>\n",
       "      <td>...</td>\n",
       "      <td>...</td>\n",
       "      <td>...</td>\n",
       "      <td>...</td>\n",
       "      <td>...</td>\n",
       "      <td>...</td>\n",
       "    </tr>\n",
       "    <tr>\n",
       "      <th>45460</th>\n",
       "      <td>30840</td>\n",
       "      <td>Robin Hood</td>\n",
       "      <td>NaN</td>\n",
       "      <td>5.7</td>\n",
       "      <td>Yet another version of the classic epic, with ...</td>\n",
       "      <td>NaN</td>\n",
       "      <td>yet anoth version classic epic enough variat m...</td>\n",
       "    </tr>\n",
       "    <tr>\n",
       "      <th>45462</th>\n",
       "      <td>111109</td>\n",
       "      <td>Century of Birthing</td>\n",
       "      <td>NaN</td>\n",
       "      <td>9.0</td>\n",
       "      <td>An artist struggles to finish his work while a...</td>\n",
       "      <td>NaN</td>\n",
       "      <td>artist struggl finish work storylin cult play ...</td>\n",
       "    </tr>\n",
       "    <tr>\n",
       "      <th>45463</th>\n",
       "      <td>67758</td>\n",
       "      <td>Betrayal</td>\n",
       "      <td>NaN</td>\n",
       "      <td>3.8</td>\n",
       "      <td>When one of her hits goes wrong, a professiona...</td>\n",
       "      <td>NaN</td>\n",
       "      <td>one hit goe wrong profession assassin end suit...</td>\n",
       "    </tr>\n",
       "    <tr>\n",
       "      <th>45464</th>\n",
       "      <td>227506</td>\n",
       "      <td>Satan Triumphant</td>\n",
       "      <td>NaN</td>\n",
       "      <td>0.0</td>\n",
       "      <td>In a small town live two brothers, one a minis...</td>\n",
       "      <td>NaN</td>\n",
       "      <td>small town live two brother one minist one hun...</td>\n",
       "    </tr>\n",
       "    <tr>\n",
       "      <th>45465</th>\n",
       "      <td>461257</td>\n",
       "      <td>Queerama</td>\n",
       "      <td>NaN</td>\n",
       "      <td>0.0</td>\n",
       "      <td>50 years after decriminalisation of homosexual...</td>\n",
       "      <td>NaN</td>\n",
       "      <td>year decriminalis homosexu uk director daisi a...</td>\n",
       "    </tr>\n",
       "  </tbody>\n",
       "</table>\n",
       "<p>45366 rows × 7 columns</p>\n",
       "</div>"
      ],
      "text/plain": [
       "           id                        title           belongs_to_collection  \\\n",
       "0         862                    Toy Story            Toy Story Collection   \n",
       "1        8844                      Jumanji                             NaN   \n",
       "2       15602             Grumpier Old Men       Grumpy Old Men Collection   \n",
       "3       31357            Waiting to Exhale                             NaN   \n",
       "4       11862  Father of the Bride Part II  Father of the Bride Collection   \n",
       "...       ...                          ...                             ...   \n",
       "45460   30840                   Robin Hood                             NaN   \n",
       "45462  111109          Century of Birthing                             NaN   \n",
       "45463   67758                     Betrayal                             NaN   \n",
       "45464  227506             Satan Triumphant                             NaN   \n",
       "45465  461257                     Queerama                             NaN   \n",
       "\n",
       "       vote_average                                           overview  \\\n",
       "0               7.7  Led by Woody, Andy's toys live happily in his ...   \n",
       "1               6.9  When siblings Judy and Peter discover an encha...   \n",
       "2               6.5  A family wedding reignites the ancient feud be...   \n",
       "3               6.1  Cheated on, mistreated and stepped on, the wom...   \n",
       "4               5.7  Just when George Banks has recovered from his ...   \n",
       "...             ...                                                ...   \n",
       "45460           5.7  Yet another version of the classic epic, with ...   \n",
       "45462           9.0  An artist struggles to finish his work while a...   \n",
       "45463           3.8  When one of her hits goes wrong, a professiona...   \n",
       "45464           0.0  In a small town live two brothers, one a minis...   \n",
       "45465           0.0  50 years after decriminalisation of homosexual...   \n",
       "\n",
       "                                    production_companies  \\\n",
       "0                                Pixar Animation Studios   \n",
       "1      TriStar Pictures and Teitler Film and Intersco...   \n",
       "2                        Warner Bros. and Lancaster Gate   \n",
       "3                 Twentieth Century Fox Film Corporation   \n",
       "4          Sandollar Productions and Touchstone Pictures   \n",
       "...                                                  ...   \n",
       "45460                                                NaN   \n",
       "45462                                                NaN   \n",
       "45463                                                NaN   \n",
       "45464                                                NaN   \n",
       "45465                                                NaN   \n",
       "\n",
       "                                   preprocessed_overview  \n",
       "0      led woodi andi toy live happili room andi birt...  \n",
       "1      sibl judi peter discov enchant board game open...  \n",
       "2      famili wed reignit ancient feud nextdoor neigh...  \n",
       "3      cheat mistreat step women hold breath wait elu...  \n",
       "4      georg bank recov daughter wed receiv news she ...  \n",
       "...                                                  ...  \n",
       "45460  yet anoth version classic epic enough variat m...  \n",
       "45462  artist struggl finish work storylin cult play ...  \n",
       "45463  one hit goe wrong profession assassin end suit...  \n",
       "45464  small town live two brother one minist one hun...  \n",
       "45465  year decriminalis homosexu uk director daisi a...  \n",
       "\n",
       "[45366 rows x 7 columns]"
      ]
     },
     "execution_count": 480,
     "metadata": {},
     "output_type": "execute_result"
    }
   ],
   "source": [
    "MachineLearning     # La salida con el preprocesamiento incluido."
   ]
  },
  {
   "cell_type": "code",
   "execution_count": 481,
   "metadata": {},
   "outputs": [
    {
     "name": "stderr",
     "output_type": "stream",
     "text": [
      "C:\\Users\\Aleja\\AppData\\Local\\Temp\\ipykernel_8204\\1163928806.py:1: SettingWithCopyWarning: \n",
      "A value is trying to be set on a copy of a slice from a DataFrame\n",
      "\n",
      "See the caveats in the documentation: https://pandas.pydata.org/pandas-docs/stable/user_guide/indexing.html#returning-a-view-versus-a-copy\n",
      "  MachineLearning.rename(columns={\"preprocessed_overview\": \"PreProcesamientoStemming\"}, inplace=True)\n"
     ]
    }
   ],
   "source": [
    "MachineLearning.rename(columns={\"preprocessed_overview\": \"PreProcesamientoStemming\"}, inplace=True)"
   ]
  },
  {
   "cell_type": "code",
   "execution_count": 482,
   "metadata": {},
   "outputs": [
    {
     "data": {
      "text/html": [
       "<div>\n",
       "<style scoped>\n",
       "    .dataframe tbody tr th:only-of-type {\n",
       "        vertical-align: middle;\n",
       "    }\n",
       "\n",
       "    .dataframe tbody tr th {\n",
       "        vertical-align: top;\n",
       "    }\n",
       "\n",
       "    .dataframe thead th {\n",
       "        text-align: right;\n",
       "    }\n",
       "</style>\n",
       "<table border=\"1\" class=\"dataframe\">\n",
       "  <thead>\n",
       "    <tr style=\"text-align: right;\">\n",
       "      <th></th>\n",
       "      <th>id</th>\n",
       "      <th>title</th>\n",
       "      <th>belongs_to_collection</th>\n",
       "      <th>vote_average</th>\n",
       "      <th>overview</th>\n",
       "      <th>production_companies</th>\n",
       "      <th>PreProcesamientoStemming</th>\n",
       "    </tr>\n",
       "  </thead>\n",
       "  <tbody>\n",
       "    <tr>\n",
       "      <th>0</th>\n",
       "      <td>862</td>\n",
       "      <td>Toy Story</td>\n",
       "      <td>Toy Story Collection</td>\n",
       "      <td>7.7</td>\n",
       "      <td>Led by Woody, Andy's toys live happily in his ...</td>\n",
       "      <td>Pixar Animation Studios</td>\n",
       "      <td>led woodi andi toy live happili room andi birt...</td>\n",
       "    </tr>\n",
       "    <tr>\n",
       "      <th>1</th>\n",
       "      <td>8844</td>\n",
       "      <td>Jumanji</td>\n",
       "      <td>NaN</td>\n",
       "      <td>6.9</td>\n",
       "      <td>When siblings Judy and Peter discover an encha...</td>\n",
       "      <td>TriStar Pictures and Teitler Film and Intersco...</td>\n",
       "      <td>sibl judi peter discov enchant board game open...</td>\n",
       "    </tr>\n",
       "    <tr>\n",
       "      <th>2</th>\n",
       "      <td>15602</td>\n",
       "      <td>Grumpier Old Men</td>\n",
       "      <td>Grumpy Old Men Collection</td>\n",
       "      <td>6.5</td>\n",
       "      <td>A family wedding reignites the ancient feud be...</td>\n",
       "      <td>Warner Bros. and Lancaster Gate</td>\n",
       "      <td>famili wed reignit ancient feud nextdoor neigh...</td>\n",
       "    </tr>\n",
       "    <tr>\n",
       "      <th>3</th>\n",
       "      <td>31357</td>\n",
       "      <td>Waiting to Exhale</td>\n",
       "      <td>NaN</td>\n",
       "      <td>6.1</td>\n",
       "      <td>Cheated on, mistreated and stepped on, the wom...</td>\n",
       "      <td>Twentieth Century Fox Film Corporation</td>\n",
       "      <td>cheat mistreat step women hold breath wait elu...</td>\n",
       "    </tr>\n",
       "    <tr>\n",
       "      <th>4</th>\n",
       "      <td>11862</td>\n",
       "      <td>Father of the Bride Part II</td>\n",
       "      <td>Father of the Bride Collection</td>\n",
       "      <td>5.7</td>\n",
       "      <td>Just when George Banks has recovered from his ...</td>\n",
       "      <td>Sandollar Productions and Touchstone Pictures</td>\n",
       "      <td>georg bank recov daughter wed receiv news she ...</td>\n",
       "    </tr>\n",
       "    <tr>\n",
       "      <th>...</th>\n",
       "      <td>...</td>\n",
       "      <td>...</td>\n",
       "      <td>...</td>\n",
       "      <td>...</td>\n",
       "      <td>...</td>\n",
       "      <td>...</td>\n",
       "      <td>...</td>\n",
       "    </tr>\n",
       "    <tr>\n",
       "      <th>45460</th>\n",
       "      <td>30840</td>\n",
       "      <td>Robin Hood</td>\n",
       "      <td>NaN</td>\n",
       "      <td>5.7</td>\n",
       "      <td>Yet another version of the classic epic, with ...</td>\n",
       "      <td>NaN</td>\n",
       "      <td>yet anoth version classic epic enough variat m...</td>\n",
       "    </tr>\n",
       "    <tr>\n",
       "      <th>45462</th>\n",
       "      <td>111109</td>\n",
       "      <td>Century of Birthing</td>\n",
       "      <td>NaN</td>\n",
       "      <td>9.0</td>\n",
       "      <td>An artist struggles to finish his work while a...</td>\n",
       "      <td>NaN</td>\n",
       "      <td>artist struggl finish work storylin cult play ...</td>\n",
       "    </tr>\n",
       "    <tr>\n",
       "      <th>45463</th>\n",
       "      <td>67758</td>\n",
       "      <td>Betrayal</td>\n",
       "      <td>NaN</td>\n",
       "      <td>3.8</td>\n",
       "      <td>When one of her hits goes wrong, a professiona...</td>\n",
       "      <td>NaN</td>\n",
       "      <td>one hit goe wrong profession assassin end suit...</td>\n",
       "    </tr>\n",
       "    <tr>\n",
       "      <th>45464</th>\n",
       "      <td>227506</td>\n",
       "      <td>Satan Triumphant</td>\n",
       "      <td>NaN</td>\n",
       "      <td>0.0</td>\n",
       "      <td>In a small town live two brothers, one a minis...</td>\n",
       "      <td>NaN</td>\n",
       "      <td>small town live two brother one minist one hun...</td>\n",
       "    </tr>\n",
       "    <tr>\n",
       "      <th>45465</th>\n",
       "      <td>461257</td>\n",
       "      <td>Queerama</td>\n",
       "      <td>NaN</td>\n",
       "      <td>0.0</td>\n",
       "      <td>50 years after decriminalisation of homosexual...</td>\n",
       "      <td>NaN</td>\n",
       "      <td>year decriminalis homosexu uk director daisi a...</td>\n",
       "    </tr>\n",
       "  </tbody>\n",
       "</table>\n",
       "<p>45366 rows × 7 columns</p>\n",
       "</div>"
      ],
      "text/plain": [
       "           id                        title           belongs_to_collection  \\\n",
       "0         862                    Toy Story            Toy Story Collection   \n",
       "1        8844                      Jumanji                             NaN   \n",
       "2       15602             Grumpier Old Men       Grumpy Old Men Collection   \n",
       "3       31357            Waiting to Exhale                             NaN   \n",
       "4       11862  Father of the Bride Part II  Father of the Bride Collection   \n",
       "...       ...                          ...                             ...   \n",
       "45460   30840                   Robin Hood                             NaN   \n",
       "45462  111109          Century of Birthing                             NaN   \n",
       "45463   67758                     Betrayal                             NaN   \n",
       "45464  227506             Satan Triumphant                             NaN   \n",
       "45465  461257                     Queerama                             NaN   \n",
       "\n",
       "       vote_average                                           overview  \\\n",
       "0               7.7  Led by Woody, Andy's toys live happily in his ...   \n",
       "1               6.9  When siblings Judy and Peter discover an encha...   \n",
       "2               6.5  A family wedding reignites the ancient feud be...   \n",
       "3               6.1  Cheated on, mistreated and stepped on, the wom...   \n",
       "4               5.7  Just when George Banks has recovered from his ...   \n",
       "...             ...                                                ...   \n",
       "45460           5.7  Yet another version of the classic epic, with ...   \n",
       "45462           9.0  An artist struggles to finish his work while a...   \n",
       "45463           3.8  When one of her hits goes wrong, a professiona...   \n",
       "45464           0.0  In a small town live two brothers, one a minis...   \n",
       "45465           0.0  50 years after decriminalisation of homosexual...   \n",
       "\n",
       "                                    production_companies  \\\n",
       "0                                Pixar Animation Studios   \n",
       "1      TriStar Pictures and Teitler Film and Intersco...   \n",
       "2                        Warner Bros. and Lancaster Gate   \n",
       "3                 Twentieth Century Fox Film Corporation   \n",
       "4          Sandollar Productions and Touchstone Pictures   \n",
       "...                                                  ...   \n",
       "45460                                                NaN   \n",
       "45462                                                NaN   \n",
       "45463                                                NaN   \n",
       "45464                                                NaN   \n",
       "45465                                                NaN   \n",
       "\n",
       "                                PreProcesamientoStemming  \n",
       "0      led woodi andi toy live happili room andi birt...  \n",
       "1      sibl judi peter discov enchant board game open...  \n",
       "2      famili wed reignit ancient feud nextdoor neigh...  \n",
       "3      cheat mistreat step women hold breath wait elu...  \n",
       "4      georg bank recov daughter wed receiv news she ...  \n",
       "...                                                  ...  \n",
       "45460  yet anoth version classic epic enough variat m...  \n",
       "45462  artist struggl finish work storylin cult play ...  \n",
       "45463  one hit goe wrong profession assassin end suit...  \n",
       "45464  small town live two brother one minist one hun...  \n",
       "45465  year decriminalis homosexu uk director daisi a...  \n",
       "\n",
       "[45366 rows x 7 columns]"
      ]
     },
     "execution_count": 482,
     "metadata": {},
     "output_type": "execute_result"
    }
   ],
   "source": [
    "MachineLearning"
   ]
  },
  {
   "cell_type": "code",
   "execution_count": 483,
   "metadata": {},
   "outputs": [],
   "source": [
    "MachineLearning.to_csv(\"datasets\\\\MachineLearning.csv\",index=False)       # Esto fue para tener un punto de partida avanzado en caso de cometer alguna mala transformación posterior."
   ]
  },
  {
   "cell_type": "code",
   "execution_count": 484,
   "metadata": {},
   "outputs": [],
   "source": [
    "MachineLearning = pd.read_csv(\"datasets\\\\MachineLearning.csv\")\n"
   ]
  },
  {
   "cell_type": "code",
   "execution_count": 485,
   "metadata": {},
   "outputs": [],
   "source": [
    "# Filtrado de columnas. Eliminar redundancias.\n",
    "\n",
    "MLStemming = MachineLearning[[\"id\",\"title\",\"belongs_to_collection\",\"vote_average\",\"production_companies\",\"PreProcesamientoStemming\"]]"
   ]
  },
  {
   "cell_type": "code",
   "execution_count": 486,
   "metadata": {},
   "outputs": [
    {
     "data": {
      "text/html": [
       "<div>\n",
       "<style scoped>\n",
       "    .dataframe tbody tr th:only-of-type {\n",
       "        vertical-align: middle;\n",
       "    }\n",
       "\n",
       "    .dataframe tbody tr th {\n",
       "        vertical-align: top;\n",
       "    }\n",
       "\n",
       "    .dataframe thead th {\n",
       "        text-align: right;\n",
       "    }\n",
       "</style>\n",
       "<table border=\"1\" class=\"dataframe\">\n",
       "  <thead>\n",
       "    <tr style=\"text-align: right;\">\n",
       "      <th></th>\n",
       "      <th>id</th>\n",
       "      <th>title</th>\n",
       "      <th>belongs_to_collection</th>\n",
       "      <th>vote_average</th>\n",
       "      <th>production_companies</th>\n",
       "      <th>PreProcesamientoStemming</th>\n",
       "    </tr>\n",
       "  </thead>\n",
       "  <tbody>\n",
       "    <tr>\n",
       "      <th>0</th>\n",
       "      <td>862</td>\n",
       "      <td>Toy Story</td>\n",
       "      <td>Toy Story Collection</td>\n",
       "      <td>7.7</td>\n",
       "      <td>Pixar Animation Studios</td>\n",
       "      <td>led woodi andi toy live happili room andi birt...</td>\n",
       "    </tr>\n",
       "    <tr>\n",
       "      <th>1</th>\n",
       "      <td>8844</td>\n",
       "      <td>Jumanji</td>\n",
       "      <td>NaN</td>\n",
       "      <td>6.9</td>\n",
       "      <td>TriStar Pictures and Teitler Film and Intersco...</td>\n",
       "      <td>sibl judi peter discov enchant board game open...</td>\n",
       "    </tr>\n",
       "    <tr>\n",
       "      <th>2</th>\n",
       "      <td>15602</td>\n",
       "      <td>Grumpier Old Men</td>\n",
       "      <td>Grumpy Old Men Collection</td>\n",
       "      <td>6.5</td>\n",
       "      <td>Warner Bros. and Lancaster Gate</td>\n",
       "      <td>famili wed reignit ancient feud nextdoor neigh...</td>\n",
       "    </tr>\n",
       "    <tr>\n",
       "      <th>3</th>\n",
       "      <td>31357</td>\n",
       "      <td>Waiting to Exhale</td>\n",
       "      <td>NaN</td>\n",
       "      <td>6.1</td>\n",
       "      <td>Twentieth Century Fox Film Corporation</td>\n",
       "      <td>cheat mistreat step women hold breath wait elu...</td>\n",
       "    </tr>\n",
       "    <tr>\n",
       "      <th>4</th>\n",
       "      <td>11862</td>\n",
       "      <td>Father of the Bride Part II</td>\n",
       "      <td>Father of the Bride Collection</td>\n",
       "      <td>5.7</td>\n",
       "      <td>Sandollar Productions and Touchstone Pictures</td>\n",
       "      <td>georg bank recov daughter wed receiv news she ...</td>\n",
       "    </tr>\n",
       "    <tr>\n",
       "      <th>...</th>\n",
       "      <td>...</td>\n",
       "      <td>...</td>\n",
       "      <td>...</td>\n",
       "      <td>...</td>\n",
       "      <td>...</td>\n",
       "      <td>...</td>\n",
       "    </tr>\n",
       "    <tr>\n",
       "      <th>45361</th>\n",
       "      <td>30840</td>\n",
       "      <td>Robin Hood</td>\n",
       "      <td>NaN</td>\n",
       "      <td>5.7</td>\n",
       "      <td>NaN</td>\n",
       "      <td>yet anoth version classic epic enough variat m...</td>\n",
       "    </tr>\n",
       "    <tr>\n",
       "      <th>45362</th>\n",
       "      <td>111109</td>\n",
       "      <td>Century of Birthing</td>\n",
       "      <td>NaN</td>\n",
       "      <td>9.0</td>\n",
       "      <td>NaN</td>\n",
       "      <td>artist struggl finish work storylin cult play ...</td>\n",
       "    </tr>\n",
       "    <tr>\n",
       "      <th>45363</th>\n",
       "      <td>67758</td>\n",
       "      <td>Betrayal</td>\n",
       "      <td>NaN</td>\n",
       "      <td>3.8</td>\n",
       "      <td>NaN</td>\n",
       "      <td>one hit goe wrong profession assassin end suit...</td>\n",
       "    </tr>\n",
       "    <tr>\n",
       "      <th>45364</th>\n",
       "      <td>227506</td>\n",
       "      <td>Satan Triumphant</td>\n",
       "      <td>NaN</td>\n",
       "      <td>0.0</td>\n",
       "      <td>NaN</td>\n",
       "      <td>small town live two brother one minist one hun...</td>\n",
       "    </tr>\n",
       "    <tr>\n",
       "      <th>45365</th>\n",
       "      <td>461257</td>\n",
       "      <td>Queerama</td>\n",
       "      <td>NaN</td>\n",
       "      <td>0.0</td>\n",
       "      <td>NaN</td>\n",
       "      <td>year decriminalis homosexu uk director daisi a...</td>\n",
       "    </tr>\n",
       "  </tbody>\n",
       "</table>\n",
       "<p>45366 rows × 6 columns</p>\n",
       "</div>"
      ],
      "text/plain": [
       "           id                        title           belongs_to_collection  \\\n",
       "0         862                    Toy Story            Toy Story Collection   \n",
       "1        8844                      Jumanji                             NaN   \n",
       "2       15602             Grumpier Old Men       Grumpy Old Men Collection   \n",
       "3       31357            Waiting to Exhale                             NaN   \n",
       "4       11862  Father of the Bride Part II  Father of the Bride Collection   \n",
       "...       ...                          ...                             ...   \n",
       "45361   30840                   Robin Hood                             NaN   \n",
       "45362  111109          Century of Birthing                             NaN   \n",
       "45363   67758                     Betrayal                             NaN   \n",
       "45364  227506             Satan Triumphant                             NaN   \n",
       "45365  461257                     Queerama                             NaN   \n",
       "\n",
       "       vote_average                               production_companies  \\\n",
       "0               7.7                            Pixar Animation Studios   \n",
       "1               6.9  TriStar Pictures and Teitler Film and Intersco...   \n",
       "2               6.5                    Warner Bros. and Lancaster Gate   \n",
       "3               6.1             Twentieth Century Fox Film Corporation   \n",
       "4               5.7      Sandollar Productions and Touchstone Pictures   \n",
       "...             ...                                                ...   \n",
       "45361           5.7                                                NaN   \n",
       "45362           9.0                                                NaN   \n",
       "45363           3.8                                                NaN   \n",
       "45364           0.0                                                NaN   \n",
       "45365           0.0                                                NaN   \n",
       "\n",
       "                                PreProcesamientoStemming  \n",
       "0      led woodi andi toy live happili room andi birt...  \n",
       "1      sibl judi peter discov enchant board game open...  \n",
       "2      famili wed reignit ancient feud nextdoor neigh...  \n",
       "3      cheat mistreat step women hold breath wait elu...  \n",
       "4      georg bank recov daughter wed receiv news she ...  \n",
       "...                                                  ...  \n",
       "45361  yet anoth version classic epic enough variat m...  \n",
       "45362  artist struggl finish work storylin cult play ...  \n",
       "45363  one hit goe wrong profession assassin end suit...  \n",
       "45364  small town live two brother one minist one hun...  \n",
       "45365  year decriminalis homosexu uk director daisi a...  \n",
       "\n",
       "[45366 rows x 6 columns]"
      ]
     },
     "execution_count": 486,
     "metadata": {},
     "output_type": "execute_result"
    }
   ],
   "source": [
    "MLStemming"
   ]
  },
  {
   "cell_type": "code",
   "execution_count": 487,
   "metadata": {},
   "outputs": [
    {
     "name": "stdout",
     "output_type": "stream",
     "text": [
      "<class 'pandas.core.frame.DataFrame'>\n",
      "RangeIndex: 45366 entries, 0 to 45365\n",
      "Data columns (total 6 columns):\n",
      " #   Column                    Non-Null Count  Dtype  \n",
      "---  ------                    --------------  -----  \n",
      " 0   id                        45366 non-null  object \n",
      " 1   title                     45363 non-null  object \n",
      " 2   belongs_to_collection     4479 non-null   object \n",
      " 3   vote_average              45363 non-null  float64\n",
      " 4   production_companies      33511 non-null  object \n",
      " 5   PreProcesamientoStemming  44419 non-null  object \n",
      "dtypes: float64(1), object(5)\n",
      "memory usage: 2.1+ MB\n"
     ]
    }
   ],
   "source": [
    "MLStemming.info()"
   ]
  },
  {
   "cell_type": "markdown",
   "metadata": {},
   "source": [
    "Tarda entre 6 y 9 minutos para ejecutarse , una vez tardó 18. Procesador Intel i7 7ma gen con 32 gb ddr4."
   ]
  },
  {
   "cell_type": "code",
   "execution_count": 488,
   "metadata": {},
   "outputs": [
    {
     "name": "stdout",
     "output_type": "stream",
     "text": [
      "      id                        title  \\\n",
      "0    862                    Toy Story   \n",
      "1   8844                      Jumanji   \n",
      "2  15602             Grumpier Old Men   \n",
      "3  31357            Waiting to Exhale   \n",
      "4  11862  Father of the Bride Part II   \n",
      "\n",
      "                                              tokens  \n",
      "0  [led, woodi, andi, toy, live, happili, room, a...  \n",
      "1  [sibl, judi, peter, discov, enchant, board, ga...  \n",
      "2  [famili, we, d, reignit, ancient, feud, nextdo...  \n",
      "3  [cheat, mistreat, step, women, hold, breath, w...  \n",
      "4  [georg, bank, recov, daughter, we, d, receiv, ...  \n"
     ]
    }
   ],
   "source": [
    "import pandas as pd\n",
    "import spacy\n",
    "\n",
    "# Cargar modelo Spacy, asegurar lenguaje acorde.\n",
    "nlp = spacy.load('en_core_web_sm')\n",
    "\n",
    "# Definir la función de tokenización.\n",
    "def tokenizar_texto(texto):\n",
    "    if isinstance(texto, str):  # Corroborar que la entrada sea un str.\n",
    "        doc = nlp(texto)\n",
    "        return [token.text for token in doc]\n",
    "    else:\n",
    "        return []  # Devuelve una lista vacia en caso de que no sea str.\n",
    "\n",
    "# Aplicar a la columna preprocesada.\n",
    "MLStemming['tokens'] = MLStemming['PreProcesamientoStemming'].apply(tokenizar_texto)\n",
    "\n",
    "print(MLStemming[['id', 'title', 'tokens']].head())"
   ]
  },
  {
   "cell_type": "code",
   "execution_count": 489,
   "metadata": {},
   "outputs": [],
   "source": [
    "MLStemmingTokenizado = MLStemming"
   ]
  },
  {
   "cell_type": "code",
   "execution_count": 490,
   "metadata": {},
   "outputs": [],
   "source": [
    "MLStemmingTokenizado.to_csv(\"datasets\\\\MLStemmingTokenizado.csv\",index=False)     # Misma lógica que el anterior guardado."
   ]
  },
  {
   "cell_type": "code",
   "execution_count": 492,
   "metadata": {},
   "outputs": [],
   "source": [
    "data = pd.read_csv(\"datasets\\\\MLStemmingTokenizado.csv\")"
   ]
  },
  {
   "cell_type": "code",
   "execution_count": 493,
   "metadata": {},
   "outputs": [
    {
     "data": {
      "text/html": [
       "<div>\n",
       "<style scoped>\n",
       "    .dataframe tbody tr th:only-of-type {\n",
       "        vertical-align: middle;\n",
       "    }\n",
       "\n",
       "    .dataframe tbody tr th {\n",
       "        vertical-align: top;\n",
       "    }\n",
       "\n",
       "    .dataframe thead th {\n",
       "        text-align: right;\n",
       "    }\n",
       "</style>\n",
       "<table border=\"1\" class=\"dataframe\">\n",
       "  <thead>\n",
       "    <tr style=\"text-align: right;\">\n",
       "      <th></th>\n",
       "      <th>id</th>\n",
       "      <th>title</th>\n",
       "      <th>belongs_to_collection</th>\n",
       "      <th>vote_average</th>\n",
       "      <th>production_companies</th>\n",
       "      <th>PreProcesamientoStemming</th>\n",
       "      <th>tokens</th>\n",
       "    </tr>\n",
       "  </thead>\n",
       "  <tbody>\n",
       "    <tr>\n",
       "      <th>0</th>\n",
       "      <td>862</td>\n",
       "      <td>Toy Story</td>\n",
       "      <td>Toy Story Collection</td>\n",
       "      <td>7.7</td>\n",
       "      <td>Pixar Animation Studios</td>\n",
       "      <td>led woodi andi toy live happili room andi birt...</td>\n",
       "      <td>['led', 'woodi', 'andi', 'toy', 'live', 'happi...</td>\n",
       "    </tr>\n",
       "    <tr>\n",
       "      <th>1</th>\n",
       "      <td>8844</td>\n",
       "      <td>Jumanji</td>\n",
       "      <td>NaN</td>\n",
       "      <td>6.9</td>\n",
       "      <td>TriStar Pictures and Teitler Film and Intersco...</td>\n",
       "      <td>sibl judi peter discov enchant board game open...</td>\n",
       "      <td>['sibl', 'judi', 'peter', 'discov', 'enchant',...</td>\n",
       "    </tr>\n",
       "    <tr>\n",
       "      <th>2</th>\n",
       "      <td>15602</td>\n",
       "      <td>Grumpier Old Men</td>\n",
       "      <td>Grumpy Old Men Collection</td>\n",
       "      <td>6.5</td>\n",
       "      <td>Warner Bros. and Lancaster Gate</td>\n",
       "      <td>famili wed reignit ancient feud nextdoor neigh...</td>\n",
       "      <td>['famili', 'we', 'd', 'reignit', 'ancient', 'f...</td>\n",
       "    </tr>\n",
       "    <tr>\n",
       "      <th>3</th>\n",
       "      <td>31357</td>\n",
       "      <td>Waiting to Exhale</td>\n",
       "      <td>NaN</td>\n",
       "      <td>6.1</td>\n",
       "      <td>Twentieth Century Fox Film Corporation</td>\n",
       "      <td>cheat mistreat step women hold breath wait elu...</td>\n",
       "      <td>['cheat', 'mistreat', 'step', 'women', 'hold',...</td>\n",
       "    </tr>\n",
       "    <tr>\n",
       "      <th>4</th>\n",
       "      <td>11862</td>\n",
       "      <td>Father of the Bride Part II</td>\n",
       "      <td>Father of the Bride Collection</td>\n",
       "      <td>5.7</td>\n",
       "      <td>Sandollar Productions and Touchstone Pictures</td>\n",
       "      <td>georg bank recov daughter wed receiv news she ...</td>\n",
       "      <td>['georg', 'bank', 'recov', 'daughter', 'we', '...</td>\n",
       "    </tr>\n",
       "    <tr>\n",
       "      <th>...</th>\n",
       "      <td>...</td>\n",
       "      <td>...</td>\n",
       "      <td>...</td>\n",
       "      <td>...</td>\n",
       "      <td>...</td>\n",
       "      <td>...</td>\n",
       "      <td>...</td>\n",
       "    </tr>\n",
       "    <tr>\n",
       "      <th>45361</th>\n",
       "      <td>30840</td>\n",
       "      <td>Robin Hood</td>\n",
       "      <td>NaN</td>\n",
       "      <td>5.7</td>\n",
       "      <td>NaN</td>\n",
       "      <td>yet anoth version classic epic enough variat m...</td>\n",
       "      <td>['yet', 'anoth', 'version', 'classic', 'epic',...</td>\n",
       "    </tr>\n",
       "    <tr>\n",
       "      <th>45362</th>\n",
       "      <td>111109</td>\n",
       "      <td>Century of Birthing</td>\n",
       "      <td>NaN</td>\n",
       "      <td>9.0</td>\n",
       "      <td>NaN</td>\n",
       "      <td>artist struggl finish work storylin cult play ...</td>\n",
       "      <td>['artist', 'struggl', 'finish', 'work', 'story...</td>\n",
       "    </tr>\n",
       "    <tr>\n",
       "      <th>45363</th>\n",
       "      <td>67758</td>\n",
       "      <td>Betrayal</td>\n",
       "      <td>NaN</td>\n",
       "      <td>3.8</td>\n",
       "      <td>NaN</td>\n",
       "      <td>one hit goe wrong profession assassin end suit...</td>\n",
       "      <td>['one', 'hit', 'goe', 'wrong', 'profession', '...</td>\n",
       "    </tr>\n",
       "    <tr>\n",
       "      <th>45364</th>\n",
       "      <td>227506</td>\n",
       "      <td>Satan Triumphant</td>\n",
       "      <td>NaN</td>\n",
       "      <td>0.0</td>\n",
       "      <td>NaN</td>\n",
       "      <td>small town live two brother one minist one hun...</td>\n",
       "      <td>['small', 'town', 'live', 'two', 'brother', 'o...</td>\n",
       "    </tr>\n",
       "    <tr>\n",
       "      <th>45365</th>\n",
       "      <td>461257</td>\n",
       "      <td>Queerama</td>\n",
       "      <td>NaN</td>\n",
       "      <td>0.0</td>\n",
       "      <td>NaN</td>\n",
       "      <td>year decriminalis homosexu uk director daisi a...</td>\n",
       "      <td>['year', 'decriminalis', 'homosexu', 'uk', 'di...</td>\n",
       "    </tr>\n",
       "  </tbody>\n",
       "</table>\n",
       "<p>45366 rows × 7 columns</p>\n",
       "</div>"
      ],
      "text/plain": [
       "           id                        title           belongs_to_collection  \\\n",
       "0         862                    Toy Story            Toy Story Collection   \n",
       "1        8844                      Jumanji                             NaN   \n",
       "2       15602             Grumpier Old Men       Grumpy Old Men Collection   \n",
       "3       31357            Waiting to Exhale                             NaN   \n",
       "4       11862  Father of the Bride Part II  Father of the Bride Collection   \n",
       "...       ...                          ...                             ...   \n",
       "45361   30840                   Robin Hood                             NaN   \n",
       "45362  111109          Century of Birthing                             NaN   \n",
       "45363   67758                     Betrayal                             NaN   \n",
       "45364  227506             Satan Triumphant                             NaN   \n",
       "45365  461257                     Queerama                             NaN   \n",
       "\n",
       "       vote_average                               production_companies  \\\n",
       "0               7.7                            Pixar Animation Studios   \n",
       "1               6.9  TriStar Pictures and Teitler Film and Intersco...   \n",
       "2               6.5                    Warner Bros. and Lancaster Gate   \n",
       "3               6.1             Twentieth Century Fox Film Corporation   \n",
       "4               5.7      Sandollar Productions and Touchstone Pictures   \n",
       "...             ...                                                ...   \n",
       "45361           5.7                                                NaN   \n",
       "45362           9.0                                                NaN   \n",
       "45363           3.8                                                NaN   \n",
       "45364           0.0                                                NaN   \n",
       "45365           0.0                                                NaN   \n",
       "\n",
       "                                PreProcesamientoStemming  \\\n",
       "0      led woodi andi toy live happili room andi birt...   \n",
       "1      sibl judi peter discov enchant board game open...   \n",
       "2      famili wed reignit ancient feud nextdoor neigh...   \n",
       "3      cheat mistreat step women hold breath wait elu...   \n",
       "4      georg bank recov daughter wed receiv news she ...   \n",
       "...                                                  ...   \n",
       "45361  yet anoth version classic epic enough variat m...   \n",
       "45362  artist struggl finish work storylin cult play ...   \n",
       "45363  one hit goe wrong profession assassin end suit...   \n",
       "45364  small town live two brother one minist one hun...   \n",
       "45365  year decriminalis homosexu uk director daisi a...   \n",
       "\n",
       "                                                  tokens  \n",
       "0      ['led', 'woodi', 'andi', 'toy', 'live', 'happi...  \n",
       "1      ['sibl', 'judi', 'peter', 'discov', 'enchant',...  \n",
       "2      ['famili', 'we', 'd', 'reignit', 'ancient', 'f...  \n",
       "3      ['cheat', 'mistreat', 'step', 'women', 'hold',...  \n",
       "4      ['georg', 'bank', 'recov', 'daughter', 'we', '...  \n",
       "...                                                  ...  \n",
       "45361  ['yet', 'anoth', 'version', 'classic', 'epic',...  \n",
       "45362  ['artist', 'struggl', 'finish', 'work', 'story...  \n",
       "45363  ['one', 'hit', 'goe', 'wrong', 'profession', '...  \n",
       "45364  ['small', 'town', 'live', 'two', 'brother', 'o...  \n",
       "45365  ['year', 'decriminalis', 'homosexu', 'uk', 'di...  \n",
       "\n",
       "[45366 rows x 7 columns]"
      ]
     },
     "execution_count": 493,
     "metadata": {},
     "output_type": "execute_result"
    }
   ],
   "source": [
    "data"
   ]
  },
  {
   "cell_type": "code",
   "execution_count": 494,
   "metadata": {},
   "outputs": [
    {
     "data": {
      "text/plain": [
       "Index(['id', 'title', 'belongs_to_collection', 'vote_average',\n",
       "       'production_companies', 'PreProcesamientoStemming', 'tokens'],\n",
       "      dtype='object')"
      ]
     },
     "execution_count": 494,
     "metadata": {},
     "output_type": "execute_result"
    }
   ],
   "source": [
    "data.columns"
   ]
  },
  {
   "cell_type": "code",
   "execution_count": 495,
   "metadata": {},
   "outputs": [],
   "source": [
    "data = data[[\"id\",\"title\",\"vote_average\",\"tokens\"]]         # Dataframe bien refinado para la función. Aún falta pulir."
   ]
  },
  {
   "cell_type": "code",
   "execution_count": 496,
   "metadata": {},
   "outputs": [
    {
     "name": "stdout",
     "output_type": "stream",
     "text": [
      "<class 'pandas.core.frame.DataFrame'>\n",
      "RangeIndex: 45366 entries, 0 to 45365\n",
      "Data columns (total 4 columns):\n",
      " #   Column        Non-Null Count  Dtype  \n",
      "---  ------        --------------  -----  \n",
      " 0   id            45366 non-null  object \n",
      " 1   title         45363 non-null  object \n",
      " 2   vote_average  45363 non-null  float64\n",
      " 3   tokens        45366 non-null  object \n",
      "dtypes: float64(1), object(3)\n",
      "memory usage: 1.4+ MB\n"
     ]
    }
   ],
   "source": [
    "data.info()"
   ]
  },
  {
   "cell_type": "code",
   "execution_count": 497,
   "metadata": {},
   "outputs": [
    {
     "data": {
      "text/html": [
       "<div>\n",
       "<style scoped>\n",
       "    .dataframe tbody tr th:only-of-type {\n",
       "        vertical-align: middle;\n",
       "    }\n",
       "\n",
       "    .dataframe tbody tr th {\n",
       "        vertical-align: top;\n",
       "    }\n",
       "\n",
       "    .dataframe thead th {\n",
       "        text-align: right;\n",
       "    }\n",
       "</style>\n",
       "<table border=\"1\" class=\"dataframe\">\n",
       "  <thead>\n",
       "    <tr style=\"text-align: right;\">\n",
       "      <th></th>\n",
       "      <th>id</th>\n",
       "      <th>title</th>\n",
       "      <th>vote_average</th>\n",
       "      <th>tokens</th>\n",
       "    </tr>\n",
       "  </thead>\n",
       "  <tbody>\n",
       "    <tr>\n",
       "      <th>0</th>\n",
       "      <td>862</td>\n",
       "      <td>Toy Story</td>\n",
       "      <td>7.7</td>\n",
       "      <td>['led', 'woodi', 'andi', 'toy', 'live', 'happi...</td>\n",
       "    </tr>\n",
       "    <tr>\n",
       "      <th>1</th>\n",
       "      <td>8844</td>\n",
       "      <td>Jumanji</td>\n",
       "      <td>6.9</td>\n",
       "      <td>['sibl', 'judi', 'peter', 'discov', 'enchant',...</td>\n",
       "    </tr>\n",
       "    <tr>\n",
       "      <th>2</th>\n",
       "      <td>15602</td>\n",
       "      <td>Grumpier Old Men</td>\n",
       "      <td>6.5</td>\n",
       "      <td>['famili', 'we', 'd', 'reignit', 'ancient', 'f...</td>\n",
       "    </tr>\n",
       "    <tr>\n",
       "      <th>3</th>\n",
       "      <td>31357</td>\n",
       "      <td>Waiting to Exhale</td>\n",
       "      <td>6.1</td>\n",
       "      <td>['cheat', 'mistreat', 'step', 'women', 'hold',...</td>\n",
       "    </tr>\n",
       "    <tr>\n",
       "      <th>4</th>\n",
       "      <td>11862</td>\n",
       "      <td>Father of the Bride Part II</td>\n",
       "      <td>5.7</td>\n",
       "      <td>['georg', 'bank', 'recov', 'daughter', 'we', '...</td>\n",
       "    </tr>\n",
       "    <tr>\n",
       "      <th>...</th>\n",
       "      <td>...</td>\n",
       "      <td>...</td>\n",
       "      <td>...</td>\n",
       "      <td>...</td>\n",
       "    </tr>\n",
       "    <tr>\n",
       "      <th>45361</th>\n",
       "      <td>30840</td>\n",
       "      <td>Robin Hood</td>\n",
       "      <td>5.7</td>\n",
       "      <td>['yet', 'anoth', 'version', 'classic', 'epic',...</td>\n",
       "    </tr>\n",
       "    <tr>\n",
       "      <th>45362</th>\n",
       "      <td>111109</td>\n",
       "      <td>Century of Birthing</td>\n",
       "      <td>9.0</td>\n",
       "      <td>['artist', 'struggl', 'finish', 'work', 'story...</td>\n",
       "    </tr>\n",
       "    <tr>\n",
       "      <th>45363</th>\n",
       "      <td>67758</td>\n",
       "      <td>Betrayal</td>\n",
       "      <td>3.8</td>\n",
       "      <td>['one', 'hit', 'goe', 'wrong', 'profession', '...</td>\n",
       "    </tr>\n",
       "    <tr>\n",
       "      <th>45364</th>\n",
       "      <td>227506</td>\n",
       "      <td>Satan Triumphant</td>\n",
       "      <td>0.0</td>\n",
       "      <td>['small', 'town', 'live', 'two', 'brother', 'o...</td>\n",
       "    </tr>\n",
       "    <tr>\n",
       "      <th>45365</th>\n",
       "      <td>461257</td>\n",
       "      <td>Queerama</td>\n",
       "      <td>0.0</td>\n",
       "      <td>['year', 'decriminalis', 'homosexu', 'uk', 'di...</td>\n",
       "    </tr>\n",
       "  </tbody>\n",
       "</table>\n",
       "<p>45366 rows × 4 columns</p>\n",
       "</div>"
      ],
      "text/plain": [
       "           id                        title  vote_average  \\\n",
       "0         862                    Toy Story           7.7   \n",
       "1        8844                      Jumanji           6.9   \n",
       "2       15602             Grumpier Old Men           6.5   \n",
       "3       31357            Waiting to Exhale           6.1   \n",
       "4       11862  Father of the Bride Part II           5.7   \n",
       "...       ...                          ...           ...   \n",
       "45361   30840                   Robin Hood           5.7   \n",
       "45362  111109          Century of Birthing           9.0   \n",
       "45363   67758                     Betrayal           3.8   \n",
       "45364  227506             Satan Triumphant           0.0   \n",
       "45365  461257                     Queerama           0.0   \n",
       "\n",
       "                                                  tokens  \n",
       "0      ['led', 'woodi', 'andi', 'toy', 'live', 'happi...  \n",
       "1      ['sibl', 'judi', 'peter', 'discov', 'enchant',...  \n",
       "2      ['famili', 'we', 'd', 'reignit', 'ancient', 'f...  \n",
       "3      ['cheat', 'mistreat', 'step', 'women', 'hold',...  \n",
       "4      ['georg', 'bank', 'recov', 'daughter', 'we', '...  \n",
       "...                                                  ...  \n",
       "45361  ['yet', 'anoth', 'version', 'classic', 'epic',...  \n",
       "45362  ['artist', 'struggl', 'finish', 'work', 'story...  \n",
       "45363  ['one', 'hit', 'goe', 'wrong', 'profession', '...  \n",
       "45364  ['small', 'town', 'live', 'two', 'brother', 'o...  \n",
       "45365  ['year', 'decriminalis', 'homosexu', 'uk', 'di...  \n",
       "\n",
       "[45366 rows x 4 columns]"
      ]
     },
     "execution_count": 497,
     "metadata": {},
     "output_type": "execute_result"
    }
   ],
   "source": [
    "data"
   ]
  },
  {
   "cell_type": "code",
   "execution_count": 498,
   "metadata": {},
   "outputs": [
    {
     "name": "stdout",
     "output_type": "stream",
     "text": [
      "Total de palabras en la columna tokens: 13095185\n"
     ]
    }
   ],
   "source": [
    "total_palabras = data['tokens'].apply(len).sum()\n",
    "print(f'Total de palabras en la columna tokens: {total_palabras}')          # Es muy extenso para desarrollar matrices TF - IDF."
   ]
  },
  {
   "cell_type": "markdown",
   "metadata": {},
   "source": [
    "TOTAL DE PALABRAS EN COLUMNA TOKENS 13,095,185"
   ]
  },
  {
   "cell_type": "code",
   "execution_count": 501,
   "metadata": {},
   "outputs": [
    {
     "data": {
      "text/html": [
       "<div>\n",
       "<style scoped>\n",
       "    .dataframe tbody tr th:only-of-type {\n",
       "        vertical-align: middle;\n",
       "    }\n",
       "\n",
       "    .dataframe tbody tr th {\n",
       "        vertical-align: top;\n",
       "    }\n",
       "\n",
       "    .dataframe thead th {\n",
       "        text-align: right;\n",
       "    }\n",
       "</style>\n",
       "<table border=\"1\" class=\"dataframe\">\n",
       "  <thead>\n",
       "    <tr style=\"text-align: right;\">\n",
       "      <th></th>\n",
       "      <th>id</th>\n",
       "      <th>title</th>\n",
       "      <th>vote_average</th>\n",
       "      <th>tokens</th>\n",
       "    </tr>\n",
       "  </thead>\n",
       "  <tbody>\n",
       "    <tr>\n",
       "      <th>0</th>\n",
       "      <td>862</td>\n",
       "      <td>Toy Story</td>\n",
       "      <td>7.7</td>\n",
       "      <td>['led', 'woodi', 'andi', 'toy', 'live', 'happi...</td>\n",
       "    </tr>\n",
       "    <tr>\n",
       "      <th>1</th>\n",
       "      <td>8844</td>\n",
       "      <td>Jumanji</td>\n",
       "      <td>6.9</td>\n",
       "      <td>['sibl', 'judi', 'peter', 'discov', 'enchant',...</td>\n",
       "    </tr>\n",
       "    <tr>\n",
       "      <th>2</th>\n",
       "      <td>15602</td>\n",
       "      <td>Grumpier Old Men</td>\n",
       "      <td>6.5</td>\n",
       "      <td>['famili', 'we', 'd', 'reignit', 'ancient', 'f...</td>\n",
       "    </tr>\n",
       "    <tr>\n",
       "      <th>3</th>\n",
       "      <td>31357</td>\n",
       "      <td>Waiting to Exhale</td>\n",
       "      <td>6.1</td>\n",
       "      <td>['cheat', 'mistreat', 'step', 'women', 'hold',...</td>\n",
       "    </tr>\n",
       "    <tr>\n",
       "      <th>4</th>\n",
       "      <td>11862</td>\n",
       "      <td>Father of the Bride Part II</td>\n",
       "      <td>5.7</td>\n",
       "      <td>['georg', 'bank', 'recov', 'daughter', 'we', '...</td>\n",
       "    </tr>\n",
       "    <tr>\n",
       "      <th>...</th>\n",
       "      <td>...</td>\n",
       "      <td>...</td>\n",
       "      <td>...</td>\n",
       "      <td>...</td>\n",
       "    </tr>\n",
       "    <tr>\n",
       "      <th>45361</th>\n",
       "      <td>30840</td>\n",
       "      <td>Robin Hood</td>\n",
       "      <td>5.7</td>\n",
       "      <td>['yet', 'anoth', 'version', 'classic', 'epic',...</td>\n",
       "    </tr>\n",
       "    <tr>\n",
       "      <th>45362</th>\n",
       "      <td>111109</td>\n",
       "      <td>Century of Birthing</td>\n",
       "      <td>9.0</td>\n",
       "      <td>['artist', 'struggl', 'finish', 'work', 'story...</td>\n",
       "    </tr>\n",
       "    <tr>\n",
       "      <th>45363</th>\n",
       "      <td>67758</td>\n",
       "      <td>Betrayal</td>\n",
       "      <td>3.8</td>\n",
       "      <td>['one', 'hit', 'goe', 'wrong', 'profession', '...</td>\n",
       "    </tr>\n",
       "    <tr>\n",
       "      <th>45364</th>\n",
       "      <td>227506</td>\n",
       "      <td>Satan Triumphant</td>\n",
       "      <td>0.0</td>\n",
       "      <td>['small', 'town', 'live', 'two', 'brother', 'o...</td>\n",
       "    </tr>\n",
       "    <tr>\n",
       "      <th>45365</th>\n",
       "      <td>461257</td>\n",
       "      <td>Queerama</td>\n",
       "      <td>0.0</td>\n",
       "      <td>['year', 'decriminalis', 'homosexu', 'uk', 'di...</td>\n",
       "    </tr>\n",
       "  </tbody>\n",
       "</table>\n",
       "<p>45366 rows × 4 columns</p>\n",
       "</div>"
      ],
      "text/plain": [
       "           id                        title  vote_average  \\\n",
       "0         862                    Toy Story           7.7   \n",
       "1        8844                      Jumanji           6.9   \n",
       "2       15602             Grumpier Old Men           6.5   \n",
       "3       31357            Waiting to Exhale           6.1   \n",
       "4       11862  Father of the Bride Part II           5.7   \n",
       "...       ...                          ...           ...   \n",
       "45361   30840                   Robin Hood           5.7   \n",
       "45362  111109          Century of Birthing           9.0   \n",
       "45363   67758                     Betrayal           3.8   \n",
       "45364  227506             Satan Triumphant           0.0   \n",
       "45365  461257                     Queerama           0.0   \n",
       "\n",
       "                                                  tokens  \n",
       "0      ['led', 'woodi', 'andi', 'toy', 'live', 'happi...  \n",
       "1      ['sibl', 'judi', 'peter', 'discov', 'enchant',...  \n",
       "2      ['famili', 'we', 'd', 'reignit', 'ancient', 'f...  \n",
       "3      ['cheat', 'mistreat', 'step', 'women', 'hold',...  \n",
       "4      ['georg', 'bank', 'recov', 'daughter', 'we', '...  \n",
       "...                                                  ...  \n",
       "45361  ['yet', 'anoth', 'version', 'classic', 'epic',...  \n",
       "45362  ['artist', 'struggl', 'finish', 'work', 'story...  \n",
       "45363  ['one', 'hit', 'goe', 'wrong', 'profession', '...  \n",
       "45364  ['small', 'town', 'live', 'two', 'brother', 'o...  \n",
       "45365  ['year', 'decriminalis', 'homosexu', 'uk', 'di...  \n",
       "\n",
       "[45366 rows x 4 columns]"
      ]
     },
     "execution_count": 501,
     "metadata": {},
     "output_type": "execute_result"
    }
   ],
   "source": [
    "data"
   ]
  },
  {
   "cell_type": "code",
   "execution_count": 502,
   "metadata": {},
   "outputs": [
    {
     "name": "stderr",
     "output_type": "stream",
     "text": [
      "[nltk_data] Downloading package stopwords to\n",
      "[nltk_data]     C:\\Users\\Aleja\\AppData\\Roaming\\nltk_data...\n",
      "[nltk_data]   Package stopwords is already up-to-date!\n",
      "C:\\Users\\Aleja\\AppData\\Local\\Temp\\ipykernel_8204\\3546602040.py:10: SettingWithCopyWarning: \n",
      "A value is trying to be set on a copy of a slice from a DataFrame.\n",
      "Try using .loc[row_indexer,col_indexer] = value instead\n",
      "\n",
      "See the caveats in the documentation: https://pandas.pydata.org/pandas-docs/stable/user_guide/indexing.html#returning-a-view-versus-a-copy\n",
      "  data['tokens'] = data['tokens'].apply(ast.literal_eval)\n"
     ]
    },
    {
     "name": "stdout",
     "output_type": "stream",
     "text": [
      "      id                        title  vote_average  \\\n",
      "0    862                    Toy Story           7.7   \n",
      "1   8844                      Jumanji           6.9   \n",
      "2  15602             Grumpier Old Men           6.5   \n",
      "3  31357            Waiting to Exhale           6.1   \n",
      "4  11862  Father of the Bride Part II           5.7   \n",
      "\n",
      "                                     filtered_tokens  \n",
      "0  [woodi, andi, buzz, live, happili, room, birth...  \n",
      "1  [game, alan, sibl, judi, peter, discov, enchan...  \n",
      "2  [fish, local, famili, reignit, ancient, feud, ...  \n",
      "3  [breath, cheat, mistreat, step, women, hold, w...  \n",
      "4  [georg, plan, bank, recov, daughter, receiv, n...  \n"
     ]
    },
    {
     "name": "stderr",
     "output_type": "stream",
     "text": [
      "C:\\Users\\Aleja\\AppData\\Local\\Temp\\ipykernel_8204\\3546602040.py:21: SettingWithCopyWarning: \n",
      "A value is trying to be set on a copy of a slice from a DataFrame.\n",
      "Try using .loc[row_indexer,col_indexer] = value instead\n",
      "\n",
      "See the caveats in the documentation: https://pandas.pydata.org/pandas-docs/stable/user_guide/indexing.html#returning-a-view-versus-a-copy\n",
      "  data['filtered_tokens'] = data['tokens'].apply(filter_relevant_tokens)\n"
     ]
    }
   ],
   "source": [
    "import pandas as pd\n",
    "from collections import Counter\n",
    "from nltk.corpus import stopwords\n",
    "import ast\n",
    "import nltk\n",
    "\n",
    "nltk.download('stopwords')\n",
    "\n",
    "# Convierte 'tokens' a listas si es necesario. Ha sido un dolor de cabeza.\n",
    "data['tokens'] = data['tokens'].apply(ast.literal_eval)\n",
    "\n",
    "# Definir función para filtrar tokens por relevancia. En este caso los hiperparametros son 100 más comunes y 100 máximo por fila.\n",
    "def filter_relevant_tokens(tokens):\n",
    "    stop_words = set(stopwords.words('english'))\n",
    "    filtered = [token for token in tokens if token not in stop_words and len(token) > 3]\n",
    "    token_counts = Counter(filtered)\n",
    "    most_common_in_row = [word for word, _ in token_counts.most_common(100)]\n",
    "    return most_common_in_row[:100]\n",
    "\n",
    "# Aplicamos la función de filtrado a la columna 'tokens'\n",
    "data['filtered_tokens'] = data['tokens'].apply(filter_relevant_tokens)\n",
    "\n",
    "result_data = data[['id', 'title', 'vote_average', 'filtered_tokens']]\n",
    "\n",
    "print(result_data.head())\n"
   ]
  },
  {
   "cell_type": "code",
   "execution_count": 503,
   "metadata": {},
   "outputs": [
    {
     "name": "stdout",
     "output_type": "stream",
     "text": [
      "Total de palabras en la columna tokens: 1130898\n"
     ]
    }
   ],
   "source": [
    "total_palabras = data['filtered_tokens'].apply(len).sum()\n",
    "print(f'Total de palabras en la columna tokens: {total_palabras}')          # La reducción de palabras es sustancial +90%."
   ]
  },
  {
   "cell_type": "markdown",
   "metadata": {},
   "source": [
    "Total de palabras luego del filtrado = 1,130,898"
   ]
  },
  {
   "cell_type": "code",
   "execution_count": 504,
   "metadata": {},
   "outputs": [
    {
     "data": {
      "text/html": [
       "<div>\n",
       "<style scoped>\n",
       "    .dataframe tbody tr th:only-of-type {\n",
       "        vertical-align: middle;\n",
       "    }\n",
       "\n",
       "    .dataframe tbody tr th {\n",
       "        vertical-align: top;\n",
       "    }\n",
       "\n",
       "    .dataframe thead th {\n",
       "        text-align: right;\n",
       "    }\n",
       "</style>\n",
       "<table border=\"1\" class=\"dataframe\">\n",
       "  <thead>\n",
       "    <tr style=\"text-align: right;\">\n",
       "      <th></th>\n",
       "      <th>id</th>\n",
       "      <th>title</th>\n",
       "      <th>vote_average</th>\n",
       "      <th>tokens</th>\n",
       "      <th>filtered_tokens</th>\n",
       "    </tr>\n",
       "  </thead>\n",
       "  <tbody>\n",
       "    <tr>\n",
       "      <th>0</th>\n",
       "      <td>862</td>\n",
       "      <td>Toy Story</td>\n",
       "      <td>7.7</td>\n",
       "      <td>[led, woodi, andi, toy, live, happili, room, a...</td>\n",
       "      <td>[woodi, andi, buzz, live, happili, room, birth...</td>\n",
       "    </tr>\n",
       "    <tr>\n",
       "      <th>1</th>\n",
       "      <td>8844</td>\n",
       "      <td>Jumanji</td>\n",
       "      <td>6.9</td>\n",
       "      <td>[sibl, judi, peter, discov, enchant, board, ga...</td>\n",
       "      <td>[game, alan, sibl, judi, peter, discov, enchan...</td>\n",
       "    </tr>\n",
       "    <tr>\n",
       "      <th>2</th>\n",
       "      <td>15602</td>\n",
       "      <td>Grumpier Old Men</td>\n",
       "      <td>6.5</td>\n",
       "      <td>[famili, we, d, reignit, ancient, feud, nextdo...</td>\n",
       "      <td>[fish, local, famili, reignit, ancient, feud, ...</td>\n",
       "    </tr>\n",
       "    <tr>\n",
       "      <th>3</th>\n",
       "      <td>31357</td>\n",
       "      <td>Waiting to Exhale</td>\n",
       "      <td>6.1</td>\n",
       "      <td>[cheat, mistreat, step, women, hold, breath, w...</td>\n",
       "      <td>[breath, cheat, mistreat, step, women, hold, w...</td>\n",
       "    </tr>\n",
       "    <tr>\n",
       "      <th>4</th>\n",
       "      <td>11862</td>\n",
       "      <td>Father of the Bride Part II</td>\n",
       "      <td>5.7</td>\n",
       "      <td>[georg, bank, recov, daughter, we, d, receiv, ...</td>\n",
       "      <td>[georg, plan, bank, recov, daughter, receiv, n...</td>\n",
       "    </tr>\n",
       "    <tr>\n",
       "      <th>...</th>\n",
       "      <td>...</td>\n",
       "      <td>...</td>\n",
       "      <td>...</td>\n",
       "      <td>...</td>\n",
       "      <td>...</td>\n",
       "    </tr>\n",
       "    <tr>\n",
       "      <th>45361</th>\n",
       "      <td>30840</td>\n",
       "      <td>Robin Hood</td>\n",
       "      <td>5.7</td>\n",
       "      <td>[yet, anoth, version, classic, epic, enough, v...</td>\n",
       "      <td>[stori, anoth, version, classic, epic, enough,...</td>\n",
       "    </tr>\n",
       "    <tr>\n",
       "      <th>45362</th>\n",
       "      <td>111109</td>\n",
       "      <td>Century of Birthing</td>\n",
       "      <td>9.0</td>\n",
       "      <td>[artist, struggl, finish, work, storylin, cult...</td>\n",
       "      <td>[artist, struggl, finish, work, storylin, cult...</td>\n",
       "    </tr>\n",
       "    <tr>\n",
       "      <th>45363</th>\n",
       "      <td>67758</td>\n",
       "      <td>Betrayal</td>\n",
       "      <td>3.8</td>\n",
       "      <td>[one, hit, goe, wrong, profession, assassin, e...</td>\n",
       "      <td>[wrong, profession, assassin, suitcas, full, m...</td>\n",
       "    </tr>\n",
       "    <tr>\n",
       "      <th>45364</th>\n",
       "      <td>227506</td>\n",
       "      <td>Satan Triumphant</td>\n",
       "      <td>0.0</td>\n",
       "      <td>[small, town, live, two, brother, one, minist,...</td>\n",
       "      <td>[minist, stranger, live, brother, chapel, smal...</td>\n",
       "    </tr>\n",
       "    <tr>\n",
       "      <th>45365</th>\n",
       "      <td>461257</td>\n",
       "      <td>Queerama</td>\n",
       "      <td>0.0</td>\n",
       "      <td>[year, decriminalis, homosexu, uk, director, d...</td>\n",
       "      <td>[year, decriminalis, homosexu, director, daisi...</td>\n",
       "    </tr>\n",
       "  </tbody>\n",
       "</table>\n",
       "<p>45366 rows × 5 columns</p>\n",
       "</div>"
      ],
      "text/plain": [
       "           id                        title  vote_average  \\\n",
       "0         862                    Toy Story           7.7   \n",
       "1        8844                      Jumanji           6.9   \n",
       "2       15602             Grumpier Old Men           6.5   \n",
       "3       31357            Waiting to Exhale           6.1   \n",
       "4       11862  Father of the Bride Part II           5.7   \n",
       "...       ...                          ...           ...   \n",
       "45361   30840                   Robin Hood           5.7   \n",
       "45362  111109          Century of Birthing           9.0   \n",
       "45363   67758                     Betrayal           3.8   \n",
       "45364  227506             Satan Triumphant           0.0   \n",
       "45365  461257                     Queerama           0.0   \n",
       "\n",
       "                                                  tokens  \\\n",
       "0      [led, woodi, andi, toy, live, happili, room, a...   \n",
       "1      [sibl, judi, peter, discov, enchant, board, ga...   \n",
       "2      [famili, we, d, reignit, ancient, feud, nextdo...   \n",
       "3      [cheat, mistreat, step, women, hold, breath, w...   \n",
       "4      [georg, bank, recov, daughter, we, d, receiv, ...   \n",
       "...                                                  ...   \n",
       "45361  [yet, anoth, version, classic, epic, enough, v...   \n",
       "45362  [artist, struggl, finish, work, storylin, cult...   \n",
       "45363  [one, hit, goe, wrong, profession, assassin, e...   \n",
       "45364  [small, town, live, two, brother, one, minist,...   \n",
       "45365  [year, decriminalis, homosexu, uk, director, d...   \n",
       "\n",
       "                                         filtered_tokens  \n",
       "0      [woodi, andi, buzz, live, happili, room, birth...  \n",
       "1      [game, alan, sibl, judi, peter, discov, enchan...  \n",
       "2      [fish, local, famili, reignit, ancient, feud, ...  \n",
       "3      [breath, cheat, mistreat, step, women, hold, w...  \n",
       "4      [georg, plan, bank, recov, daughter, receiv, n...  \n",
       "...                                                  ...  \n",
       "45361  [stori, anoth, version, classic, epic, enough,...  \n",
       "45362  [artist, struggl, finish, work, storylin, cult...  \n",
       "45363  [wrong, profession, assassin, suitcas, full, m...  \n",
       "45364  [minist, stranger, live, brother, chapel, smal...  \n",
       "45365  [year, decriminalis, homosexu, director, daisi...  \n",
       "\n",
       "[45366 rows x 5 columns]"
      ]
     },
     "execution_count": 504,
     "metadata": {},
     "output_type": "execute_result"
    }
   ],
   "source": [
    "data        # Listo para ser ingresado. "
   ]
  },
  {
   "cell_type": "code",
   "execution_count": 505,
   "metadata": {},
   "outputs": [
    {
     "name": "stderr",
     "output_type": "stream",
     "text": [
      "C:\\Users\\Aleja\\AppData\\Local\\Temp\\ipykernel_8204\\785919287.py:1: SettingWithCopyWarning: \n",
      "A value is trying to be set on a copy of a slice from a DataFrame\n",
      "\n",
      "See the caveats in the documentation: https://pandas.pydata.org/pandas-docs/stable/user_guide/indexing.html#returning-a-view-versus-a-copy\n",
      "  data.rename(columns={\"filtered_tokens\": \"TokensLista\"}, inplace=True)\n"
     ]
    }
   ],
   "source": [
    "data.rename(columns={\"filtered_tokens\": \"TokensLista\"}, inplace=True)"
   ]
  },
  {
   "cell_type": "markdown",
   "metadata": {},
   "source": [
    "Guarda del Archivo data_reduction CSV"
   ]
  },
  {
   "cell_type": "code",
   "execution_count": 506,
   "metadata": {},
   "outputs": [],
   "source": [
    "data.to_csv(\"datasets\\\\DataReduction.csv\",index=False)"
   ]
  },
  {
   "cell_type": "code",
   "execution_count": 507,
   "metadata": {},
   "outputs": [
    {
     "data": {
      "text/html": [
       "<div>\n",
       "<style scoped>\n",
       "    .dataframe tbody tr th:only-of-type {\n",
       "        vertical-align: middle;\n",
       "    }\n",
       "\n",
       "    .dataframe tbody tr th {\n",
       "        vertical-align: top;\n",
       "    }\n",
       "\n",
       "    .dataframe thead th {\n",
       "        text-align: right;\n",
       "    }\n",
       "</style>\n",
       "<table border=\"1\" class=\"dataframe\">\n",
       "  <thead>\n",
       "    <tr style=\"text-align: right;\">\n",
       "      <th></th>\n",
       "      <th>id</th>\n",
       "      <th>title</th>\n",
       "      <th>vote_average</th>\n",
       "      <th>tokens</th>\n",
       "      <th>TokensLista</th>\n",
       "    </tr>\n",
       "  </thead>\n",
       "  <tbody>\n",
       "    <tr>\n",
       "      <th>0</th>\n",
       "      <td>862</td>\n",
       "      <td>Toy Story</td>\n",
       "      <td>7.7</td>\n",
       "      <td>[led, woodi, andi, toy, live, happili, room, a...</td>\n",
       "      <td>[woodi, andi, buzz, live, happili, room, birth...</td>\n",
       "    </tr>\n",
       "    <tr>\n",
       "      <th>1</th>\n",
       "      <td>8844</td>\n",
       "      <td>Jumanji</td>\n",
       "      <td>6.9</td>\n",
       "      <td>[sibl, judi, peter, discov, enchant, board, ga...</td>\n",
       "      <td>[game, alan, sibl, judi, peter, discov, enchan...</td>\n",
       "    </tr>\n",
       "    <tr>\n",
       "      <th>2</th>\n",
       "      <td>15602</td>\n",
       "      <td>Grumpier Old Men</td>\n",
       "      <td>6.5</td>\n",
       "      <td>[famili, we, d, reignit, ancient, feud, nextdo...</td>\n",
       "      <td>[fish, local, famili, reignit, ancient, feud, ...</td>\n",
       "    </tr>\n",
       "    <tr>\n",
       "      <th>3</th>\n",
       "      <td>31357</td>\n",
       "      <td>Waiting to Exhale</td>\n",
       "      <td>6.1</td>\n",
       "      <td>[cheat, mistreat, step, women, hold, breath, w...</td>\n",
       "      <td>[breath, cheat, mistreat, step, women, hold, w...</td>\n",
       "    </tr>\n",
       "    <tr>\n",
       "      <th>4</th>\n",
       "      <td>11862</td>\n",
       "      <td>Father of the Bride Part II</td>\n",
       "      <td>5.7</td>\n",
       "      <td>[georg, bank, recov, daughter, we, d, receiv, ...</td>\n",
       "      <td>[georg, plan, bank, recov, daughter, receiv, n...</td>\n",
       "    </tr>\n",
       "    <tr>\n",
       "      <th>...</th>\n",
       "      <td>...</td>\n",
       "      <td>...</td>\n",
       "      <td>...</td>\n",
       "      <td>...</td>\n",
       "      <td>...</td>\n",
       "    </tr>\n",
       "    <tr>\n",
       "      <th>45361</th>\n",
       "      <td>30840</td>\n",
       "      <td>Robin Hood</td>\n",
       "      <td>5.7</td>\n",
       "      <td>[yet, anoth, version, classic, epic, enough, v...</td>\n",
       "      <td>[stori, anoth, version, classic, epic, enough,...</td>\n",
       "    </tr>\n",
       "    <tr>\n",
       "      <th>45362</th>\n",
       "      <td>111109</td>\n",
       "      <td>Century of Birthing</td>\n",
       "      <td>9.0</td>\n",
       "      <td>[artist, struggl, finish, work, storylin, cult...</td>\n",
       "      <td>[artist, struggl, finish, work, storylin, cult...</td>\n",
       "    </tr>\n",
       "    <tr>\n",
       "      <th>45363</th>\n",
       "      <td>67758</td>\n",
       "      <td>Betrayal</td>\n",
       "      <td>3.8</td>\n",
       "      <td>[one, hit, goe, wrong, profession, assassin, e...</td>\n",
       "      <td>[wrong, profession, assassin, suitcas, full, m...</td>\n",
       "    </tr>\n",
       "    <tr>\n",
       "      <th>45364</th>\n",
       "      <td>227506</td>\n",
       "      <td>Satan Triumphant</td>\n",
       "      <td>0.0</td>\n",
       "      <td>[small, town, live, two, brother, one, minist,...</td>\n",
       "      <td>[minist, stranger, live, brother, chapel, smal...</td>\n",
       "    </tr>\n",
       "    <tr>\n",
       "      <th>45365</th>\n",
       "      <td>461257</td>\n",
       "      <td>Queerama</td>\n",
       "      <td>0.0</td>\n",
       "      <td>[year, decriminalis, homosexu, uk, director, d...</td>\n",
       "      <td>[year, decriminalis, homosexu, director, daisi...</td>\n",
       "    </tr>\n",
       "  </tbody>\n",
       "</table>\n",
       "<p>45366 rows × 5 columns</p>\n",
       "</div>"
      ],
      "text/plain": [
       "           id                        title  vote_average  \\\n",
       "0         862                    Toy Story           7.7   \n",
       "1        8844                      Jumanji           6.9   \n",
       "2       15602             Grumpier Old Men           6.5   \n",
       "3       31357            Waiting to Exhale           6.1   \n",
       "4       11862  Father of the Bride Part II           5.7   \n",
       "...       ...                          ...           ...   \n",
       "45361   30840                   Robin Hood           5.7   \n",
       "45362  111109          Century of Birthing           9.0   \n",
       "45363   67758                     Betrayal           3.8   \n",
       "45364  227506             Satan Triumphant           0.0   \n",
       "45365  461257                     Queerama           0.0   \n",
       "\n",
       "                                                  tokens  \\\n",
       "0      [led, woodi, andi, toy, live, happili, room, a...   \n",
       "1      [sibl, judi, peter, discov, enchant, board, ga...   \n",
       "2      [famili, we, d, reignit, ancient, feud, nextdo...   \n",
       "3      [cheat, mistreat, step, women, hold, breath, w...   \n",
       "4      [georg, bank, recov, daughter, we, d, receiv, ...   \n",
       "...                                                  ...   \n",
       "45361  [yet, anoth, version, classic, epic, enough, v...   \n",
       "45362  [artist, struggl, finish, work, storylin, cult...   \n",
       "45363  [one, hit, goe, wrong, profession, assassin, e...   \n",
       "45364  [small, town, live, two, brother, one, minist,...   \n",
       "45365  [year, decriminalis, homosexu, uk, director, d...   \n",
       "\n",
       "                                             TokensLista  \n",
       "0      [woodi, andi, buzz, live, happili, room, birth...  \n",
       "1      [game, alan, sibl, judi, peter, discov, enchan...  \n",
       "2      [fish, local, famili, reignit, ancient, feud, ...  \n",
       "3      [breath, cheat, mistreat, step, women, hold, w...  \n",
       "4      [georg, plan, bank, recov, daughter, receiv, n...  \n",
       "...                                                  ...  \n",
       "45361  [stori, anoth, version, classic, epic, enough,...  \n",
       "45362  [artist, struggl, finish, work, storylin, cult...  \n",
       "45363  [wrong, profession, assassin, suitcas, full, m...  \n",
       "45364  [minist, stranger, live, brother, chapel, smal...  \n",
       "45365  [year, decriminalis, homosexu, director, daisi...  \n",
       "\n",
       "[45366 rows x 5 columns]"
      ]
     },
     "execution_count": 507,
     "metadata": {},
     "output_type": "execute_result"
    }
   ],
   "source": [
    "data"
   ]
  },
  {
   "cell_type": "code",
   "execution_count": 508,
   "metadata": {},
   "outputs": [
    {
     "data": {
      "text/plain": [
       "list"
      ]
     },
     "execution_count": 508,
     "metadata": {},
     "output_type": "execute_result"
    }
   ],
   "source": [
    "type(data[\"TokensLista\"][0])"
   ]
  },
  {
   "cell_type": "code",
   "execution_count": 509,
   "metadata": {},
   "outputs": [],
   "source": [
    "data = pd.read_csv(\"datasets\\\\DataReduction.csv\")"
   ]
  },
  {
   "cell_type": "markdown",
   "metadata": {},
   "source": [
    "Último ajuste previo a la función, el tipo de dato a trabajar es fundamental. Por eso el dolor de cabeza."
   ]
  },
  {
   "cell_type": "code",
   "execution_count": 510,
   "metadata": {},
   "outputs": [
    {
     "name": "stdout",
     "output_type": "stream",
     "text": [
      "object\n",
      "TokensLista\n",
      "<class 'list'>    45366\n",
      "Name: count, dtype: int64\n"
     ]
    }
   ],
   "source": [
    "#Verifica el tipo de dato en 'TokensLista'\n",
    "print(data['TokensLista'].dtype)\n",
    "\n",
    "# Si 'TokensLista' contiene cadenas que representan listas, conviértelo a listas\n",
    "data['TokensLista'] = data['TokensLista'].apply(lambda x: ast.literal_eval(x) if isinstance(x, str) else x)\n",
    "\n",
    "# Ahora verifica que los elementos son listas\n",
    "print(data['TokensLista'].apply(type).value_counts())\n",
    "\n",
    "# Ahora podemos continuar con tu función\n",
    "data['TokensTexto'] = data['TokensLista'].apply(lambda x: ' '.join(x))"
   ]
  },
  {
   "cell_type": "code",
   "execution_count": 511,
   "metadata": {},
   "outputs": [],
   "source": [
    "titulo_ingresado=\"Toy Story\""
   ]
  },
  {
   "cell_type": "markdown",
   "metadata": {},
   "source": [
    "Definimos la Función de Recomendación"
   ]
  },
  {
   "cell_type": "code",
   "execution_count": 512,
   "metadata": {},
   "outputs": [
    {
     "name": "stdout",
     "output_type": "stream",
     "text": [
      "                        title  vote_average  similarity\n",
      "15337             Toy Story 3           7.6    0.267745\n",
      "2994              Toy Story 2           7.3    0.338044\n",
      "1252         My Life as a Dog           7.3    0.149189\n",
      "1945   The Incredible Journey           6.3    0.165916\n",
      "10932                The Wild           5.1    0.180675\n"
     ]
    },
    {
     "name": "stderr",
     "output_type": "stream",
     "text": [
      "C:\\Users\\Aleja\\AppData\\Local\\Temp\\ipykernel_8204\\3961621390.py:20: SettingWithCopyWarning: \n",
      "A value is trying to be set on a copy of a slice from a DataFrame.\n",
      "Try using .loc[row_indexer,col_indexer] = value instead\n",
      "\n",
      "See the caveats in the documentation: https://pandas.pydata.org/pandas-docs/stable/user_guide/indexing.html#returning-a-view-versus-a-copy\n",
      "  recommendations['similarity'] = cosine_similarities[recommendations_indices]\n"
     ]
    }
   ],
   "source": [
    "from sklearn.feature_extraction.text import TfidfVectorizer\n",
    "from sklearn.metrics.pairwise import cosine_similarity\n",
    "\n",
    "\n",
    "# Aplicar TfidfVectorizer\n",
    "tfidf_vectorizer = TfidfVectorizer(stop_words='english')\n",
    "tfidf_matrix = tfidf_vectorizer.fit_transform(data['TokensTexto'])\n",
    "\n",
    "# Obtener el índice de la película ingresada\n",
    "idx = data[data['title'] == titulo_ingresado].index[0]\n",
    "\n",
    "# Calcular la similitud\n",
    "cosine_similarities = cosine_similarity(tfidf_matrix[idx], tfidf_matrix).flatten()\n",
    "\n",
    "# Obtener las recomendaciones\n",
    "recommendations_indices = cosine_similarities.argsort()[-6:-1][::-1]  # 5 recomendaciones\n",
    "\n",
    "# Combina con el voto promedio\n",
    "recommendations = data.iloc[recommendations_indices]\n",
    "recommendations['similarity'] = cosine_similarities[recommendations_indices]\n",
    "recommendations = recommendations.sort_values(by='vote_average', ascending=False)\n",
    "\n",
    "print(recommendations[['title', 'vote_average', 'similarity']])"
   ]
  },
  {
   "cell_type": "markdown",
   "metadata": {},
   "source": [
    "Podría indicarle a la función que si recomienda una película con el mismo nombre, no lo haga dos veces. También limitar la impresión de similaridad. La considero apta como MVP."
   ]
  },
  {
   "cell_type": "markdown",
   "metadata": {},
   "source": [
    "# Conteo de pruebas realizadas."
   ]
  },
  {
   "cell_type": "markdown",
   "metadata": {},
   "source": [
    "1er prueba de ejecución de código completo satisfactoria ---> 23 minutos 26 segundos"
   ]
  },
  {
   "cell_type": "markdown",
   "metadata": {},
   "source": [
    "2da prueba de ejecución de código completo satisfactoria ---> 19 minutos 30 segundos"
   ]
  },
  {
   "cell_type": "markdown",
   "metadata": {},
   "source": [
    "3ra prueba, código modificado ---> 12 Minutos"
   ]
  },
  {
   "cell_type": "markdown",
   "metadata": {},
   "source": [
    "4ta prueba, código modificado ---> 16-17 Minutos"
   ]
  }
 ],
 "metadata": {
  "kernelspec": {
   "display_name": "Python 3",
   "language": "python",
   "name": "python3"
  },
  "language_info": {
   "codemirror_mode": {
    "name": "ipython",
    "version": 3
   },
   "file_extension": ".py",
   "mimetype": "text/x-python",
   "name": "python",
   "nbconvert_exporter": "python",
   "pygments_lexer": "ipython3",
   "version": "3.12.3"
  }
 },
 "nbformat": 4,
 "nbformat_minor": 2
}
